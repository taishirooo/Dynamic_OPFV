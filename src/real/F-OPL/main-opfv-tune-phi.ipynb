{
 "cells": [
  {
   "cell_type": "code",
   "execution_count": 1,
   "metadata": {},
   "outputs": [],
   "source": [
    "%reload_ext autoreload\n",
    "%autoreload 2"
   ]
  },
  {
   "cell_type": "code",
   "execution_count": 2,
   "metadata": {},
   "outputs": [],
   "source": [
    "import time\n",
    "import torch\n",
    "import pandas as pd\n",
    "from sklearn.utils import check_random_state\n",
    "from opl import OPL, evaluate_OPL_algorithm, OPL_OPFV_tune_phi\n",
    "import warnings\n",
    "warnings.filterwarnings('ignore')\n",
    "import conf\n",
    "from tqdm import tqdm\n",
    "from preprocess import pre_process\n",
    "from logging import getLogger\n",
    "from pathlib import Path"
   ]
  },
  {
   "cell_type": "code",
   "execution_count": 3,
   "metadata": {},
   "outputs": [],
   "source": [
    "time_whole_execution_start = time.time() "
   ]
  },
  {
   "cell_type": "code",
   "execution_count": 4,
   "metadata": {},
   "outputs": [
    {
     "name": "stderr",
     "output_type": "stream",
     "text": [
      "INFO:__main__:The current working directory is /Users/a81808/document/OPFV/icml2024-opfv/src-optimize-phi/real/F-OPL-newest\n"
     ]
    }
   ],
   "source": [
    "logger = getLogger(__name__)\n",
    "logger.info(f\"The current working directory is {Path().cwd()}\")\n",
    "\n",
    "# log path\n",
    "log_path = Path(\"./real_data\")\n",
    "df_path = log_path / \"df\"\n",
    "df_path.mkdir(exist_ok=True, parents=True)"
   ]
  },
  {
   "cell_type": "code",
   "execution_count": 5,
   "metadata": {},
   "outputs": [
    {
     "name": "stdout",
     "output_type": "stream",
     "text": [
      "Loading big matrix...\n",
      "Loading small matrix...\n",
      "Loading social network...\n",
      "Loading item features...\n",
      "Loading user features...\n",
      "Loading items' daily features...\n",
      "All data loaded.\n"
     ]
    }
   ],
   "source": [
    "# If you are running locally, make sure you are in the directory of KuaiRec.\n",
    "rootpath=\"../../../../KuaiRec/\"\n",
    "\n",
    "# Read the CSV files\n",
    "print(\"Loading big matrix...\")\n",
    "big_matrix = pd.read_csv(rootpath + \"data/big_matrix.csv\")\n",
    "print(\"Loading small matrix...\")\n",
    "small_matrix = pd.read_csv(rootpath + \"data/small_matrix.csv\")\n",
    "\n",
    "print(\"Loading social network...\")\n",
    "social_network = pd.read_csv(rootpath + \"data/social_network.csv\")\n",
    "social_network[\"friend_list\"] = social_network[\"friend_list\"].map(eval)\n",
    "\n",
    "print(\"Loading item features...\")\n",
    "item_categories = pd.read_csv(rootpath + \"data/item_categories.csv\")\n",
    "item_categories[\"feat\"] = item_categories[\"feat\"].map(eval)\n",
    "\n",
    "print(\"Loading user features...\")\n",
    "user_features = pd.read_csv(rootpath + \"data/user_features.csv\")\n",
    "\n",
    "print(\"Loading items' daily features...\")\n",
    "item_daily_features = pd.read_csv(rootpath + \"data/item_daily_features.csv\")\n",
    "\n",
    "print(\"All data loaded.\")"
   ]
  },
  {
   "cell_type": "code",
   "execution_count": 6,
   "metadata": {},
   "outputs": [
    {
     "name": "stderr",
     "output_type": "stream",
     "text": [
      "  0%|          | 0/10 [00:00<?, ?it/s]"
     ]
    },
    {
     "name": "stdout",
     "output_type": "stream",
     "text": [
      "\n",
      "############################################### START of ROUND 1/10 ###############################################\n",
      "\n",
      "#################### START of preprocessing ####################\n",
      "Maximum number of unique actions that we can use for training and test data = 2547\n",
      "Execution time of preprocess_item_categories = 0.006 mins\n",
      "Executing preprocess_item_daily_features\n",
      "Execution time for preprocess_item_daily_features = 1.304 mins\n",
      "Executing preprocess_user_features\n",
      "Execution time for preprocess_user_features = 0.002 mins\n",
      "Executing reduce_the_dim_context\n",
      "The dimension of the original context = 131\n",
      "The dimension of the context after PCA = 60\n",
      "The cumularive explained variance for the dimension of context is 0.736\n",
      "Execution time for educe_the_dim_context = 0.041 mins\n",
      "Executing reduce_the_dim_action_context\n",
      "The dimension of the original action context = 619\n",
      "The dimension of the action context after PCA = 40\n",
      "The cumularive explained variance for the dimension of action context is 0.780\n",
      "Execution time for reduce_the_dim_action_context = 0.121 mins\n",
      "Executing create_behavior_and_evaluation_policy_and_pscore\n",
      "Execution time for create_behavior_and_evaluation_policy_and_pscore = 1.140 mins\n",
      "The number of the training data = 148596\n",
      "The number of the test data = 40179\n",
      "Number of actions in dataset |A| = 100\n",
      "\n",
      "Executing create_expected_reward\n",
      "RegressionModelTimeTrue fitting and predition for training data time = 0.602 mins\n",
      "RegressionModelTimeTrue fitting and predition for test data time = 0.124 mins\n",
      "Execution time for create_expected_reward = 0.728 mins\n",
      "#################### END of preprocessing ####################\n",
      "\n",
      "Execution time for preprocessing = 3.472 mins\n",
      "\n",
      "#################### START of OPL ####################\n",
      "RegressionModelTimeStructure fitting and predition time = 0.570 mins\n"
     ]
    },
    {
     "name": "stderr",
     "output_type": "stream",
     "text": []
    },
    {
     "name": "stdout",
     "output_type": "stream",
     "text": [
      "Execution time for iter 1/25 in OPFV = 13.287 mins\n"
     ]
    },
    {
     "name": "stderr",
     "output_type": "stream",
     "text": []
    },
    {
     "name": "stdout",
     "output_type": "stream",
     "text": [
      "Execution time for iter 2/25 in OPFV = 13.177 mins\n"
     ]
    },
    {
     "name": "stderr",
     "output_type": "stream",
     "text": []
    },
    {
     "name": "stdout",
     "output_type": "stream",
     "text": [
      "Execution time for iter 3/25 in OPFV = 13.232 mins\n"
     ]
    },
    {
     "name": "stderr",
     "output_type": "stream",
     "text": []
    },
    {
     "name": "stdout",
     "output_type": "stream",
     "text": [
      "Execution time for iter 4/25 in OPFV = 13.196 mins\n"
     ]
    },
    {
     "name": "stderr",
     "output_type": "stream",
     "text": []
    },
    {
     "name": "stdout",
     "output_type": "stream",
     "text": [
      "Execution time for iter 5/25 in OPFV = 13.252 mins\n"
     ]
    },
    {
     "name": "stderr",
     "output_type": "stream",
     "text": []
    },
    {
     "name": "stdout",
     "output_type": "stream",
     "text": [
      "Execution time for iter 6/25 in OPFV = 13.289 mins\n"
     ]
    },
    {
     "name": "stderr",
     "output_type": "stream",
     "text": []
    },
    {
     "name": "stdout",
     "output_type": "stream",
     "text": [
      "Execution time for iter 7/25 in OPFV = 13.230 mins\n"
     ]
    },
    {
     "name": "stderr",
     "output_type": "stream",
     "text": []
    },
    {
     "name": "stdout",
     "output_type": "stream",
     "text": [
      "Execution time for iter 8/25 in OPFV = 13.219 mins\n"
     ]
    },
    {
     "name": "stderr",
     "output_type": "stream",
     "text": []
    },
    {
     "name": "stdout",
     "output_type": "stream",
     "text": [
      "Execution time for iter 9/25 in OPFV = 13.182 mins\n"
     ]
    },
    {
     "name": "stderr",
     "output_type": "stream",
     "text": []
    },
    {
     "name": "stdout",
     "output_type": "stream",
     "text": [
      "Execution time for iter 10/25 in OPFV = 13.016 mins\n"
     ]
    },
    {
     "name": "stderr",
     "output_type": "stream",
     "text": []
    },
    {
     "name": "stdout",
     "output_type": "stream",
     "text": [
      "Execution time for iter 11/25 in OPFV = 13.026 mins\n"
     ]
    },
    {
     "name": "stderr",
     "output_type": "stream",
     "text": []
    },
    {
     "name": "stdout",
     "output_type": "stream",
     "text": [
      "Execution time for iter 12/25 in OPFV = 13.010 mins\n"
     ]
    },
    {
     "name": "stderr",
     "output_type": "stream",
     "text": []
    },
    {
     "name": "stdout",
     "output_type": "stream",
     "text": [
      "Execution time for iter 13/25 in OPFV = 13.144 mins\n"
     ]
    },
    {
     "name": "stderr",
     "output_type": "stream",
     "text": []
    },
    {
     "name": "stdout",
     "output_type": "stream",
     "text": [
      "Execution time for iter 14/25 in OPFV = 13.080 mins\n"
     ]
    },
    {
     "name": "stderr",
     "output_type": "stream",
     "text": []
    },
    {
     "name": "stdout",
     "output_type": "stream",
     "text": [
      "Execution time for iter 15/25 in OPFV = 13.252 mins\n"
     ]
    },
    {
     "name": "stderr",
     "output_type": "stream",
     "text": []
    },
    {
     "name": "stdout",
     "output_type": "stream",
     "text": [
      "Execution time for iter 16/25 in OPFV = 13.315 mins\n"
     ]
    },
    {
     "name": "stderr",
     "output_type": "stream",
     "text": []
    },
    {
     "name": "stdout",
     "output_type": "stream",
     "text": [
      "Execution time for iter 17/25 in OPFV = 13.162 mins\n"
     ]
    },
    {
     "name": "stderr",
     "output_type": "stream",
     "text": []
    },
    {
     "name": "stdout",
     "output_type": "stream",
     "text": [
      "Execution time for iter 18/25 in OPFV = 13.180 mins\n"
     ]
    },
    {
     "name": "stderr",
     "output_type": "stream",
     "text": []
    },
    {
     "name": "stdout",
     "output_type": "stream",
     "text": [
      "Execution time for iter 19/25 in OPFV = 13.218 mins\n"
     ]
    },
    {
     "name": "stderr",
     "output_type": "stream",
     "text": []
    },
    {
     "name": "stdout",
     "output_type": "stream",
     "text": [
      "Execution time for iter 20/25 in OPFV = 13.239 mins\n"
     ]
    },
    {
     "name": "stderr",
     "output_type": "stream",
     "text": []
    },
    {
     "name": "stdout",
     "output_type": "stream",
     "text": [
      "Execution time for iter 21/25 in OPFV = 13.213 mins\n"
     ]
    },
    {
     "name": "stderr",
     "output_type": "stream",
     "text": []
    },
    {
     "name": "stdout",
     "output_type": "stream",
     "text": [
      "Execution time for iter 22/25 in OPFV = 13.194 mins\n"
     ]
    },
    {
     "name": "stderr",
     "output_type": "stream",
     "text": []
    },
    {
     "name": "stdout",
     "output_type": "stream",
     "text": [
      "Execution time for iter 23/25 in OPFV = 13.179 mins\n"
     ]
    },
    {
     "name": "stderr",
     "output_type": "stream",
     "text": []
    },
    {
     "name": "stdout",
     "output_type": "stream",
     "text": [
      "Execution time for iter 24/25 in OPFV = 13.222 mins\n"
     ]
    },
    {
     "name": "stderr",
     "output_type": "stream",
     "text": [
      "100%|██████████| 25/25 [5:29:44<00:00, 791.38s/it]\n",
      " 10%|█         | 1/10 [5:33:47<50:04:03, 20027.06s/it]"
     ]
    },
    {
     "name": "stdout",
     "output_type": "stream",
     "text": [
      "Execution time for iter 25/25 in OPFV = 13.226 mins\n",
      "OPFV (tuned) exectution time = 329.742 mins\n",
      "Execution time for OPL: 330.312 mins\n",
      "#################### END of OPL ####################\n",
      "\n",
      "ROUND 1/10: test_policy_value_list_DM = {'pi_b': 0.941037128827863, 'opfv (tuned)': 1.0437826671901833}\n",
      "ROUND 1/10: test_policy_value_list_IPS = {'pi_b': 0.8987712526299668, 'opfv (tuned)': 0.7688803548800757}\n",
      "ROUND 1/10: test_policy_value_list_SNIPS = {'pi_b': 0.8987712526299668, 'opfv (tuned)': 1.0060234964626154}\n",
      "ROUND 1/10: test_policy_value_list_SNDR = {'pi_b': 0.9101919220640172, 'opfv (tuned)': 0.9811716901993927}\n",
      "############################################### END of ROUND 1/10 ###############################################\n",
      "\n",
      "\n",
      "\n",
      "\n",
      "############################################### START of ROUND 2/10 ###############################################\n",
      "\n",
      "#################### START of preprocessing ####################\n",
      "Maximum number of unique actions that we can use for training and test data = 2547\n",
      "Execution time of preprocess_item_categories = 0.006 mins\n",
      "Executing preprocess_item_daily_features\n",
      "Execution time for preprocess_item_daily_features = 1.073 mins\n",
      "Executing preprocess_user_features\n",
      "Execution time for preprocess_user_features = 0.002 mins\n",
      "Executing reduce_the_dim_context\n",
      "The dimension of the original context = 131\n",
      "The dimension of the context after PCA = 60\n",
      "The cumularive explained variance for the dimension of context is 0.736\n",
      "Execution time for educe_the_dim_context = 0.032 mins\n",
      "Executing reduce_the_dim_action_context\n",
      "The dimension of the original action context = 619\n",
      "The dimension of the action context after PCA = 40\n",
      "The cumularive explained variance for the dimension of action context is 0.735\n",
      "Execution time for reduce_the_dim_action_context = 0.098 mins\n",
      "Executing create_behavior_and_evaluation_policy_and_pscore\n",
      "Execution time for create_behavior_and_evaluation_policy_and_pscore = 1.317 mins\n",
      "The number of the training data = 129122\n",
      "The number of the test data = 38283\n",
      "Number of actions in dataset |A| = 100\n",
      "\n",
      "Executing create_expected_reward\n",
      "RegressionModelTimeTrue fitting and predition for training data time = 0.497 mins\n",
      "RegressionModelTimeTrue fitting and predition for test data time = 0.110 mins\n",
      "Execution time for create_expected_reward = 0.609 mins\n",
      "#################### END of preprocessing ####################\n",
      "\n",
      "Execution time for preprocessing = 3.262 mins\n",
      "\n",
      "#################### START of OPL ####################\n",
      "RegressionModelTimeStructure fitting and predition time = 0.479 mins\n"
     ]
    },
    {
     "name": "stderr",
     "output_type": "stream",
     "text": []
    },
    {
     "name": "stdout",
     "output_type": "stream",
     "text": [
      "Execution time for iter 1/25 in OPFV = 11.247 mins\n"
     ]
    },
    {
     "name": "stderr",
     "output_type": "stream",
     "text": []
    },
    {
     "name": "stdout",
     "output_type": "stream",
     "text": [
      "Execution time for iter 2/25 in OPFV = 11.208 mins\n"
     ]
    },
    {
     "name": "stderr",
     "output_type": "stream",
     "text": []
    },
    {
     "name": "stdout",
     "output_type": "stream",
     "text": [
      "Execution time for iter 3/25 in OPFV = 11.271 mins\n"
     ]
    },
    {
     "name": "stderr",
     "output_type": "stream",
     "text": []
    },
    {
     "name": "stdout",
     "output_type": "stream",
     "text": [
      "Execution time for iter 4/25 in OPFV = 11.304 mins\n"
     ]
    },
    {
     "name": "stderr",
     "output_type": "stream",
     "text": []
    },
    {
     "name": "stdout",
     "output_type": "stream",
     "text": [
      "Execution time for iter 5/25 in OPFV = 11.296 mins\n"
     ]
    },
    {
     "name": "stderr",
     "output_type": "stream",
     "text": []
    },
    {
     "name": "stdout",
     "output_type": "stream",
     "text": [
      "Execution time for iter 6/25 in OPFV = 11.301 mins\n"
     ]
    },
    {
     "name": "stderr",
     "output_type": "stream",
     "text": []
    },
    {
     "name": "stdout",
     "output_type": "stream",
     "text": [
      "Execution time for iter 7/25 in OPFV = 11.305 mins\n"
     ]
    },
    {
     "name": "stderr",
     "output_type": "stream",
     "text": []
    },
    {
     "name": "stdout",
     "output_type": "stream",
     "text": [
      "Execution time for iter 8/25 in OPFV = 11.323 mins\n"
     ]
    },
    {
     "name": "stderr",
     "output_type": "stream",
     "text": []
    },
    {
     "name": "stdout",
     "output_type": "stream",
     "text": [
      "Execution time for iter 9/25 in OPFV = 11.246 mins\n"
     ]
    },
    {
     "name": "stderr",
     "output_type": "stream",
     "text": []
    },
    {
     "name": "stdout",
     "output_type": "stream",
     "text": [
      "Execution time for iter 10/25 in OPFV = 11.321 mins\n"
     ]
    },
    {
     "name": "stderr",
     "output_type": "stream",
     "text": []
    },
    {
     "name": "stdout",
     "output_type": "stream",
     "text": [
      "Execution time for iter 11/25 in OPFV = 11.250 mins\n"
     ]
    },
    {
     "name": "stderr",
     "output_type": "stream",
     "text": []
    },
    {
     "name": "stdout",
     "output_type": "stream",
     "text": [
      "Execution time for iter 12/25 in OPFV = 11.300 mins\n"
     ]
    },
    {
     "name": "stderr",
     "output_type": "stream",
     "text": []
    },
    {
     "name": "stdout",
     "output_type": "stream",
     "text": [
      "Execution time for iter 13/25 in OPFV = 11.317 mins\n"
     ]
    },
    {
     "name": "stderr",
     "output_type": "stream",
     "text": []
    },
    {
     "name": "stdout",
     "output_type": "stream",
     "text": [
      "Execution time for iter 14/25 in OPFV = 11.274 mins\n"
     ]
    },
    {
     "name": "stderr",
     "output_type": "stream",
     "text": []
    },
    {
     "name": "stdout",
     "output_type": "stream",
     "text": [
      "Execution time for iter 15/25 in OPFV = 11.338 mins\n"
     ]
    },
    {
     "name": "stderr",
     "output_type": "stream",
     "text": []
    },
    {
     "name": "stdout",
     "output_type": "stream",
     "text": [
      "Execution time for iter 16/25 in OPFV = 11.253 mins\n"
     ]
    },
    {
     "name": "stderr",
     "output_type": "stream",
     "text": []
    },
    {
     "name": "stdout",
     "output_type": "stream",
     "text": [
      "Execution time for iter 17/25 in OPFV = 11.322 mins\n"
     ]
    },
    {
     "name": "stderr",
     "output_type": "stream",
     "text": []
    },
    {
     "name": "stdout",
     "output_type": "stream",
     "text": [
      "Execution time for iter 18/25 in OPFV = 11.257 mins\n"
     ]
    },
    {
     "name": "stderr",
     "output_type": "stream",
     "text": []
    },
    {
     "name": "stdout",
     "output_type": "stream",
     "text": [
      "Execution time for iter 19/25 in OPFV = 11.296 mins\n"
     ]
    },
    {
     "name": "stderr",
     "output_type": "stream",
     "text": []
    },
    {
     "name": "stdout",
     "output_type": "stream",
     "text": [
      "Execution time for iter 20/25 in OPFV = 11.298 mins\n"
     ]
    },
    {
     "name": "stderr",
     "output_type": "stream",
     "text": []
    },
    {
     "name": "stdout",
     "output_type": "stream",
     "text": [
      "Execution time for iter 21/25 in OPFV = 11.298 mins\n"
     ]
    },
    {
     "name": "stderr",
     "output_type": "stream",
     "text": []
    },
    {
     "name": "stdout",
     "output_type": "stream",
     "text": [
      "Execution time for iter 22/25 in OPFV = 11.291 mins\n"
     ]
    },
    {
     "name": "stderr",
     "output_type": "stream",
     "text": []
    },
    {
     "name": "stdout",
     "output_type": "stream",
     "text": [
      "Execution time for iter 23/25 in OPFV = 11.232 mins\n"
     ]
    },
    {
     "name": "stderr",
     "output_type": "stream",
     "text": []
    },
    {
     "name": "stdout",
     "output_type": "stream",
     "text": [
      "Execution time for iter 24/25 in OPFV = 11.269 mins\n"
     ]
    },
    {
     "name": "stderr",
     "output_type": "stream",
     "text": [
      "100%|██████████| 25/25 [4:42:06<00:00, 677.06s/it]\n",
      " 20%|██        | 2/10 [10:19:38<40:44:42, 18335.28s/it]"
     ]
    },
    {
     "name": "stdout",
     "output_type": "stream",
     "text": [
      "Execution time for iter 25/25 in OPFV = 11.291 mins\n",
      "OPFV (tuned) exectution time = 282.109 mins\n",
      "Execution time for OPL: 282.588 mins\n",
      "#################### END of OPL ####################\n",
      "\n",
      "ROUND 2/10: test_policy_value_list_DM = {'pi_b': 0.9693236045334851, 'opfv (tuned)': 1.2628709744568185}\n",
      "ROUND 2/10: test_policy_value_list_IPS = {'pi_b': 0.9201302293023569, 'opfv (tuned)': 1.0811078800020473}\n",
      "ROUND 2/10: test_policy_value_list_SNIPS = {'pi_b': 0.9201302293023569, 'opfv (tuned)': 1.1234387805292954}\n",
      "ROUND 2/10: test_policy_value_list_SNDR = {'pi_b': 0.9363947569614581, 'opfv (tuned)': 1.2139522231627002}\n",
      "############################################### END of ROUND 2/10 ###############################################\n",
      "\n",
      "\n",
      "\n",
      "\n",
      "############################################### START of ROUND 3/10 ###############################################\n",
      "\n",
      "#################### START of preprocessing ####################\n",
      "Maximum number of unique actions that we can use for training and test data = 2547\n",
      "Execution time of preprocess_item_categories = 0.006 mins\n",
      "Executing preprocess_item_daily_features\n",
      "Execution time for preprocess_item_daily_features = 1.214 mins\n",
      "Executing preprocess_user_features\n",
      "Execution time for preprocess_user_features = 0.001 mins\n",
      "Executing reduce_the_dim_context\n",
      "The dimension of the original context = 131\n",
      "The dimension of the context after PCA = 60\n",
      "The cumularive explained variance for the dimension of context is 0.736\n",
      "Execution time for educe_the_dim_context = 0.028 mins\n",
      "Executing reduce_the_dim_action_context\n",
      "The dimension of the original action context = 619\n",
      "The dimension of the action context after PCA = 40\n",
      "The cumularive explained variance for the dimension of action context is 0.828\n",
      "Execution time for reduce_the_dim_action_context = 0.080 mins\n",
      "Executing create_behavior_and_evaluation_policy_and_pscore\n",
      "Execution time for create_behavior_and_evaluation_policy_and_pscore = 0.875 mins\n",
      "The number of the training data = 103342\n",
      "The number of the test data = 44212\n",
      "Number of actions in dataset |A| = 100\n",
      "\n",
      "Executing create_expected_reward\n",
      "RegressionModelTimeTrue fitting and predition for training data time = 0.349 mins\n",
      "RegressionModelTimeTrue fitting and predition for test data time = 0.133 mins\n",
      "Execution time for create_expected_reward = 0.484 mins\n",
      "#################### END of preprocessing ####################\n",
      "\n",
      "Execution time for preprocessing = 2.799 mins\n",
      "\n",
      "#################### START of OPL ####################\n",
      "RegressionModelTimeStructure fitting and predition time = 0.336 mins\n"
     ]
    },
    {
     "name": "stderr",
     "output_type": "stream",
     "text": []
    },
    {
     "name": "stdout",
     "output_type": "stream",
     "text": [
      "Execution time for iter 1/25 in OPFV = 8.946 mins\n"
     ]
    },
    {
     "name": "stderr",
     "output_type": "stream",
     "text": []
    },
    {
     "name": "stdout",
     "output_type": "stream",
     "text": [
      "Execution time for iter 2/25 in OPFV = 8.914 mins\n"
     ]
    },
    {
     "name": "stderr",
     "output_type": "stream",
     "text": []
    },
    {
     "name": "stdout",
     "output_type": "stream",
     "text": [
      "Execution time for iter 3/25 in OPFV = 8.917 mins\n"
     ]
    },
    {
     "name": "stderr",
     "output_type": "stream",
     "text": []
    },
    {
     "name": "stdout",
     "output_type": "stream",
     "text": [
      "Execution time for iter 4/25 in OPFV = 8.963 mins\n"
     ]
    },
    {
     "name": "stderr",
     "output_type": "stream",
     "text": []
    },
    {
     "name": "stdout",
     "output_type": "stream",
     "text": [
      "Execution time for iter 5/25 in OPFV = 8.948 mins\n"
     ]
    },
    {
     "name": "stderr",
     "output_type": "stream",
     "text": []
    },
    {
     "name": "stdout",
     "output_type": "stream",
     "text": [
      "Execution time for iter 6/25 in OPFV = 9.163 mins\n"
     ]
    },
    {
     "name": "stderr",
     "output_type": "stream",
     "text": []
    },
    {
     "name": "stdout",
     "output_type": "stream",
     "text": [
      "Execution time for iter 7/25 in OPFV = 9.156 mins\n"
     ]
    },
    {
     "name": "stderr",
     "output_type": "stream",
     "text": []
    },
    {
     "name": "stdout",
     "output_type": "stream",
     "text": [
      "Execution time for iter 8/25 in OPFV = 9.314 mins\n"
     ]
    },
    {
     "name": "stderr",
     "output_type": "stream",
     "text": []
    },
    {
     "name": "stdout",
     "output_type": "stream",
     "text": [
      "Execution time for iter 9/25 in OPFV = 9.208 mins\n"
     ]
    },
    {
     "name": "stderr",
     "output_type": "stream",
     "text": []
    },
    {
     "name": "stdout",
     "output_type": "stream",
     "text": [
      "Execution time for iter 10/25 in OPFV = 8.860 mins\n"
     ]
    },
    {
     "name": "stderr",
     "output_type": "stream",
     "text": []
    },
    {
     "name": "stdout",
     "output_type": "stream",
     "text": [
      "Execution time for iter 11/25 in OPFV = 8.806 mins\n"
     ]
    },
    {
     "name": "stderr",
     "output_type": "stream",
     "text": []
    },
    {
     "name": "stdout",
     "output_type": "stream",
     "text": [
      "Execution time for iter 12/25 in OPFV = 8.921 mins\n"
     ]
    },
    {
     "name": "stderr",
     "output_type": "stream",
     "text": []
    },
    {
     "name": "stdout",
     "output_type": "stream",
     "text": [
      "Execution time for iter 13/25 in OPFV = 8.989 mins\n"
     ]
    },
    {
     "name": "stderr",
     "output_type": "stream",
     "text": []
    },
    {
     "name": "stdout",
     "output_type": "stream",
     "text": [
      "Execution time for iter 14/25 in OPFV = 8.981 mins\n"
     ]
    },
    {
     "name": "stderr",
     "output_type": "stream",
     "text": []
    },
    {
     "name": "stdout",
     "output_type": "stream",
     "text": [
      "Execution time for iter 15/25 in OPFV = 8.896 mins\n"
     ]
    },
    {
     "name": "stderr",
     "output_type": "stream",
     "text": []
    },
    {
     "name": "stdout",
     "output_type": "stream",
     "text": [
      "Execution time for iter 16/25 in OPFV = 8.845 mins\n"
     ]
    },
    {
     "name": "stderr",
     "output_type": "stream",
     "text": []
    },
    {
     "name": "stdout",
     "output_type": "stream",
     "text": [
      "Execution time for iter 17/25 in OPFV = 9.286 mins\n"
     ]
    },
    {
     "name": "stderr",
     "output_type": "stream",
     "text": []
    },
    {
     "name": "stdout",
     "output_type": "stream",
     "text": [
      "Execution time for iter 18/25 in OPFV = 8.983 mins\n"
     ]
    },
    {
     "name": "stderr",
     "output_type": "stream",
     "text": []
    },
    {
     "name": "stdout",
     "output_type": "stream",
     "text": [
      "Execution time for iter 19/25 in OPFV = 9.013 mins\n"
     ]
    },
    {
     "name": "stderr",
     "output_type": "stream",
     "text": []
    },
    {
     "name": "stdout",
     "output_type": "stream",
     "text": [
      "Execution time for iter 20/25 in OPFV = 9.007 mins\n"
     ]
    },
    {
     "name": "stderr",
     "output_type": "stream",
     "text": []
    },
    {
     "name": "stdout",
     "output_type": "stream",
     "text": [
      "Execution time for iter 21/25 in OPFV = 8.957 mins\n"
     ]
    },
    {
     "name": "stderr",
     "output_type": "stream",
     "text": []
    },
    {
     "name": "stdout",
     "output_type": "stream",
     "text": [
      "Execution time for iter 22/25 in OPFV = 8.977 mins\n"
     ]
    },
    {
     "name": "stderr",
     "output_type": "stream",
     "text": []
    },
    {
     "name": "stdout",
     "output_type": "stream",
     "text": [
      "Execution time for iter 23/25 in OPFV = 8.943 mins\n"
     ]
    },
    {
     "name": "stderr",
     "output_type": "stream",
     "text": []
    },
    {
     "name": "stdout",
     "output_type": "stream",
     "text": [
      "Execution time for iter 24/25 in OPFV = 8.991 mins\n"
     ]
    },
    {
     "name": "stderr",
     "output_type": "stream",
     "text": [
      "100%|██████████| 25/25 [3:44:55<00:00, 539.81s/it]\n",
      " 30%|███       | 3/10 [14:07:41<31:31:17, 16211.12s/it]"
     ]
    },
    {
     "name": "stdout",
     "output_type": "stream",
     "text": [
      "Execution time for iter 25/25 in OPFV = 8.935 mins\n",
      "OPFV (tuned) exectution time = 224.921 mins\n",
      "Execution time for OPL: 225.257 mins\n",
      "#################### END of OPL ####################\n",
      "\n",
      "ROUND 3/10: test_policy_value_list_DM = {'pi_b': 1.0638677750912178, 'opfv (tuned)': 1.5268852225564373}\n",
      "ROUND 3/10: test_policy_value_list_IPS = {'pi_b': 1.0111085283446324, 'opfv (tuned)': 1.4648905277558437}\n",
      "ROUND 3/10: test_policy_value_list_SNIPS = {'pi_b': 1.0111085283446324, 'opfv (tuned)': 1.490655946630267}\n",
      "ROUND 3/10: test_policy_value_list_SNDR = {'pi_b': 1.0199429983504522, 'opfv (tuned)': 1.4745494226519187}\n",
      "############################################### END of ROUND 3/10 ###############################################\n",
      "\n",
      "\n",
      "\n",
      "\n",
      "############################################### START of ROUND 4/10 ###############################################\n",
      "\n",
      "#################### START of preprocessing ####################\n",
      "Maximum number of unique actions that we can use for training and test data = 2547\n",
      "Execution time of preprocess_item_categories = 0.006 mins\n",
      "Executing preprocess_item_daily_features\n",
      "Execution time for preprocess_item_daily_features = 1.362 mins\n",
      "Executing preprocess_user_features\n",
      "Execution time for preprocess_user_features = 0.001 mins\n",
      "Executing reduce_the_dim_context\n",
      "The dimension of the original context = 131\n",
      "The dimension of the context after PCA = 60\n",
      "The cumularive explained variance for the dimension of context is 0.736\n",
      "Execution time for educe_the_dim_context = 0.032 mins\n",
      "Executing reduce_the_dim_action_context\n",
      "The dimension of the original action context = 619\n",
      "The dimension of the action context after PCA = 40\n",
      "The cumularive explained variance for the dimension of action context is 0.735\n",
      "Execution time for reduce_the_dim_action_context = 0.099 mins\n",
      "Executing create_behavior_and_evaluation_policy_and_pscore\n",
      "Execution time for create_behavior_and_evaluation_policy_and_pscore = 1.206 mins\n",
      "The number of the training data = 124895\n",
      "The number of the test data = 36099\n",
      "Number of actions in dataset |A| = 100\n",
      "\n",
      "Executing create_expected_reward\n",
      "RegressionModelTimeTrue fitting and predition for training data time = 0.491 mins\n",
      "RegressionModelTimeTrue fitting and predition for test data time = 0.113 mins\n",
      "Execution time for create_expected_reward = 0.606 mins\n",
      "#################### END of preprocessing ####################\n",
      "\n",
      "Execution time for preprocessing = 3.449 mins\n",
      "\n",
      "#################### START of OPL ####################\n",
      "RegressionModelTimeStructure fitting and predition time = 0.472 mins\n"
     ]
    },
    {
     "name": "stderr",
     "output_type": "stream",
     "text": []
    },
    {
     "name": "stdout",
     "output_type": "stream",
     "text": [
      "Execution time for iter 1/25 in OPFV = 10.745 mins\n"
     ]
    },
    {
     "name": "stderr",
     "output_type": "stream",
     "text": []
    },
    {
     "name": "stdout",
     "output_type": "stream",
     "text": [
      "Execution time for iter 2/25 in OPFV = 10.756 mins\n"
     ]
    },
    {
     "name": "stderr",
     "output_type": "stream",
     "text": []
    },
    {
     "name": "stdout",
     "output_type": "stream",
     "text": [
      "Execution time for iter 3/25 in OPFV = 10.754 mins\n"
     ]
    },
    {
     "name": "stderr",
     "output_type": "stream",
     "text": []
    },
    {
     "name": "stdout",
     "output_type": "stream",
     "text": [
      "Execution time for iter 4/25 in OPFV = 10.821 mins\n"
     ]
    },
    {
     "name": "stderr",
     "output_type": "stream",
     "text": []
    },
    {
     "name": "stdout",
     "output_type": "stream",
     "text": [
      "Execution time for iter 5/25 in OPFV = 10.732 mins\n"
     ]
    },
    {
     "name": "stderr",
     "output_type": "stream",
     "text": []
    },
    {
     "name": "stdout",
     "output_type": "stream",
     "text": [
      "Execution time for iter 6/25 in OPFV = 10.759 mins\n"
     ]
    },
    {
     "name": "stderr",
     "output_type": "stream",
     "text": []
    },
    {
     "name": "stdout",
     "output_type": "stream",
     "text": [
      "Execution time for iter 7/25 in OPFV = 10.756 mins\n"
     ]
    },
    {
     "name": "stderr",
     "output_type": "stream",
     "text": []
    },
    {
     "name": "stdout",
     "output_type": "stream",
     "text": [
      "Execution time for iter 8/25 in OPFV = 10.791 mins\n"
     ]
    },
    {
     "name": "stderr",
     "output_type": "stream",
     "text": []
    },
    {
     "name": "stdout",
     "output_type": "stream",
     "text": [
      "Execution time for iter 9/25 in OPFV = 10.751 mins\n"
     ]
    },
    {
     "name": "stderr",
     "output_type": "stream",
     "text": []
    },
    {
     "name": "stdout",
     "output_type": "stream",
     "text": [
      "Execution time for iter 10/25 in OPFV = 10.750 mins\n"
     ]
    },
    {
     "name": "stderr",
     "output_type": "stream",
     "text": []
    },
    {
     "name": "stdout",
     "output_type": "stream",
     "text": [
      "Execution time for iter 11/25 in OPFV = 10.786 mins\n"
     ]
    },
    {
     "name": "stderr",
     "output_type": "stream",
     "text": []
    },
    {
     "name": "stdout",
     "output_type": "stream",
     "text": [
      "Execution time for iter 12/25 in OPFV = 10.875 mins\n"
     ]
    },
    {
     "name": "stderr",
     "output_type": "stream",
     "text": []
    },
    {
     "name": "stdout",
     "output_type": "stream",
     "text": [
      "Execution time for iter 13/25 in OPFV = 10.929 mins\n"
     ]
    },
    {
     "name": "stderr",
     "output_type": "stream",
     "text": []
    },
    {
     "name": "stdout",
     "output_type": "stream",
     "text": [
      "Execution time for iter 14/25 in OPFV = 10.783 mins\n"
     ]
    },
    {
     "name": "stderr",
     "output_type": "stream",
     "text": []
    },
    {
     "name": "stdout",
     "output_type": "stream",
     "text": [
      "Execution time for iter 15/25 in OPFV = 10.772 mins\n"
     ]
    },
    {
     "name": "stderr",
     "output_type": "stream",
     "text": []
    },
    {
     "name": "stdout",
     "output_type": "stream",
     "text": [
      "Execution time for iter 16/25 in OPFV = 10.871 mins\n"
     ]
    },
    {
     "name": "stderr",
     "output_type": "stream",
     "text": []
    },
    {
     "name": "stdout",
     "output_type": "stream",
     "text": [
      "Execution time for iter 17/25 in OPFV = 10.794 mins\n"
     ]
    },
    {
     "name": "stderr",
     "output_type": "stream",
     "text": []
    },
    {
     "name": "stdout",
     "output_type": "stream",
     "text": [
      "Execution time for iter 18/25 in OPFV = 10.934 mins\n"
     ]
    },
    {
     "name": "stderr",
     "output_type": "stream",
     "text": []
    },
    {
     "name": "stdout",
     "output_type": "stream",
     "text": [
      "Execution time for iter 19/25 in OPFV = 10.983 mins\n"
     ]
    },
    {
     "name": "stderr",
     "output_type": "stream",
     "text": []
    },
    {
     "name": "stdout",
     "output_type": "stream",
     "text": [
      "Execution time for iter 20/25 in OPFV = 10.852 mins\n"
     ]
    },
    {
     "name": "stderr",
     "output_type": "stream",
     "text": []
    },
    {
     "name": "stdout",
     "output_type": "stream",
     "text": [
      "Execution time for iter 21/25 in OPFV = 10.788 mins\n"
     ]
    },
    {
     "name": "stderr",
     "output_type": "stream",
     "text": []
    },
    {
     "name": "stdout",
     "output_type": "stream",
     "text": [
      "Execution time for iter 22/25 in OPFV = 10.858 mins\n"
     ]
    },
    {
     "name": "stderr",
     "output_type": "stream",
     "text": []
    },
    {
     "name": "stdout",
     "output_type": "stream",
     "text": [
      "Execution time for iter 23/25 in OPFV = 10.755 mins\n"
     ]
    },
    {
     "name": "stderr",
     "output_type": "stream",
     "text": []
    },
    {
     "name": "stdout",
     "output_type": "stream",
     "text": [
      "Execution time for iter 24/25 in OPFV = 10.818 mins\n"
     ]
    },
    {
     "name": "stderr",
     "output_type": "stream",
     "text": [
      "100%|██████████| 25/25 [4:30:12<00:00, 648.48s/it]\n",
      " 40%|████      | 4/10 [18:41:48<27:10:26, 16304.42s/it]"
     ]
    },
    {
     "name": "stdout",
     "output_type": "stream",
     "text": [
      "Execution time for iter 25/25 in OPFV = 10.789 mins\n",
      "OPFV (tuned) exectution time = 270.203 mins\n",
      "Execution time for OPL: 270.675 mins\n",
      "#################### END of OPL ####################\n",
      "\n",
      "ROUND 4/10: test_policy_value_list_DM = {'pi_b': 0.9983321947592232, 'opfv (tuned)': 2.5496551856755727}\n",
      "ROUND 4/10: test_policy_value_list_IPS = {'pi_b': 0.9119361709850553, 'opfv (tuned)': 2.188665842296368}\n",
      "ROUND 4/10: test_policy_value_list_SNIPS = {'pi_b': 0.9119361709850553, 'opfv (tuned)': 2.4431528254116843}\n",
      "ROUND 4/10: test_policy_value_list_SNDR = {'pi_b': 0.959690713362632, 'opfv (tuned)': 2.5112115647523034}\n",
      "############################################### END of ROUND 4/10 ###############################################\n",
      "\n",
      "\n",
      "\n",
      "\n",
      "############################################### START of ROUND 5/10 ###############################################\n",
      "\n",
      "#################### START of preprocessing ####################\n",
      "Maximum number of unique actions that we can use for training and test data = 2547\n",
      "Execution time of preprocess_item_categories = 0.006 mins\n",
      "Executing preprocess_item_daily_features\n",
      "Execution time for preprocess_item_daily_features = 1.396 mins\n",
      "Executing preprocess_user_features\n",
      "Execution time for preprocess_user_features = 0.002 mins\n",
      "Executing reduce_the_dim_context\n",
      "The dimension of the original context = 131\n",
      "The dimension of the context after PCA = 60\n",
      "The cumularive explained variance for the dimension of context is 0.735\n",
      "Execution time for educe_the_dim_context = 0.041 mins\n",
      "Executing reduce_the_dim_action_context\n",
      "The dimension of the original action context = 619\n",
      "The dimension of the action context after PCA = 40\n",
      "The cumularive explained variance for the dimension of action context is 0.797\n",
      "Execution time for reduce_the_dim_action_context = 0.119 mins\n",
      "Executing create_behavior_and_evaluation_policy_and_pscore\n",
      "Execution time for create_behavior_and_evaluation_policy_and_pscore = 1.435 mins\n",
      "The number of the training data = 150177\n",
      "The number of the test data = 40040\n",
      "Number of actions in dataset |A| = 100\n",
      "\n",
      "Executing create_expected_reward\n",
      "RegressionModelTimeTrue fitting and predition for training data time = 0.597 mins\n",
      "RegressionModelTimeTrue fitting and predition for test data time = 0.124 mins\n",
      "Execution time for create_expected_reward = 0.723 mins\n",
      "#################### END of preprocessing ####################\n",
      "\n",
      "Execution time for preprocessing = 3.847 mins\n",
      "\n",
      "#################### START of OPL ####################\n",
      "RegressionModelTimeStructure fitting and predition time = 0.533 mins\n"
     ]
    },
    {
     "name": "stderr",
     "output_type": "stream",
     "text": []
    },
    {
     "name": "stdout",
     "output_type": "stream",
     "text": [
      "Execution time for iter 1/25 in OPFV = 12.973 mins\n"
     ]
    },
    {
     "name": "stderr",
     "output_type": "stream",
     "text": []
    },
    {
     "name": "stdout",
     "output_type": "stream",
     "text": [
      "Execution time for iter 2/25 in OPFV = 13.155 mins\n"
     ]
    },
    {
     "name": "stderr",
     "output_type": "stream",
     "text": []
    },
    {
     "name": "stdout",
     "output_type": "stream",
     "text": [
      "Execution time for iter 3/25 in OPFV = 13.138 mins\n"
     ]
    },
    {
     "name": "stderr",
     "output_type": "stream",
     "text": []
    },
    {
     "name": "stdout",
     "output_type": "stream",
     "text": [
      "Execution time for iter 4/25 in OPFV = 13.154 mins\n"
     ]
    },
    {
     "name": "stderr",
     "output_type": "stream",
     "text": []
    },
    {
     "name": "stdout",
     "output_type": "stream",
     "text": [
      "Execution time for iter 5/25 in OPFV = 13.136 mins\n"
     ]
    },
    {
     "name": "stderr",
     "output_type": "stream",
     "text": []
    },
    {
     "name": "stdout",
     "output_type": "stream",
     "text": [
      "Execution time for iter 6/25 in OPFV = 13.144 mins\n"
     ]
    },
    {
     "name": "stderr",
     "output_type": "stream",
     "text": []
    },
    {
     "name": "stdout",
     "output_type": "stream",
     "text": [
      "Execution time for iter 7/25 in OPFV = 13.115 mins\n"
     ]
    },
    {
     "name": "stderr",
     "output_type": "stream",
     "text": []
    },
    {
     "name": "stdout",
     "output_type": "stream",
     "text": [
      "Execution time for iter 8/25 in OPFV = 13.211 mins\n"
     ]
    },
    {
     "name": "stderr",
     "output_type": "stream",
     "text": []
    },
    {
     "name": "stdout",
     "output_type": "stream",
     "text": [
      "Execution time for iter 9/25 in OPFV = 976.494 mins\n"
     ]
    },
    {
     "name": "stderr",
     "output_type": "stream",
     "text": []
    },
    {
     "name": "stdout",
     "output_type": "stream",
     "text": [
      "Execution time for iter 10/25 in OPFV = 13.217 mins\n"
     ]
    },
    {
     "name": "stderr",
     "output_type": "stream",
     "text": []
    },
    {
     "name": "stdout",
     "output_type": "stream",
     "text": [
      "Execution time for iter 11/25 in OPFV = 13.113 mins\n"
     ]
    },
    {
     "name": "stderr",
     "output_type": "stream",
     "text": []
    },
    {
     "name": "stdout",
     "output_type": "stream",
     "text": [
      "Execution time for iter 12/25 in OPFV = 13.116 mins\n"
     ]
    },
    {
     "name": "stderr",
     "output_type": "stream",
     "text": []
    },
    {
     "name": "stdout",
     "output_type": "stream",
     "text": [
      "Execution time for iter 13/25 in OPFV = 13.142 mins\n"
     ]
    },
    {
     "name": "stderr",
     "output_type": "stream",
     "text": []
    },
    {
     "name": "stdout",
     "output_type": "stream",
     "text": [
      "Execution time for iter 14/25 in OPFV = 13.161 mins\n"
     ]
    },
    {
     "name": "stderr",
     "output_type": "stream",
     "text": []
    },
    {
     "name": "stdout",
     "output_type": "stream",
     "text": [
      "Execution time for iter 15/25 in OPFV = 13.117 mins\n"
     ]
    },
    {
     "name": "stderr",
     "output_type": "stream",
     "text": []
    },
    {
     "name": "stdout",
     "output_type": "stream",
     "text": [
      "Execution time for iter 16/25 in OPFV = 13.122 mins\n"
     ]
    },
    {
     "name": "stderr",
     "output_type": "stream",
     "text": []
    },
    {
     "name": "stdout",
     "output_type": "stream",
     "text": [
      "Execution time for iter 17/25 in OPFV = 13.151 mins\n"
     ]
    },
    {
     "name": "stderr",
     "output_type": "stream",
     "text": []
    },
    {
     "name": "stdout",
     "output_type": "stream",
     "text": [
      "Execution time for iter 18/25 in OPFV = 13.173 mins\n"
     ]
    },
    {
     "name": "stderr",
     "output_type": "stream",
     "text": []
    },
    {
     "name": "stdout",
     "output_type": "stream",
     "text": [
      "Execution time for iter 19/25 in OPFV = 13.156 mins\n"
     ]
    },
    {
     "name": "stderr",
     "output_type": "stream",
     "text": []
    },
    {
     "name": "stdout",
     "output_type": "stream",
     "text": [
      "Execution time for iter 20/25 in OPFV = 13.170 mins\n"
     ]
    },
    {
     "name": "stderr",
     "output_type": "stream",
     "text": []
    },
    {
     "name": "stdout",
     "output_type": "stream",
     "text": [
      "Execution time for iter 21/25 in OPFV = 13.138 mins\n"
     ]
    },
    {
     "name": "stderr",
     "output_type": "stream",
     "text": []
    },
    {
     "name": "stdout",
     "output_type": "stream",
     "text": [
      "Execution time for iter 22/25 in OPFV = 13.172 mins\n"
     ]
    },
    {
     "name": "stderr",
     "output_type": "stream",
     "text": []
    },
    {
     "name": "stdout",
     "output_type": "stream",
     "text": [
      "Execution time for iter 23/25 in OPFV = 13.227 mins\n"
     ]
    },
    {
     "name": "stderr",
     "output_type": "stream",
     "text": []
    },
    {
     "name": "stdout",
     "output_type": "stream",
     "text": [
      "Execution time for iter 24/25 in OPFV = 13.158 mins\n"
     ]
    },
    {
     "name": "stderr",
     "output_type": "stream",
     "text": [
      "100%|██████████| 25/25 [21:32:01<00:00, 3100.85s/it]\n",
      " 50%|█████     | 5/10 [40:18:13<53:26:12, 38474.45s/it]"
     ]
    },
    {
     "name": "stdout",
     "output_type": "stream",
     "text": [
      "Execution time for iter 25/25 in OPFV = 13.164 mins\n",
      "OPFV (tuned) exectution time = 1292.021 mins\n",
      "Execution time for OPL: 1292.554 mins\n",
      "#################### END of OPL ####################\n",
      "\n",
      "ROUND 5/10: test_policy_value_list_DM = {'pi_b': 0.9018935188688187, 'opfv (tuned)': 2.0129213008400217}\n",
      "ROUND 5/10: test_policy_value_list_IPS = {'pi_b': 0.8596314751321196, 'opfv (tuned)': 1.954288192173232}\n",
      "ROUND 5/10: test_policy_value_list_SNIPS = {'pi_b': 0.8596314751321196, 'opfv (tuned)': 2.151346264735297}\n",
      "ROUND 5/10: test_policy_value_list_SNDR = {'pi_b': 0.8697799727841974, 'opfv (tuned)': 2.1870913340338194}\n",
      "############################################### END of ROUND 5/10 ###############################################\n",
      "\n",
      "\n",
      "\n",
      "\n",
      "############################################### START of ROUND 6/10 ###############################################\n",
      "\n",
      "#################### START of preprocessing ####################\n",
      "Maximum number of unique actions that we can use for training and test data = 2548\n",
      "Execution time of preprocess_item_categories = 0.006 mins\n",
      "Executing preprocess_item_daily_features\n",
      "Execution time for preprocess_item_daily_features = 1.094 mins\n",
      "Executing preprocess_user_features\n",
      "Execution time for preprocess_user_features = 0.002 mins\n",
      "Executing reduce_the_dim_context\n",
      "The dimension of the original context = 131\n",
      "The dimension of the context after PCA = 60\n",
      "The cumularive explained variance for the dimension of context is 0.736\n",
      "Execution time for educe_the_dim_context = 0.036 mins\n",
      "Executing reduce_the_dim_action_context\n",
      "The dimension of the original action context = 619\n",
      "The dimension of the action context after PCA = 40\n",
      "The cumularive explained variance for the dimension of action context is 0.756\n",
      "Execution time for reduce_the_dim_action_context = 0.100 mins\n",
      "Executing create_behavior_and_evaluation_policy_and_pscore\n",
      "Execution time for create_behavior_and_evaluation_policy_and_pscore = 1.198 mins\n",
      "The number of the training data = 131394\n",
      "The number of the test data = 46026\n",
      "Number of actions in dataset |A| = 100\n",
      "\n",
      "Executing create_expected_reward\n",
      "RegressionModelTimeTrue fitting and predition for training data time = 0.513 mins\n",
      "RegressionModelTimeTrue fitting and predition for test data time = 0.138 mins\n",
      "Execution time for create_expected_reward = 0.653 mins\n",
      "#################### END of preprocessing ####################\n",
      "\n",
      "Execution time for preprocessing = 3.219 mins\n",
      "\n",
      "#################### START of OPL ####################\n",
      "RegressionModelTimeStructure fitting and predition time = 0.452 mins\n"
     ]
    },
    {
     "name": "stderr",
     "output_type": "stream",
     "text": []
    },
    {
     "name": "stdout",
     "output_type": "stream",
     "text": [
      "Execution time for iter 1/25 in OPFV = 11.667 mins\n"
     ]
    },
    {
     "name": "stderr",
     "output_type": "stream",
     "text": []
    },
    {
     "name": "stdout",
     "output_type": "stream",
     "text": [
      "Execution time for iter 2/25 in OPFV = 11.645 mins\n"
     ]
    },
    {
     "name": "stderr",
     "output_type": "stream",
     "text": []
    },
    {
     "name": "stdout",
     "output_type": "stream",
     "text": [
      "Execution time for iter 3/25 in OPFV = 11.695 mins\n"
     ]
    },
    {
     "name": "stderr",
     "output_type": "stream",
     "text": []
    },
    {
     "name": "stdout",
     "output_type": "stream",
     "text": [
      "Execution time for iter 4/25 in OPFV = 11.711 mins\n"
     ]
    },
    {
     "name": "stderr",
     "output_type": "stream",
     "text": []
    },
    {
     "name": "stdout",
     "output_type": "stream",
     "text": [
      "Execution time for iter 5/25 in OPFV = 11.727 mins\n"
     ]
    },
    {
     "name": "stderr",
     "output_type": "stream",
     "text": []
    },
    {
     "name": "stdout",
     "output_type": "stream",
     "text": [
      "Execution time for iter 6/25 in OPFV = 11.755 mins\n"
     ]
    },
    {
     "name": "stderr",
     "output_type": "stream",
     "text": []
    },
    {
     "name": "stdout",
     "output_type": "stream",
     "text": [
      "Execution time for iter 7/25 in OPFV = 11.738 mins\n"
     ]
    },
    {
     "name": "stderr",
     "output_type": "stream",
     "text": []
    },
    {
     "name": "stdout",
     "output_type": "stream",
     "text": [
      "Execution time for iter 8/25 in OPFV = 11.705 mins\n"
     ]
    },
    {
     "name": "stderr",
     "output_type": "stream",
     "text": []
    },
    {
     "name": "stdout",
     "output_type": "stream",
     "text": [
      "Execution time for iter 9/25 in OPFV = 11.723 mins\n"
     ]
    },
    {
     "name": "stderr",
     "output_type": "stream",
     "text": []
    },
    {
     "name": "stdout",
     "output_type": "stream",
     "text": [
      "Execution time for iter 10/25 in OPFV = 11.671 mins\n"
     ]
    },
    {
     "name": "stderr",
     "output_type": "stream",
     "text": []
    },
    {
     "name": "stdout",
     "output_type": "stream",
     "text": [
      "Execution time for iter 11/25 in OPFV = 11.685 mins\n"
     ]
    },
    {
     "name": "stderr",
     "output_type": "stream",
     "text": []
    },
    {
     "name": "stdout",
     "output_type": "stream",
     "text": [
      "Execution time for iter 12/25 in OPFV = 11.615 mins\n"
     ]
    },
    {
     "name": "stderr",
     "output_type": "stream",
     "text": []
    },
    {
     "name": "stdout",
     "output_type": "stream",
     "text": [
      "Execution time for iter 13/25 in OPFV = 11.678 mins\n"
     ]
    },
    {
     "name": "stderr",
     "output_type": "stream",
     "text": []
    },
    {
     "name": "stdout",
     "output_type": "stream",
     "text": [
      "Execution time for iter 14/25 in OPFV = 11.686 mins\n"
     ]
    },
    {
     "name": "stderr",
     "output_type": "stream",
     "text": []
    },
    {
     "name": "stdout",
     "output_type": "stream",
     "text": [
      "Execution time for iter 15/25 in OPFV = 11.694 mins\n"
     ]
    },
    {
     "name": "stderr",
     "output_type": "stream",
     "text": []
    },
    {
     "name": "stdout",
     "output_type": "stream",
     "text": [
      "Execution time for iter 16/25 in OPFV = 11.672 mins\n"
     ]
    },
    {
     "name": "stderr",
     "output_type": "stream",
     "text": []
    },
    {
     "name": "stdout",
     "output_type": "stream",
     "text": [
      "Execution time for iter 17/25 in OPFV = 11.664 mins\n"
     ]
    },
    {
     "name": "stderr",
     "output_type": "stream",
     "text": []
    },
    {
     "name": "stdout",
     "output_type": "stream",
     "text": [
      "Execution time for iter 18/25 in OPFV = 11.675 mins\n"
     ]
    },
    {
     "name": "stderr",
     "output_type": "stream",
     "text": []
    },
    {
     "name": "stdout",
     "output_type": "stream",
     "text": [
      "Execution time for iter 19/25 in OPFV = 11.687 mins\n"
     ]
    },
    {
     "name": "stderr",
     "output_type": "stream",
     "text": []
    },
    {
     "name": "stdout",
     "output_type": "stream",
     "text": [
      "Execution time for iter 20/25 in OPFV = 11.730 mins\n"
     ]
    },
    {
     "name": "stderr",
     "output_type": "stream",
     "text": []
    },
    {
     "name": "stdout",
     "output_type": "stream",
     "text": [
      "Execution time for iter 21/25 in OPFV = 11.705 mins\n"
     ]
    },
    {
     "name": "stderr",
     "output_type": "stream",
     "text": []
    },
    {
     "name": "stdout",
     "output_type": "stream",
     "text": [
      "Execution time for iter 22/25 in OPFV = 11.707 mins\n"
     ]
    },
    {
     "name": "stderr",
     "output_type": "stream",
     "text": []
    },
    {
     "name": "stdout",
     "output_type": "stream",
     "text": [
      "Execution time for iter 23/25 in OPFV = 11.731 mins\n"
     ]
    },
    {
     "name": "stderr",
     "output_type": "stream",
     "text": []
    },
    {
     "name": "stdout",
     "output_type": "stream",
     "text": [
      "Execution time for iter 24/25 in OPFV = 11.691 mins\n"
     ]
    },
    {
     "name": "stderr",
     "output_type": "stream",
     "text": [
      "100%|██████████| 25/25 [4:52:21<00:00, 701.66s/it]\n",
      " 60%|██████    | 6/10 [45:14:15<34:55:28, 31432.19s/it]"
     ]
    },
    {
     "name": "stdout",
     "output_type": "stream",
     "text": [
      "Execution time for iter 25/25 in OPFV = 11.702 mins\n",
      "OPFV (tuned) exectution time = 292.361 mins\n",
      "Execution time for OPL: 292.813 mins\n",
      "#################### END of OPL ####################\n",
      "\n",
      "ROUND 6/10: test_policy_value_list_DM = {'pi_b': 0.9120616797704034, 'opfv (tuned)': 1.334388695716544}\n",
      "ROUND 6/10: test_policy_value_list_IPS = {'pi_b': 0.8735387716834242, 'opfv (tuned)': 1.2871623841844828}\n",
      "ROUND 6/10: test_policy_value_list_SNIPS = {'pi_b': 0.8735387716834242, 'opfv (tuned)': 1.2350597191426598}\n",
      "ROUND 6/10: test_policy_value_list_SNDR = {'pi_b': 0.8801689456358612, 'opfv (tuned)': 1.2525223334576738}\n",
      "############################################### END of ROUND 6/10 ###############################################\n",
      "\n",
      "\n",
      "\n",
      "\n",
      "############################################### START of ROUND 7/10 ###############################################\n",
      "\n",
      "#################### START of preprocessing ####################\n",
      "Maximum number of unique actions that we can use for training and test data = 2548\n",
      "Execution time of preprocess_item_categories = 0.006 mins\n",
      "Executing preprocess_item_daily_features\n",
      "Execution time for preprocess_item_daily_features = 1.147 mins\n",
      "Executing preprocess_user_features\n",
      "Execution time for preprocess_user_features = 0.001 mins\n",
      "Executing reduce_the_dim_context\n",
      "The dimension of the original context = 131\n",
      "The dimension of the context after PCA = 60\n",
      "The cumularive explained variance for the dimension of context is 0.735\n",
      "Execution time for educe_the_dim_context = 0.030 mins\n",
      "Executing reduce_the_dim_action_context\n",
      "The dimension of the original action context = 619\n",
      "The dimension of the action context after PCA = 40\n",
      "The cumularive explained variance for the dimension of action context is 0.768\n",
      "Execution time for reduce_the_dim_action_context = 0.088 mins\n",
      "Executing create_behavior_and_evaluation_policy_and_pscore\n",
      "Execution time for create_behavior_and_evaluation_policy_and_pscore = 1.022 mins\n",
      "The number of the training data = 107922\n",
      "The number of the test data = 52481\n",
      "Number of actions in dataset |A| = 100\n",
      "\n",
      "Executing create_expected_reward\n",
      "RegressionModelTimeTrue fitting and predition for training data time = 0.391 mins\n",
      "RegressionModelTimeTrue fitting and predition for test data time = 0.149 mins\n",
      "Execution time for create_expected_reward = 0.541 mins\n",
      "#################### END of preprocessing ####################\n",
      "\n",
      "Execution time for preprocessing = 2.966 mins\n",
      "\n",
      "#################### START of OPL ####################\n",
      "RegressionModelTimeStructure fitting and predition time = 0.400 mins\n"
     ]
    },
    {
     "name": "stderr",
     "output_type": "stream",
     "text": []
    },
    {
     "name": "stdout",
     "output_type": "stream",
     "text": [
      "Execution time for iter 1/25 in OPFV = 9.428 mins\n"
     ]
    },
    {
     "name": "stderr",
     "output_type": "stream",
     "text": []
    },
    {
     "name": "stdout",
     "output_type": "stream",
     "text": [
      "Execution time for iter 2/25 in OPFV = 9.458 mins\n"
     ]
    },
    {
     "name": "stderr",
     "output_type": "stream",
     "text": []
    },
    {
     "name": "stdout",
     "output_type": "stream",
     "text": [
      "Execution time for iter 3/25 in OPFV = 9.472 mins\n"
     ]
    },
    {
     "name": "stderr",
     "output_type": "stream",
     "text": []
    },
    {
     "name": "stdout",
     "output_type": "stream",
     "text": [
      "Execution time for iter 4/25 in OPFV = 9.499 mins\n"
     ]
    },
    {
     "name": "stderr",
     "output_type": "stream",
     "text": []
    },
    {
     "name": "stdout",
     "output_type": "stream",
     "text": [
      "Execution time for iter 5/25 in OPFV = 9.528 mins\n"
     ]
    },
    {
     "name": "stderr",
     "output_type": "stream",
     "text": []
    },
    {
     "name": "stdout",
     "output_type": "stream",
     "text": [
      "Execution time for iter 6/25 in OPFV = 9.481 mins\n"
     ]
    },
    {
     "name": "stderr",
     "output_type": "stream",
     "text": []
    },
    {
     "name": "stdout",
     "output_type": "stream",
     "text": [
      "Execution time for iter 7/25 in OPFV = 9.494 mins\n"
     ]
    },
    {
     "name": "stderr",
     "output_type": "stream",
     "text": []
    },
    {
     "name": "stdout",
     "output_type": "stream",
     "text": [
      "Execution time for iter 8/25 in OPFV = 9.503 mins\n"
     ]
    },
    {
     "name": "stderr",
     "output_type": "stream",
     "text": []
    },
    {
     "name": "stdout",
     "output_type": "stream",
     "text": [
      "Execution time for iter 9/25 in OPFV = 9.493 mins\n"
     ]
    },
    {
     "name": "stderr",
     "output_type": "stream",
     "text": []
    },
    {
     "name": "stdout",
     "output_type": "stream",
     "text": [
      "Execution time for iter 10/25 in OPFV = 9.513 mins\n"
     ]
    },
    {
     "name": "stderr",
     "output_type": "stream",
     "text": []
    },
    {
     "name": "stdout",
     "output_type": "stream",
     "text": [
      "Execution time for iter 11/25 in OPFV = 9.494 mins\n"
     ]
    },
    {
     "name": "stderr",
     "output_type": "stream",
     "text": []
    },
    {
     "name": "stdout",
     "output_type": "stream",
     "text": [
      "Execution time for iter 12/25 in OPFV = 9.533 mins\n"
     ]
    },
    {
     "name": "stderr",
     "output_type": "stream",
     "text": []
    },
    {
     "name": "stdout",
     "output_type": "stream",
     "text": [
      "Execution time for iter 13/25 in OPFV = 9.448 mins\n"
     ]
    },
    {
     "name": "stderr",
     "output_type": "stream",
     "text": []
    },
    {
     "name": "stdout",
     "output_type": "stream",
     "text": [
      "Execution time for iter 14/25 in OPFV = 9.483 mins\n"
     ]
    },
    {
     "name": "stderr",
     "output_type": "stream",
     "text": []
    },
    {
     "name": "stdout",
     "output_type": "stream",
     "text": [
      "Execution time for iter 15/25 in OPFV = 9.516 mins\n"
     ]
    },
    {
     "name": "stderr",
     "output_type": "stream",
     "text": []
    },
    {
     "name": "stdout",
     "output_type": "stream",
     "text": [
      "Execution time for iter 16/25 in OPFV = 9.478 mins\n"
     ]
    },
    {
     "name": "stderr",
     "output_type": "stream",
     "text": []
    },
    {
     "name": "stdout",
     "output_type": "stream",
     "text": [
      "Execution time for iter 17/25 in OPFV = 9.454 mins\n"
     ]
    },
    {
     "name": "stderr",
     "output_type": "stream",
     "text": []
    },
    {
     "name": "stdout",
     "output_type": "stream",
     "text": [
      "Execution time for iter 18/25 in OPFV = 9.486 mins\n"
     ]
    },
    {
     "name": "stderr",
     "output_type": "stream",
     "text": []
    },
    {
     "name": "stdout",
     "output_type": "stream",
     "text": [
      "Execution time for iter 19/25 in OPFV = 9.512 mins\n"
     ]
    },
    {
     "name": "stderr",
     "output_type": "stream",
     "text": []
    },
    {
     "name": "stdout",
     "output_type": "stream",
     "text": [
      "Execution time for iter 20/25 in OPFV = 9.475 mins\n"
     ]
    },
    {
     "name": "stderr",
     "output_type": "stream",
     "text": []
    },
    {
     "name": "stdout",
     "output_type": "stream",
     "text": [
      "Execution time for iter 21/25 in OPFV = 9.470 mins\n"
     ]
    },
    {
     "name": "stderr",
     "output_type": "stream",
     "text": []
    },
    {
     "name": "stdout",
     "output_type": "stream",
     "text": [
      "Execution time for iter 22/25 in OPFV = 9.508 mins\n"
     ]
    },
    {
     "name": "stderr",
     "output_type": "stream",
     "text": []
    },
    {
     "name": "stdout",
     "output_type": "stream",
     "text": [
      "Execution time for iter 23/25 in OPFV = 9.490 mins\n"
     ]
    },
    {
     "name": "stderr",
     "output_type": "stream",
     "text": []
    },
    {
     "name": "stdout",
     "output_type": "stream",
     "text": [
      "Execution time for iter 24/25 in OPFV = 9.471 mins\n"
     ]
    },
    {
     "name": "stderr",
     "output_type": "stream",
     "text": [
      "100%|██████████| 25/25 [3:57:09<00:00, 569.19s/it]\n",
      " 70%|███████   | 7/10 [49:14:46<21:33:43, 25874.34s/it]"
     ]
    },
    {
     "name": "stdout",
     "output_type": "stream",
     "text": [
      "Execution time for iter 25/25 in OPFV = 9.473 mins\n",
      "OPFV (tuned) exectution time = 237.162 mins\n",
      "Execution time for OPL: 237.562 mins\n",
      "#################### END of OPL ####################\n",
      "\n",
      "ROUND 7/10: test_policy_value_list_DM = {'pi_b': 0.8220767625855312, 'opfv (tuned)': 1.2946919321957093}\n",
      "ROUND 7/10: test_policy_value_list_IPS = {'pi_b': 0.7763966474489367, 'opfv (tuned)': 1.1537120279944075}\n",
      "ROUND 7/10: test_policy_value_list_SNIPS = {'pi_b': 0.7763966474489367, 'opfv (tuned)': 1.1928035369401573}\n",
      "ROUND 7/10: test_policy_value_list_SNDR = {'pi_b': 0.7858073786699357, 'opfv (tuned)': 1.1047720775881908}\n",
      "############################################### END of ROUND 7/10 ###############################################\n",
      "\n",
      "\n",
      "\n",
      "\n",
      "############################################### START of ROUND 8/10 ###############################################\n",
      "\n",
      "#################### START of preprocessing ####################\n",
      "Maximum number of unique actions that we can use for training and test data = 2548\n",
      "Execution time of preprocess_item_categories = 0.006 mins\n",
      "Executing preprocess_item_daily_features\n",
      "Execution time for preprocess_item_daily_features = 1.175 mins\n",
      "Executing preprocess_user_features\n",
      "Execution time for preprocess_user_features = 0.001 mins\n",
      "Executing reduce_the_dim_context\n",
      "The dimension of the original context = 131\n",
      "The dimension of the context after PCA = 60\n",
      "The cumularive explained variance for the dimension of context is 0.736\n",
      "Execution time for educe_the_dim_context = 0.037 mins\n",
      "Executing reduce_the_dim_action_context\n",
      "The dimension of the original action context = 619\n",
      "The dimension of the action context after PCA = 40\n",
      "The cumularive explained variance for the dimension of action context is 0.778\n",
      "Execution time for reduce_the_dim_action_context = 0.106 mins\n",
      "Executing create_behavior_and_evaluation_policy_and_pscore\n",
      "Execution time for create_behavior_and_evaluation_policy_and_pscore = 1.302 mins\n",
      "The number of the training data = 141561\n",
      "The number of the test data = 35986\n",
      "Number of actions in dataset |A| = 100\n",
      "\n",
      "Executing create_expected_reward\n",
      "RegressionModelTimeTrue fitting and predition for training data time = 0.549 mins\n",
      "RegressionModelTimeTrue fitting and predition for test data time = 0.120 mins\n",
      "Execution time for create_expected_reward = 0.670 mins\n",
      "#################### END of preprocessing ####################\n",
      "\n",
      "Execution time for preprocessing = 3.430 mins\n",
      "\n",
      "#################### START of OPL ####################\n",
      "RegressionModelTimeStructure fitting and predition time = 0.507 mins\n"
     ]
    },
    {
     "name": "stderr",
     "output_type": "stream",
     "text": []
    },
    {
     "name": "stdout",
     "output_type": "stream",
     "text": [
      "Execution time for iter 1/25 in OPFV = 12.404 mins\n"
     ]
    },
    {
     "name": "stderr",
     "output_type": "stream",
     "text": []
    },
    {
     "name": "stdout",
     "output_type": "stream",
     "text": [
      "Execution time for iter 2/25 in OPFV = 12.496 mins\n"
     ]
    },
    {
     "name": "stderr",
     "output_type": "stream",
     "text": []
    },
    {
     "name": "stdout",
     "output_type": "stream",
     "text": [
      "Execution time for iter 3/25 in OPFV = 12.470 mins\n"
     ]
    },
    {
     "name": "stderr",
     "output_type": "stream",
     "text": []
    },
    {
     "name": "stdout",
     "output_type": "stream",
     "text": [
      "Execution time for iter 4/25 in OPFV = 12.452 mins\n"
     ]
    },
    {
     "name": "stderr",
     "output_type": "stream",
     "text": []
    },
    {
     "name": "stdout",
     "output_type": "stream",
     "text": [
      "Execution time for iter 5/25 in OPFV = 12.518 mins\n"
     ]
    },
    {
     "name": "stderr",
     "output_type": "stream",
     "text": []
    },
    {
     "name": "stdout",
     "output_type": "stream",
     "text": [
      "Execution time for iter 6/25 in OPFV = 12.482 mins\n"
     ]
    },
    {
     "name": "stderr",
     "output_type": "stream",
     "text": []
    },
    {
     "name": "stdout",
     "output_type": "stream",
     "text": [
      "Execution time for iter 7/25 in OPFV = 12.513 mins\n"
     ]
    },
    {
     "name": "stderr",
     "output_type": "stream",
     "text": []
    },
    {
     "name": "stdout",
     "output_type": "stream",
     "text": [
      "Execution time for iter 8/25 in OPFV = 12.456 mins\n"
     ]
    },
    {
     "name": "stderr",
     "output_type": "stream",
     "text": []
    },
    {
     "name": "stdout",
     "output_type": "stream",
     "text": [
      "Execution time for iter 9/25 in OPFV = 12.481 mins\n"
     ]
    },
    {
     "name": "stderr",
     "output_type": "stream",
     "text": []
    },
    {
     "name": "stdout",
     "output_type": "stream",
     "text": [
      "Execution time for iter 10/25 in OPFV = 12.500 mins\n"
     ]
    },
    {
     "name": "stderr",
     "output_type": "stream",
     "text": []
    },
    {
     "name": "stdout",
     "output_type": "stream",
     "text": [
      "Execution time for iter 11/25 in OPFV = 12.516 mins\n"
     ]
    },
    {
     "name": "stderr",
     "output_type": "stream",
     "text": []
    },
    {
     "name": "stdout",
     "output_type": "stream",
     "text": [
      "Execution time for iter 12/25 in OPFV = 12.488 mins\n"
     ]
    },
    {
     "name": "stderr",
     "output_type": "stream",
     "text": []
    },
    {
     "name": "stdout",
     "output_type": "stream",
     "text": [
      "Execution time for iter 13/25 in OPFV = 12.492 mins\n"
     ]
    },
    {
     "name": "stderr",
     "output_type": "stream",
     "text": []
    },
    {
     "name": "stdout",
     "output_type": "stream",
     "text": [
      "Execution time for iter 14/25 in OPFV = 12.454 mins\n"
     ]
    },
    {
     "name": "stderr",
     "output_type": "stream",
     "text": []
    },
    {
     "name": "stdout",
     "output_type": "stream",
     "text": [
      "Execution time for iter 15/25 in OPFV = 12.463 mins\n"
     ]
    },
    {
     "name": "stderr",
     "output_type": "stream",
     "text": []
    },
    {
     "name": "stdout",
     "output_type": "stream",
     "text": [
      "Execution time for iter 16/25 in OPFV = 12.479 mins\n"
     ]
    },
    {
     "name": "stderr",
     "output_type": "stream",
     "text": []
    },
    {
     "name": "stdout",
     "output_type": "stream",
     "text": [
      "Execution time for iter 17/25 in OPFV = 12.492 mins\n"
     ]
    },
    {
     "name": "stderr",
     "output_type": "stream",
     "text": []
    },
    {
     "name": "stdout",
     "output_type": "stream",
     "text": [
      "Execution time for iter 18/25 in OPFV = 12.431 mins\n"
     ]
    },
    {
     "name": "stderr",
     "output_type": "stream",
     "text": []
    },
    {
     "name": "stdout",
     "output_type": "stream",
     "text": [
      "Execution time for iter 19/25 in OPFV = 12.459 mins\n"
     ]
    },
    {
     "name": "stderr",
     "output_type": "stream",
     "text": []
    },
    {
     "name": "stdout",
     "output_type": "stream",
     "text": [
      "Execution time for iter 20/25 in OPFV = 12.508 mins\n"
     ]
    },
    {
     "name": "stderr",
     "output_type": "stream",
     "text": []
    },
    {
     "name": "stdout",
     "output_type": "stream",
     "text": [
      "Execution time for iter 21/25 in OPFV = 12.495 mins\n"
     ]
    },
    {
     "name": "stderr",
     "output_type": "stream",
     "text": []
    },
    {
     "name": "stdout",
     "output_type": "stream",
     "text": [
      "Execution time for iter 22/25 in OPFV = 12.469 mins\n"
     ]
    },
    {
     "name": "stderr",
     "output_type": "stream",
     "text": []
    },
    {
     "name": "stdout",
     "output_type": "stream",
     "text": [
      "Execution time for iter 23/25 in OPFV = 12.495 mins\n"
     ]
    },
    {
     "name": "stderr",
     "output_type": "stream",
     "text": []
    },
    {
     "name": "stdout",
     "output_type": "stream",
     "text": [
      "Execution time for iter 24/25 in OPFV = 12.512 mins\n"
     ]
    },
    {
     "name": "stderr",
     "output_type": "stream",
     "text": [
      "100%|██████████| 25/25 [5:12:00<00:00, 748.83s/it]\n",
      " 80%|████████  | 8/10 [54:30:43<13:09:04, 23672.17s/it]"
     ]
    },
    {
     "name": "stdout",
     "output_type": "stream",
     "text": [
      "Execution time for iter 25/25 in OPFV = 12.485 mins\n",
      "OPFV (tuned) exectution time = 312.012 mins\n",
      "Execution time for OPL: 312.519 mins\n",
      "#################### END of OPL ####################\n",
      "\n",
      "ROUND 8/10: test_policy_value_list_DM = {'pi_b': 1.0254309917429087, 'opfv (tuned)': 2.181875756158991}\n",
      "ROUND 8/10: test_policy_value_list_IPS = {'pi_b': 0.9754373607348054, 'opfv (tuned)': 1.7790224195052315}\n",
      "ROUND 8/10: test_policy_value_list_SNIPS = {'pi_b': 0.9754373607348054, 'opfv (tuned)': 2.644396023087988}\n",
      "ROUND 8/10: test_policy_value_list_SNDR = {'pi_b': 0.9809746803590634, 'opfv (tuned)': 1.1137164140249651}\n",
      "############################################### END of ROUND 8/10 ###############################################\n",
      "\n",
      "\n",
      "\n",
      "\n",
      "############################################### START of ROUND 9/10 ###############################################\n",
      "\n",
      "#################### START of preprocessing ####################\n",
      "Maximum number of unique actions that we can use for training and test data = 2548\n",
      "Execution time of preprocess_item_categories = 0.006 mins\n",
      "Executing preprocess_item_daily_features\n",
      "Execution time for preprocess_item_daily_features = 1.169 mins\n",
      "Executing preprocess_user_features\n",
      "Execution time for preprocess_user_features = 0.001 mins\n",
      "Executing reduce_the_dim_context\n",
      "The dimension of the original context = 131\n",
      "The dimension of the context after PCA = 60\n",
      "The cumularive explained variance for the dimension of context is 0.735\n",
      "Execution time for educe_the_dim_context = 0.030 mins\n",
      "Executing reduce_the_dim_action_context\n",
      "The dimension of the original action context = 619\n",
      "The dimension of the action context after PCA = 40\n",
      "The cumularive explained variance for the dimension of action context is 0.774\n",
      "Execution time for reduce_the_dim_action_context = 0.089 mins\n",
      "Executing create_behavior_and_evaluation_policy_and_pscore\n",
      "Execution time for create_behavior_and_evaluation_policy_and_pscore = 1.052 mins\n",
      "The number of the training data = 109878\n",
      "The number of the test data = 53477\n",
      "Number of actions in dataset |A| = 100\n",
      "\n",
      "Executing create_expected_reward\n",
      "RegressionModelTimeTrue fitting and predition for training data time = 0.441 mins\n",
      "RegressionModelTimeTrue fitting and predition for test data time = 0.166 mins\n",
      "Execution time for create_expected_reward = 0.608 mins\n",
      "#################### END of preprocessing ####################\n",
      "\n",
      "Execution time for preprocessing = 3.063 mins\n",
      "\n",
      "#################### START of OPL ####################\n",
      "RegressionModelTimeStructure fitting and predition time = 0.402 mins\n"
     ]
    },
    {
     "name": "stderr",
     "output_type": "stream",
     "text": []
    },
    {
     "name": "stdout",
     "output_type": "stream",
     "text": [
      "Execution time for iter 1/25 in OPFV = 9.680 mins\n"
     ]
    },
    {
     "name": "stderr",
     "output_type": "stream",
     "text": []
    },
    {
     "name": "stdout",
     "output_type": "stream",
     "text": [
      "Execution time for iter 2/25 in OPFV = 9.727 mins\n"
     ]
    },
    {
     "name": "stderr",
     "output_type": "stream",
     "text": []
    },
    {
     "name": "stdout",
     "output_type": "stream",
     "text": [
      "Execution time for iter 3/25 in OPFV = 9.702 mins\n"
     ]
    },
    {
     "name": "stderr",
     "output_type": "stream",
     "text": []
    },
    {
     "name": "stdout",
     "output_type": "stream",
     "text": [
      "Execution time for iter 4/25 in OPFV = 9.674 mins\n"
     ]
    },
    {
     "name": "stderr",
     "output_type": "stream",
     "text": []
    },
    {
     "name": "stdout",
     "output_type": "stream",
     "text": [
      "Execution time for iter 5/25 in OPFV = 9.710 mins\n"
     ]
    },
    {
     "name": "stderr",
     "output_type": "stream",
     "text": []
    },
    {
     "name": "stdout",
     "output_type": "stream",
     "text": [
      "Execution time for iter 6/25 in OPFV = 9.729 mins\n"
     ]
    },
    {
     "name": "stderr",
     "output_type": "stream",
     "text": []
    },
    {
     "name": "stdout",
     "output_type": "stream",
     "text": [
      "Execution time for iter 7/25 in OPFV = 9.672 mins\n"
     ]
    },
    {
     "name": "stderr",
     "output_type": "stream",
     "text": []
    },
    {
     "name": "stdout",
     "output_type": "stream",
     "text": [
      "Execution time for iter 8/25 in OPFV = 9.751 mins\n"
     ]
    },
    {
     "name": "stderr",
     "output_type": "stream",
     "text": []
    },
    {
     "name": "stdout",
     "output_type": "stream",
     "text": [
      "Execution time for iter 9/25 in OPFV = 9.752 mins\n"
     ]
    },
    {
     "name": "stderr",
     "output_type": "stream",
     "text": []
    },
    {
     "name": "stdout",
     "output_type": "stream",
     "text": [
      "Execution time for iter 10/25 in OPFV = 9.731 mins\n"
     ]
    },
    {
     "name": "stderr",
     "output_type": "stream",
     "text": []
    },
    {
     "name": "stdout",
     "output_type": "stream",
     "text": [
      "Execution time for iter 11/25 in OPFV = 9.736 mins\n"
     ]
    },
    {
     "name": "stderr",
     "output_type": "stream",
     "text": []
    },
    {
     "name": "stdout",
     "output_type": "stream",
     "text": [
      "Execution time for iter 12/25 in OPFV = 9.732 mins\n"
     ]
    },
    {
     "name": "stderr",
     "output_type": "stream",
     "text": []
    },
    {
     "name": "stdout",
     "output_type": "stream",
     "text": [
      "Execution time for iter 13/25 in OPFV = 9.735 mins\n"
     ]
    },
    {
     "name": "stderr",
     "output_type": "stream",
     "text": []
    },
    {
     "name": "stdout",
     "output_type": "stream",
     "text": [
      "Execution time for iter 14/25 in OPFV = 9.752 mins\n"
     ]
    },
    {
     "name": "stderr",
     "output_type": "stream",
     "text": []
    },
    {
     "name": "stdout",
     "output_type": "stream",
     "text": [
      "Execution time for iter 15/25 in OPFV = 9.730 mins\n"
     ]
    },
    {
     "name": "stderr",
     "output_type": "stream",
     "text": []
    },
    {
     "name": "stdout",
     "output_type": "stream",
     "text": [
      "Execution time for iter 16/25 in OPFV = 9.692 mins\n"
     ]
    },
    {
     "name": "stderr",
     "output_type": "stream",
     "text": []
    },
    {
     "name": "stdout",
     "output_type": "stream",
     "text": [
      "Execution time for iter 17/25 in OPFV = 9.726 mins\n"
     ]
    },
    {
     "name": "stderr",
     "output_type": "stream",
     "text": []
    },
    {
     "name": "stdout",
     "output_type": "stream",
     "text": [
      "Execution time for iter 18/25 in OPFV = 9.787 mins\n"
     ]
    },
    {
     "name": "stderr",
     "output_type": "stream",
     "text": []
    },
    {
     "name": "stdout",
     "output_type": "stream",
     "text": [
      "Execution time for iter 19/25 in OPFV = 9.731 mins\n"
     ]
    },
    {
     "name": "stderr",
     "output_type": "stream",
     "text": []
    },
    {
     "name": "stdout",
     "output_type": "stream",
     "text": [
      "Execution time for iter 20/25 in OPFV = 9.732 mins\n"
     ]
    },
    {
     "name": "stderr",
     "output_type": "stream",
     "text": []
    },
    {
     "name": "stdout",
     "output_type": "stream",
     "text": [
      "Execution time for iter 21/25 in OPFV = 9.750 mins\n"
     ]
    },
    {
     "name": "stderr",
     "output_type": "stream",
     "text": []
    },
    {
     "name": "stdout",
     "output_type": "stream",
     "text": [
      "Execution time for iter 22/25 in OPFV = 9.666 mins\n"
     ]
    },
    {
     "name": "stderr",
     "output_type": "stream",
     "text": []
    },
    {
     "name": "stdout",
     "output_type": "stream",
     "text": [
      "Execution time for iter 23/25 in OPFV = 9.799 mins\n"
     ]
    },
    {
     "name": "stderr",
     "output_type": "stream",
     "text": []
    },
    {
     "name": "stdout",
     "output_type": "stream",
     "text": [
      "Execution time for iter 24/25 in OPFV = 9.740 mins\n"
     ]
    },
    {
     "name": "stderr",
     "output_type": "stream",
     "text": [
      "100%|██████████| 25/25 [4:03:10<00:00, 583.64s/it]\n",
      " 90%|█████████ | 9/10 [58:37:22<5:48:18, 20898.28s/it] "
     ]
    },
    {
     "name": "stdout",
     "output_type": "stream",
     "text": [
      "Execution time for iter 25/25 in OPFV = 9.746 mins\n",
      "OPFV (tuned) exectution time = 243.184 mins\n",
      "Execution time for OPL: 243.586 mins\n",
      "#################### END of OPL ####################\n",
      "\n",
      "ROUND 9/10: test_policy_value_list_DM = {'pi_b': 0.8625899555271078, 'opfv (tuned)': 0.720461679407531}\n",
      "ROUND 9/10: test_policy_value_list_IPS = {'pi_b': 0.8155045617723397, 'opfv (tuned)': 0.6898033004689228}\n",
      "ROUND 9/10: test_policy_value_list_SNIPS = {'pi_b': 0.8155045617723397, 'opfv (tuned)': 0.687117304400665}\n",
      "ROUND 9/10: test_policy_value_list_SNDR = {'pi_b': 0.8275253478036803, 'opfv (tuned)': 0.6775686964101393}\n",
      "############################################### END of ROUND 9/10 ###############################################\n",
      "\n",
      "\n",
      "\n",
      "\n",
      "############################################### START of ROUND 10/10 ###############################################\n",
      "\n",
      "#################### START of preprocessing ####################\n",
      "Maximum number of unique actions that we can use for training and test data = 2548\n",
      "Execution time of preprocess_item_categories = 0.006 mins\n",
      "Executing preprocess_item_daily_features\n",
      "Execution time for preprocess_item_daily_features = 1.167 mins\n",
      "Executing preprocess_user_features\n",
      "Execution time for preprocess_user_features = 0.002 mins\n",
      "Executing reduce_the_dim_context\n",
      "The dimension of the original context = 131\n",
      "The dimension of the context after PCA = 60\n",
      "The cumularive explained variance for the dimension of context is 0.735\n",
      "Execution time for educe_the_dim_context = 0.032 mins\n",
      "Executing reduce_the_dim_action_context\n",
      "The dimension of the original action context = 619\n",
      "The dimension of the action context after PCA = 40\n",
      "The cumularive explained variance for the dimension of action context is 0.776\n",
      "Execution time for reduce_the_dim_action_context = 0.093 mins\n",
      "Executing create_behavior_and_evaluation_policy_and_pscore\n",
      "Execution time for create_behavior_and_evaluation_policy_and_pscore = 0.917 mins\n",
      "The number of the training data = 116887\n",
      "The number of the test data = 46347\n",
      "Number of actions in dataset |A| = 100\n",
      "\n",
      "Executing create_expected_reward\n",
      "RegressionModelTimeTrue fitting and predition for training data time = 0.448 mins\n",
      "RegressionModelTimeTrue fitting and predition for test data time = 0.146 mins\n",
      "Execution time for create_expected_reward = 0.595 mins\n",
      "#################### END of preprocessing ####################\n",
      "\n",
      "Execution time for preprocessing = 2.937 mins\n",
      "\n",
      "#################### START of OPL ####################\n",
      "RegressionModelTimeStructure fitting and predition time = 0.425 mins\n"
     ]
    },
    {
     "name": "stderr",
     "output_type": "stream",
     "text": []
    },
    {
     "name": "stdout",
     "output_type": "stream",
     "text": [
      "Execution time for iter 1/25 in OPFV = 10.352 mins\n"
     ]
    },
    {
     "name": "stderr",
     "output_type": "stream",
     "text": []
    },
    {
     "name": "stdout",
     "output_type": "stream",
     "text": [
      "Execution time for iter 2/25 in OPFV = 10.331 mins\n"
     ]
    },
    {
     "name": "stderr",
     "output_type": "stream",
     "text": []
    },
    {
     "name": "stdout",
     "output_type": "stream",
     "text": [
      "Execution time for iter 3/25 in OPFV = 10.349 mins\n"
     ]
    },
    {
     "name": "stderr",
     "output_type": "stream",
     "text": []
    },
    {
     "name": "stdout",
     "output_type": "stream",
     "text": [
      "Execution time for iter 4/25 in OPFV = 10.368 mins\n"
     ]
    },
    {
     "name": "stderr",
     "output_type": "stream",
     "text": []
    },
    {
     "name": "stdout",
     "output_type": "stream",
     "text": [
      "Execution time for iter 5/25 in OPFV = 10.286 mins\n"
     ]
    },
    {
     "name": "stderr",
     "output_type": "stream",
     "text": []
    },
    {
     "name": "stdout",
     "output_type": "stream",
     "text": [
      "Execution time for iter 6/25 in OPFV = 10.359 mins\n"
     ]
    },
    {
     "name": "stderr",
     "output_type": "stream",
     "text": []
    },
    {
     "name": "stdout",
     "output_type": "stream",
     "text": [
      "Execution time for iter 7/25 in OPFV = 10.290 mins\n"
     ]
    },
    {
     "name": "stderr",
     "output_type": "stream",
     "text": []
    },
    {
     "name": "stdout",
     "output_type": "stream",
     "text": [
      "Execution time for iter 8/25 in OPFV = 10.312 mins\n"
     ]
    },
    {
     "name": "stderr",
     "output_type": "stream",
     "text": []
    },
    {
     "name": "stdout",
     "output_type": "stream",
     "text": [
      "Execution time for iter 9/25 in OPFV = 10.373 mins\n"
     ]
    },
    {
     "name": "stderr",
     "output_type": "stream",
     "text": []
    },
    {
     "name": "stdout",
     "output_type": "stream",
     "text": [
      "Execution time for iter 10/25 in OPFV = 10.316 mins\n"
     ]
    },
    {
     "name": "stderr",
     "output_type": "stream",
     "text": []
    },
    {
     "name": "stdout",
     "output_type": "stream",
     "text": [
      "Execution time for iter 11/25 in OPFV = 10.383 mins\n"
     ]
    },
    {
     "name": "stderr",
     "output_type": "stream",
     "text": []
    },
    {
     "name": "stdout",
     "output_type": "stream",
     "text": [
      "Execution time for iter 12/25 in OPFV = 10.356 mins\n"
     ]
    },
    {
     "name": "stderr",
     "output_type": "stream",
     "text": []
    },
    {
     "name": "stdout",
     "output_type": "stream",
     "text": [
      "Execution time for iter 13/25 in OPFV = 10.307 mins\n"
     ]
    },
    {
     "name": "stderr",
     "output_type": "stream",
     "text": []
    },
    {
     "name": "stdout",
     "output_type": "stream",
     "text": [
      "Execution time for iter 14/25 in OPFV = 10.369 mins\n"
     ]
    },
    {
     "name": "stderr",
     "output_type": "stream",
     "text": []
    },
    {
     "name": "stdout",
     "output_type": "stream",
     "text": [
      "Execution time for iter 15/25 in OPFV = 10.348 mins\n"
     ]
    },
    {
     "name": "stderr",
     "output_type": "stream",
     "text": []
    },
    {
     "name": "stdout",
     "output_type": "stream",
     "text": [
      "Execution time for iter 16/25 in OPFV = 10.379 mins\n"
     ]
    },
    {
     "name": "stderr",
     "output_type": "stream",
     "text": []
    },
    {
     "name": "stdout",
     "output_type": "stream",
     "text": [
      "Execution time for iter 17/25 in OPFV = 10.390 mins\n"
     ]
    },
    {
     "name": "stderr",
     "output_type": "stream",
     "text": []
    },
    {
     "name": "stdout",
     "output_type": "stream",
     "text": [
      "Execution time for iter 18/25 in OPFV = 10.313 mins\n"
     ]
    },
    {
     "name": "stderr",
     "output_type": "stream",
     "text": []
    },
    {
     "name": "stdout",
     "output_type": "stream",
     "text": [
      "Execution time for iter 19/25 in OPFV = 10.311 mins\n"
     ]
    },
    {
     "name": "stderr",
     "output_type": "stream",
     "text": []
    },
    {
     "name": "stdout",
     "output_type": "stream",
     "text": [
      "Execution time for iter 20/25 in OPFV = 10.356 mins\n"
     ]
    },
    {
     "name": "stderr",
     "output_type": "stream",
     "text": []
    },
    {
     "name": "stdout",
     "output_type": "stream",
     "text": [
      "Execution time for iter 21/25 in OPFV = 10.338 mins\n"
     ]
    },
    {
     "name": "stderr",
     "output_type": "stream",
     "text": []
    },
    {
     "name": "stdout",
     "output_type": "stream",
     "text": [
      "Execution time for iter 22/25 in OPFV = 10.351 mins\n"
     ]
    },
    {
     "name": "stderr",
     "output_type": "stream",
     "text": []
    },
    {
     "name": "stdout",
     "output_type": "stream",
     "text": [
      "Execution time for iter 23/25 in OPFV = 10.324 mins\n"
     ]
    },
    {
     "name": "stderr",
     "output_type": "stream",
     "text": []
    },
    {
     "name": "stdout",
     "output_type": "stream",
     "text": [
      "Execution time for iter 24/25 in OPFV = 10.410 mins\n"
     ]
    },
    {
     "name": "stderr",
     "output_type": "stream",
     "text": [
      "100%|██████████| 25/25 [4:18:38<00:00, 620.73s/it]\n",
      "100%|██████████| 10/10 [62:59:22<00:00, 22676.27s/it] "
     ]
    },
    {
     "name": "stdout",
     "output_type": "stream",
     "text": [
      "Execution time for iter 25/25 in OPFV = 10.368 mins\n",
      "OPFV (tuned) exectution time = 258.638 mins\n",
      "Execution time for OPL: 259.064 mins\n",
      "#################### END of OPL ####################\n",
      "\n",
      "ROUND 10/10: test_policy_value_list_DM = {'pi_b': 0.9701250557479605, 'opfv (tuned)': 1.2141077958692346}\n",
      "ROUND 10/10: test_policy_value_list_IPS = {'pi_b': 0.9255632286169481, 'opfv (tuned)': 0.9414382516529288}\n",
      "ROUND 10/10: test_policy_value_list_SNIPS = {'pi_b': 0.9255632286169481, 'opfv (tuned)': 1.013646146078603}\n",
      "ROUND 10/10: test_policy_value_list_SNDR = {'pi_b': 0.9357688409696717, 'opfv (tuned)': 1.1056077511614633}\n",
      "############################################### END of ROUND 10/10 ###############################################\n",
      "\n",
      "\n",
      "\n",
      "Execution time = 3779.516 mins\n"
     ]
    },
    {
     "name": "stderr",
     "output_type": "stream",
     "text": [
      "\n"
     ]
    }
   ],
   "source": [
    "# Set seed\n",
    "torch.manual_seed(conf.random_state)\n",
    "random_ = check_random_state(conf.random_state)\n",
    "\n",
    "test_policy_value_list_DM_all_results = []\n",
    "test_policy_value_list_IPS_all_results = []\n",
    "test_policy_value_list_SNIPS_all_results = []\n",
    "test_policy_value_list_SNDR_all_results = []\n",
    "pi_learned_list_all_results = []\n",
    "\n",
    "for _ in tqdm(range(conf.n_seeds)):\n",
    "    print(f\"\\n############################################### START of ROUND {_ + 1}/{conf.n_seeds} ###############################################\")\n",
    "\n",
    "    ### Preprocess ###\n",
    "    time_pre_process_start = time.time()\n",
    "    dataset, dataset_train, dataset_test = pre_process(small_matrix, big_matrix, item_categories, item_daily_features, user_features, social_network, \n",
    "                                                       random_state = conf.random_state + _, n_actions=conf.n_actions, dim_context=conf.dim_context, dim_action_context=conf.dim_action_context)\n",
    "    time_pre_process_end = time.time()\n",
    "\n",
    "    elapsed_time = time_pre_process_end - time_pre_process_start\n",
    "    print(f'Execution time for preprocessing = {elapsed_time / 60:.3f} mins') \n",
    "\n",
    "    ### OPL ###\n",
    "    start_time = time.time()\n",
    "\n",
    "    pi_opfv_tuned = OPL_OPFV_tune_phi(\n",
    "        dataset = dataset, \n",
    "        dataset_test = dataset_test, \n",
    "        dataset_train = dataset_train, \n",
    "        time_test = dataset_test[\"time\"], \n",
    "        round = conf.random_state + _, \n",
    "\n",
    "        num_time_structure_for_OPFV_reward = conf.num_time_structure_for_OPFV_reward, \n",
    "        phi_scalar_func_for_OPFV = conf.phi_scalar_func_for_OPFV, \n",
    "        \n",
    "        n_actions = dataset[\"n_actions\"], \n",
    "        dim_context = dataset[\"dim_context\"], \n",
    "\n",
    "        max_iter = conf.max_iter, \n",
    "        batch_size = conf.batch_size, \n",
    "        num_time_learn = conf.num_time_learn, \n",
    "    )\n",
    "\n",
    "\n",
    "    end_time = time.time()\n",
    "    elapsed_time = end_time - start_time\n",
    "\n",
    "    print(f\"Execution time for OPL: {elapsed_time / 60:.3f} mins\")\n",
    "\n",
    "\n",
    "    ### Evaluate the learned policy ###\n",
    "    test_policy_value_list_DM, test_policy_value_list_IPS, test_policy_value_list_SNIPS, test_policy_value_list_SNDR = evaluate_OPL_algorithm(dataset_test=dataset_test, \n",
    "                                                                                # pi_reg=pi_reg, \n",
    "                                                                                # pi_ips=pi_ips, \n",
    "                                                                                # pi_dr=pi_dr, \n",
    "\n",
    "                                                                                # pi_prognosticator_DM=pi_prognosticator_DM, \n",
    "                                                                                # pi_prognosticator_IPS=pi_prognosticator_IPS, \n",
    "                                                                                # pi_prognosticator_SNIPS=pi_prognosticator_SNIPS, \n",
    "                                                                                # pi_prognosticator_SNDR=pi_prognosticator_SNDR, \n",
    "                                                                                # pi_opfv=pi_opfv, \n",
    "                                                                                pi_opfv_tuned=pi_opfv_tuned, \n",
    "\n",
    "                                                                                test_policy_value_list_DM_all_results = test_policy_value_list_DM_all_results, \n",
    "                                                                                test_policy_value_list_IPS_all_results = test_policy_value_list_IPS_all_results, \n",
    "                                                                                test_policy_value_list_SNIPS_all_results = test_policy_value_list_SNIPS_all_results, \n",
    "                                                                                test_policy_value_list_SNDR_all_results = test_policy_value_list_SNDR_all_results, \n",
    "                                                                                round = _, \n",
    "                                                                                )\n",
    "    \n",
    "    ### Write the result tables to the CSV files\n",
    "    # result_pi_learned = pi_learned_list_all_results.copy()\n",
    "    result_df_DM = test_policy_value_list_DM_all_results.copy()\n",
    "    result_df_IPS = test_policy_value_list_IPS_all_results.copy()\n",
    "    result_df_SNIPS = test_policy_value_list_SNIPS_all_results.copy()\n",
    "    result_df_SNDR = test_policy_value_list_SNDR_all_results.copy()\n",
    "\n",
    "    result_df_DM = pd.DataFrame(result_df_DM)\n",
    "    result_df_IPS = pd.DataFrame(result_df_IPS)\n",
    "    result_df_SNIPS = pd.DataFrame(result_df_SNIPS)\n",
    "    result_df_SNDR = pd.DataFrame(result_df_SNDR)\n",
    "\n",
    "    result_df_DM.to_csv(df_path / \"result_df_DM_opfv_tuned.csv\")\n",
    "    result_df_IPS.to_csv(df_path / \"result_df_IPS_opfv_tuned.csv\")\n",
    "    result_df_SNIPS.to_csv(df_path / \"result_df_SNIPS_opfv_tuned.csv\")\n",
    "    result_df_SNDR.to_csv(df_path / \"result_df_SNDR_opfv_tuned.csv\")\n",
    "\n",
    "    print(f\"############################################### END of ROUND {_ + 1}/{conf.n_seeds} ###############################################\\n\\n\\n\")\n",
    "\n",
    "time_whole_execution_end = time.time()\n",
    "\n",
    "time_whole_execution = time_whole_execution_end - time_whole_execution_start\n",
    "\n",
    "print(f'Execution time = {time_whole_execution / 60:.3f} mins')"
   ]
  },
  {
   "cell_type": "code",
   "execution_count": 7,
   "metadata": {},
   "outputs": [],
   "source": [
    "### Write the result tables to the CSV files\n",
    "# result_pi_learned = pi_learned_list_all_results.copy()\n",
    "result_df_DM = test_policy_value_list_DM_all_results.copy()\n",
    "result_df_IPS = test_policy_value_list_IPS_all_results.copy()\n",
    "result_df_SNIPS = test_policy_value_list_SNIPS_all_results.copy()\n",
    "result_df_SNDR = test_policy_value_list_SNDR_all_results.copy()\n",
    "\n",
    "result_df_DM = pd.DataFrame(result_df_DM)\n",
    "result_df_IPS = pd.DataFrame(result_df_IPS)\n",
    "result_df_SNIPS = pd.DataFrame(result_df_SNIPS)\n",
    "result_df_SNDR = pd.DataFrame(result_df_SNDR)\n",
    "\n",
    "result_df_DM.to_csv(df_path / \"result_df_DM_opfv_tuned.csv\")\n",
    "result_df_IPS.to_csv(df_path / \"result_df_IPS_opfv_tuned.csv\")\n",
    "result_df_SNIPS.to_csv(df_path / \"result_df_SNIPS_opfv_tuned.csv\")\n",
    "result_df_SNDR.to_csv(df_path / \"result_df_SNDR_opfv_tuned.csv\")"
   ]
  }
 ],
 "metadata": {
  "kernelspec": {
   "display_name": "hanjuku",
   "language": "python",
   "name": "python3"
  },
  "language_info": {
   "codemirror_mode": {
    "name": "ipython",
    "version": 3
   },
   "file_extension": ".py",
   "mimetype": "text/x-python",
   "name": "python",
   "nbconvert_exporter": "python",
   "pygments_lexer": "ipython3",
   "version": "3.8.18"
  }
 },
 "nbformat": 4,
 "nbformat_minor": 2
}
