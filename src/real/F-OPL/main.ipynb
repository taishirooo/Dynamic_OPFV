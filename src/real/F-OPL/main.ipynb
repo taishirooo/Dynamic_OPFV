{
 "cells": [
  {
   "cell_type": "code",
   "execution_count": 1,
   "metadata": {},
   "outputs": [],
   "source": [
    "%reload_ext autoreload\n",
    "%autoreload 2"
   ]
  },
  {
   "cell_type": "code",
   "execution_count": 2,
   "metadata": {},
   "outputs": [],
   "source": [
    "import time\n",
    "import torch\n",
    "import pandas as pd\n",
    "from sklearn.utils import check_random_state\n",
    "from opl import OPL, evaluate_OPL_algorithm, OPL_OPFV_tune_phi\n",
    "import warnings\n",
    "warnings.filterwarnings('ignore')\n",
    "import conf\n",
    "from tqdm import tqdm\n",
    "from preprocess import pre_process\n",
    "from logging import getLogger\n",
    "from pathlib import Path"
   ]
  },
  {
   "cell_type": "code",
   "execution_count": 3,
   "metadata": {},
   "outputs": [],
   "source": [
    "time_whole_execution_start = time.time()"
   ]
  },
  {
   "cell_type": "code",
   "execution_count": 4,
   "metadata": {},
   "outputs": [
    {
     "name": "stderr",
     "output_type": "stream",
     "text": [
      "INFO:__main__:The current working directory is /Users/s23599/document/research/Sony-Non-Stationary-OPE-OPL/icml2024-opfv/src-optimize-phi/real/F-OPL-newest\n"
     ]
    }
   ],
   "source": [
    "logger = getLogger(__name__)\n",
    "logger.info(f\"The current working directory is {Path().cwd()}\")\n",
    "\n",
    "# log path\n",
    "log_path = Path(\"./real_data\")\n",
    "df_path = log_path / \"df\"\n",
    "df_path.mkdir(exist_ok=True, parents=True)"
   ]
  },
  {
   "cell_type": "code",
   "execution_count": 5,
   "metadata": {},
   "outputs": [
    {
     "name": "stdout",
     "output_type": "stream",
     "text": [
      "Loading big matrix...\n",
      "Loading small matrix...\n",
      "Loading social network...\n",
      "Loading item features...\n",
      "Loading user features...\n",
      "Loading items' daily features...\n",
      "All data loaded.\n"
     ]
    }
   ],
   "source": [
    "# If you are running locally, make sure you are in the directory of KuaiRec.\n",
    "rootpath=\"../../../../KuaiRec/\"\n",
    "\n",
    "# Read the CSV files\n",
    "print(\"Loading big matrix...\")\n",
    "big_matrix = pd.read_csv(rootpath + \"data/big_matrix.csv\")\n",
    "print(\"Loading small matrix...\")\n",
    "small_matrix = pd.read_csv(rootpath + \"data/small_matrix.csv\")\n",
    "\n",
    "print(\"Loading social network...\")\n",
    "social_network = pd.read_csv(rootpath + \"data/social_network.csv\")\n",
    "social_network[\"friend_list\"] = social_network[\"friend_list\"].map(eval)\n",
    "\n",
    "print(\"Loading item features...\")\n",
    "item_categories = pd.read_csv(rootpath + \"data/item_categories.csv\")\n",
    "item_categories[\"feat\"] = item_categories[\"feat\"].map(eval)\n",
    "\n",
    "print(\"Loading user features...\")\n",
    "user_features = pd.read_csv(rootpath + \"data/user_features.csv\")\n",
    "\n",
    "print(\"Loading items' daily features...\")\n",
    "item_daily_features = pd.read_csv(rootpath + \"data/item_daily_features.csv\")\n",
    "\n",
    "print(\"All data loaded.\")"
   ]
  },
  {
   "cell_type": "code",
   "execution_count": 6,
   "metadata": {},
   "outputs": [
    {
     "name": "stderr",
     "output_type": "stream",
     "text": [
      "  0%|          | 0/10 [00:00<?, ?it/s]"
     ]
    },
    {
     "name": "stdout",
     "output_type": "stream",
     "text": [
      "\n",
      "############################################### START of ROUND 1/10 ###############################################\n",
      "\n",
      "#################### START of preprocessing ####################\n",
      "Maximum number of unique actions that we can use for training and test data = 2547\n",
      "Execution time of preprocess_item_categories = 0.007 mins\n",
      "Executing preprocess_item_daily_features\n",
      "Execution time for preprocess_item_daily_features = 1.987 mins\n",
      "Executing preprocess_user_features\n",
      "Execution time for preprocess_user_features = 0.002 mins\n",
      "Executing reduce_the_dim_context\n",
      "The dimension of the original context = 131\n",
      "The dimension of the context after PCA = 60\n",
      "The cumularive explained variance for the dimension of context is 0.736\n",
      "Execution time for educe_the_dim_context = 1.622 mins\n",
      "Executing reduce_the_dim_action_context\n",
      "The dimension of the original action context = 619\n",
      "The dimension of the action context after PCA = 40\n",
      "The cumularive explained variance for the dimension of action context is 0.780\n",
      "Execution time for reduce_the_dim_action_context = 3.617 mins\n",
      "Executing create_behavior_and_evaluation_policy_and_pscore\n",
      "Execution time for create_behavior_and_evaluation_policy_and_pscore = 2.124 mins\n",
      "The number of the training data = 148596\n",
      "The number of the test data = 40179\n",
      "Number of actions in dataset |A| = 100\n",
      "\n",
      "Executing create_expected_reward\n",
      "RegressionModelTimeTrue fitting and predition for training data time = 1.105 mins\n",
      "RegressionModelTimeTrue fitting and predition for test data time = 0.284 mins\n",
      "Execution time for create_expected_reward = 1.391 mins\n",
      "#################### END of preprocessing ####################\n",
      "\n",
      "Execution time for preprocessing = 10.934 mins\n",
      "\n",
      "#################### START of OPL ####################\n",
      "pi_reg = [[9.31427905e-07 2.39989777e-06 1.19648143e-06 ... 9.64049104e-06\n",
      "  6.92684625e-06 1.90834900e-11]\n",
      " [3.93911387e-06 1.73370040e-06 2.35210314e-06 ... 3.78416153e-04\n",
      "  4.43171257e-06 4.82144706e-11]\n",
      " [5.20800313e-06 3.07866458e-06 1.50941787e-05 ... 7.46405203e-05\n",
      "  3.63890285e-05 2.18628449e-11]\n",
      " ...\n",
      " [3.24582050e-09 2.50026133e-09 3.63629771e-09 ... 3.72803916e-04\n",
      "  6.00248429e-09 2.54867826e-14]\n",
      " [4.93533207e-06 1.98754992e-06 1.18762364e-05 ... 1.05910607e-04\n",
      "  1.92746629e-05 5.72296412e-11]\n",
      " [5.95342453e-06 6.58869396e-07 4.01694842e-06 ... 1.05614774e-04\n",
      "  2.17299839e-05 6.92425145e-11]]\n",
      "Regression-based exectution time = 0.641 mins\n",
      "IPS exectution time = 1.067 mins\n",
      "RegressionModel fitting and predition time = 0.674 mins\n",
      "DR exectution time = 1.685 mins\n"
     ]
    },
    {
     "name": "stderr",
     "output_type": "stream",
     "text": [
      "num_features_for_Prognosticator = 3: 100%|██████████| 1/1 [01:18<00:00, 78.57s/it]\n",
      "num_features_for_Prognosticator = 5: 100%|██████████| 1/1 [01:18<00:00, 78.80s/it]\n",
      "num_features_for_Prognosticator = 7: 100%|██████████| 1/1 [01:18<00:00, 78.55s/it]\n"
     ]
    },
    {
     "name": "stdout",
     "output_type": "stream",
     "text": [
      "Prognosticator exectution time = 3.932 mins\n",
      "RegressionModelTimeStructure fitting and predition time = 0.623 mins\n"
     ]
    },
    {
     "name": "stderr",
     "output_type": "stream",
     "text": []
    },
    {
     "name": "stdout",
     "output_type": "stream",
     "text": [
      "Execution time for iter 1/25 in OPFV = 1.979 mins\n"
     ]
    },
    {
     "name": "stderr",
     "output_type": "stream",
     "text": []
    },
    {
     "name": "stdout",
     "output_type": "stream",
     "text": [
      "Execution time for iter 2/25 in OPFV = 1.953 mins\n"
     ]
    },
    {
     "name": "stderr",
     "output_type": "stream",
     "text": []
    },
    {
     "name": "stdout",
     "output_type": "stream",
     "text": [
      "Execution time for iter 3/25 in OPFV = 1.924 mins\n"
     ]
    },
    {
     "name": "stderr",
     "output_type": "stream",
     "text": []
    },
    {
     "name": "stdout",
     "output_type": "stream",
     "text": [
      "Execution time for iter 4/25 in OPFV = 1.959 mins\n"
     ]
    },
    {
     "name": "stderr",
     "output_type": "stream",
     "text": []
    },
    {
     "name": "stdout",
     "output_type": "stream",
     "text": [
      "Execution time for iter 5/25 in OPFV = 1.991 mins\n"
     ]
    },
    {
     "name": "stderr",
     "output_type": "stream",
     "text": []
    },
    {
     "name": "stdout",
     "output_type": "stream",
     "text": [
      "Execution time for iter 6/25 in OPFV = 1.974 mins\n"
     ]
    },
    {
     "name": "stderr",
     "output_type": "stream",
     "text": []
    },
    {
     "name": "stdout",
     "output_type": "stream",
     "text": [
      "Execution time for iter 7/25 in OPFV = 1.947 mins\n"
     ]
    },
    {
     "name": "stderr",
     "output_type": "stream",
     "text": []
    },
    {
     "name": "stdout",
     "output_type": "stream",
     "text": [
      "Execution time for iter 8/25 in OPFV = 2.000 mins\n"
     ]
    },
    {
     "name": "stderr",
     "output_type": "stream",
     "text": []
    },
    {
     "name": "stdout",
     "output_type": "stream",
     "text": [
      "Execution time for iter 9/25 in OPFV = 1.910 mins\n"
     ]
    },
    {
     "name": "stderr",
     "output_type": "stream",
     "text": []
    },
    {
     "name": "stdout",
     "output_type": "stream",
     "text": [
      "Execution time for iter 10/25 in OPFV = 1.908 mins\n"
     ]
    },
    {
     "name": "stderr",
     "output_type": "stream",
     "text": []
    },
    {
     "name": "stdout",
     "output_type": "stream",
     "text": [
      "Execution time for iter 11/25 in OPFV = 1.995 mins\n"
     ]
    },
    {
     "name": "stderr",
     "output_type": "stream",
     "text": []
    },
    {
     "name": "stdout",
     "output_type": "stream",
     "text": [
      "Execution time for iter 12/25 in OPFV = 1.933 mins\n"
     ]
    },
    {
     "name": "stderr",
     "output_type": "stream",
     "text": []
    },
    {
     "name": "stdout",
     "output_type": "stream",
     "text": [
      "Execution time for iter 13/25 in OPFV = 1.952 mins\n"
     ]
    },
    {
     "name": "stderr",
     "output_type": "stream",
     "text": []
    },
    {
     "name": "stdout",
     "output_type": "stream",
     "text": [
      "Execution time for iter 14/25 in OPFV = 2.006 mins\n"
     ]
    },
    {
     "name": "stderr",
     "output_type": "stream",
     "text": []
    },
    {
     "name": "stdout",
     "output_type": "stream",
     "text": [
      "Execution time for iter 15/25 in OPFV = 1.910 mins\n"
     ]
    },
    {
     "name": "stderr",
     "output_type": "stream",
     "text": []
    },
    {
     "name": "stdout",
     "output_type": "stream",
     "text": [
      "Execution time for iter 16/25 in OPFV = 1.901 mins\n"
     ]
    },
    {
     "name": "stderr",
     "output_type": "stream",
     "text": []
    },
    {
     "name": "stdout",
     "output_type": "stream",
     "text": [
      "Execution time for iter 17/25 in OPFV = 1.914 mins\n"
     ]
    },
    {
     "name": "stderr",
     "output_type": "stream",
     "text": []
    },
    {
     "name": "stdout",
     "output_type": "stream",
     "text": [
      "Execution time for iter 18/25 in OPFV = 1.897 mins\n"
     ]
    },
    {
     "name": "stderr",
     "output_type": "stream",
     "text": []
    },
    {
     "name": "stdout",
     "output_type": "stream",
     "text": [
      "Execution time for iter 19/25 in OPFV = 1.893 mins\n"
     ]
    },
    {
     "name": "stderr",
     "output_type": "stream",
     "text": []
    },
    {
     "name": "stdout",
     "output_type": "stream",
     "text": [
      "Execution time for iter 20/25 in OPFV = 1.925 mins\n"
     ]
    },
    {
     "name": "stderr",
     "output_type": "stream",
     "text": []
    },
    {
     "name": "stdout",
     "output_type": "stream",
     "text": [
      "Execution time for iter 21/25 in OPFV = 1.965 mins\n"
     ]
    },
    {
     "name": "stderr",
     "output_type": "stream",
     "text": []
    },
    {
     "name": "stdout",
     "output_type": "stream",
     "text": [
      "Execution time for iter 22/25 in OPFV = 2.027 mins\n"
     ]
    },
    {
     "name": "stderr",
     "output_type": "stream",
     "text": []
    },
    {
     "name": "stdout",
     "output_type": "stream",
     "text": [
      "Execution time for iter 23/25 in OPFV = 2.010 mins\n"
     ]
    },
    {
     "name": "stderr",
     "output_type": "stream",
     "text": []
    },
    {
     "name": "stdout",
     "output_type": "stream",
     "text": [
      "Execution time for iter 24/25 in OPFV = 1.943 mins\n"
     ]
    },
    {
     "name": "stderr",
     "output_type": "stream",
     "text": [
      "100%|██████████| 25/25 [48:45<00:00, 117.01s/it]\n",
      " 10%|█         | 1/10 [1:07:38<10:08:44, 4058.28s/it]"
     ]
    },
    {
     "name": "stdout",
     "output_type": "stream",
     "text": [
      "Execution time for iter 25/25 in OPFV = 1.937 mins\n",
      "OPFV exectution time = 49.377 mins\n",
      "Execution time for OPL: 56.702 mins\n",
      "#################### END of OPL ####################\n",
      "\n",
      "ROUND 1/10: test_policy_value_list_DM = {'pi_b': 0.941037128827863, 'reg': 1.7241598258246933, 'ips-pg': 0.9648640822992379, 'dr-pg': 1.113396104946275, 'prognosticator': 1.0345823073495952, 'opfv': 1.1784525045746939}\n",
      "ROUND 1/10: test_policy_value_list_IPS = {'pi_b': 0.8987712526299668, 'reg': 1.6513392872469839, 'ips-pg': 13.86363852660234, 'dr-pg': 81.22161251001044, 'prognosticator': 0.9066834709895981, 'opfv': 0.8880283164463566}\n",
      "ROUND 1/10: test_policy_value_list_SNIPS = {'pi_b': 0.8987712526299668, 'reg': 1.7629415399137751, 'ips-pg': 0.29827462821680606, 'dr-pg': 0.29071931061375056, 'prognosticator': 0.8937217331788664, 'opfv': 1.1118557230790824}\n",
      "ROUND 1/10: test_policy_value_list_SNDR = {'pi_b': 0.9101919220640171, 'reg': 1.8407279598317294, 'ips-pg': -0.9033673349840873, 'dr-pg': -0.779021793074119, 'prognosticator': 0.7630146508141695, 'opfv': 1.0784024712668443}\n",
      "############################################### END of ROUND 1/10 ###############################################\n",
      "\n",
      "\n",
      "\n",
      "\n",
      "############################################### START of ROUND 2/10 ###############################################\n",
      "\n",
      "#################### START of preprocessing ####################\n",
      "Maximum number of unique actions that we can use for training and test data = 2547\n",
      "Execution time of preprocess_item_categories = 0.007 mins\n",
      "Executing preprocess_item_daily_features\n",
      "Execution time for preprocess_item_daily_features = 1.842 mins\n",
      "Executing preprocess_user_features\n",
      "Execution time for preprocess_user_features = 0.002 mins\n",
      "Executing reduce_the_dim_context\n",
      "The dimension of the original context = 131\n",
      "The dimension of the context after PCA = 60\n",
      "The cumularive explained variance for the dimension of context is 0.736\n",
      "Execution time for educe_the_dim_context = 0.127 mins\n",
      "Executing reduce_the_dim_action_context\n",
      "The dimension of the original action context = 619\n",
      "The dimension of the action context after PCA = 40\n",
      "The cumularive explained variance for the dimension of action context is 0.735\n",
      "Execution time for reduce_the_dim_action_context = 0.346 mins\n",
      "Executing create_behavior_and_evaluation_policy_and_pscore\n",
      "Execution time for create_behavior_and_evaluation_policy_and_pscore = 1.719 mins\n",
      "The number of the training data = 129122\n",
      "The number of the test data = 38283\n",
      "Number of actions in dataset |A| = 100\n",
      "\n",
      "Executing create_expected_reward\n",
      "RegressionModelTimeTrue fitting and predition for training data time = 0.601 mins\n",
      "RegressionModelTimeTrue fitting and predition for test data time = 0.167 mins\n",
      "Execution time for create_expected_reward = 0.770 mins\n",
      "#################### END of preprocessing ####################\n",
      "\n",
      "Execution time for preprocessing = 4.960 mins\n",
      "\n",
      "#################### START of OPL ####################\n",
      "pi_reg = [[6.39465579e-05 8.98520739e-06 5.25732162e-07 ... 1.14700704e-07\n",
      "  1.31904119e-06 9.14551890e-07]\n",
      " [5.23573605e-18 3.77822975e-18 2.01271241e-18 ... 3.01574929e-19\n",
      "  5.06952238e-18 1.66388820e-17]\n",
      " [1.17534541e-11 2.48314986e-13 6.17604045e-14 ... 1.12211618e-13\n",
      "  1.90833989e-13 9.89055978e-14]\n",
      " ...\n",
      " [4.21198820e-05 2.31135027e-06 4.23887604e-06 ... 3.48649678e-07\n",
      "  3.80847587e-06 1.72858327e-05]\n",
      " [1.75937661e-03 2.19704583e-04 2.10074959e-05 ... 6.36650270e-07\n",
      "  1.04292412e-05 1.06550606e-05]\n",
      " [3.82671805e-09 2.18791131e-11 4.23450996e-11 ... 1.52592314e-11\n",
      "  2.67704045e-12 7.75828013e-12]]\n",
      "Regression-based exectution time = 0.576 mins\n",
      "IPS exectution time = 1.170 mins\n",
      "RegressionModel fitting and predition time = 0.586 mins\n",
      "DR exectution time = 1.624 mins\n"
     ]
    },
    {
     "name": "stderr",
     "output_type": "stream",
     "text": [
      "num_features_for_Prognosticator = 3: 100%|██████████| 1/1 [01:22<00:00, 82.44s/it]\n",
      "num_features_for_Prognosticator = 5: 100%|██████████| 1/1 [01:21<00:00, 81.05s/it]\n",
      "num_features_for_Prognosticator = 7: 100%|██████████| 1/1 [01:24<00:00, 84.13s/it]\n"
     ]
    },
    {
     "name": "stdout",
     "output_type": "stream",
     "text": [
      "Prognosticator exectution time = 4.127 mins\n",
      "RegressionModelTimeStructure fitting and predition time = 0.607 mins\n"
     ]
    },
    {
     "name": "stderr",
     "output_type": "stream",
     "text": []
    },
    {
     "name": "stdout",
     "output_type": "stream",
     "text": [
      "Execution time for iter 1/25 in OPFV = 1.766 mins\n"
     ]
    },
    {
     "name": "stderr",
     "output_type": "stream",
     "text": []
    },
    {
     "name": "stdout",
     "output_type": "stream",
     "text": [
      "Execution time for iter 2/25 in OPFV = 1.679 mins\n"
     ]
    },
    {
     "name": "stderr",
     "output_type": "stream",
     "text": []
    },
    {
     "name": "stdout",
     "output_type": "stream",
     "text": [
      "Execution time for iter 3/25 in OPFV = 1.764 mins\n"
     ]
    },
    {
     "name": "stderr",
     "output_type": "stream",
     "text": []
    },
    {
     "name": "stdout",
     "output_type": "stream",
     "text": [
      "Execution time for iter 4/25 in OPFV = 1.694 mins\n"
     ]
    },
    {
     "name": "stderr",
     "output_type": "stream",
     "text": []
    },
    {
     "name": "stdout",
     "output_type": "stream",
     "text": [
      "Execution time for iter 5/25 in OPFV = 1.775 mins\n"
     ]
    },
    {
     "name": "stderr",
     "output_type": "stream",
     "text": []
    },
    {
     "name": "stdout",
     "output_type": "stream",
     "text": [
      "Execution time for iter 6/25 in OPFV = 1.754 mins\n"
     ]
    },
    {
     "name": "stderr",
     "output_type": "stream",
     "text": []
    },
    {
     "name": "stdout",
     "output_type": "stream",
     "text": [
      "Execution time for iter 7/25 in OPFV = 1.731 mins\n"
     ]
    },
    {
     "name": "stderr",
     "output_type": "stream",
     "text": []
    },
    {
     "name": "stdout",
     "output_type": "stream",
     "text": [
      "Execution time for iter 8/25 in OPFV = 1.672 mins\n"
     ]
    },
    {
     "name": "stderr",
     "output_type": "stream",
     "text": []
    },
    {
     "name": "stdout",
     "output_type": "stream",
     "text": [
      "Execution time for iter 9/25 in OPFV = 1.681 mins\n"
     ]
    },
    {
     "name": "stderr",
     "output_type": "stream",
     "text": []
    },
    {
     "name": "stdout",
     "output_type": "stream",
     "text": [
      "Execution time for iter 10/25 in OPFV = 1.745 mins\n"
     ]
    },
    {
     "name": "stderr",
     "output_type": "stream",
     "text": []
    },
    {
     "name": "stdout",
     "output_type": "stream",
     "text": [
      "Execution time for iter 11/25 in OPFV = 1.798 mins\n"
     ]
    },
    {
     "name": "stderr",
     "output_type": "stream",
     "text": []
    },
    {
     "name": "stdout",
     "output_type": "stream",
     "text": [
      "Execution time for iter 12/25 in OPFV = 1.780 mins\n"
     ]
    },
    {
     "name": "stderr",
     "output_type": "stream",
     "text": []
    },
    {
     "name": "stdout",
     "output_type": "stream",
     "text": [
      "Execution time for iter 13/25 in OPFV = 1.779 mins\n"
     ]
    },
    {
     "name": "stderr",
     "output_type": "stream",
     "text": []
    },
    {
     "name": "stdout",
     "output_type": "stream",
     "text": [
      "Execution time for iter 14/25 in OPFV = 1.775 mins\n"
     ]
    },
    {
     "name": "stderr",
     "output_type": "stream",
     "text": []
    },
    {
     "name": "stdout",
     "output_type": "stream",
     "text": [
      "Execution time for iter 15/25 in OPFV = 1.750 mins\n"
     ]
    },
    {
     "name": "stderr",
     "output_type": "stream",
     "text": []
    },
    {
     "name": "stdout",
     "output_type": "stream",
     "text": [
      "Execution time for iter 16/25 in OPFV = 1.733 mins\n"
     ]
    },
    {
     "name": "stderr",
     "output_type": "stream",
     "text": []
    },
    {
     "name": "stdout",
     "output_type": "stream",
     "text": [
      "Execution time for iter 17/25 in OPFV = 1.706 mins\n"
     ]
    },
    {
     "name": "stderr",
     "output_type": "stream",
     "text": []
    },
    {
     "name": "stdout",
     "output_type": "stream",
     "text": [
      "Execution time for iter 18/25 in OPFV = 1.774 mins\n"
     ]
    },
    {
     "name": "stderr",
     "output_type": "stream",
     "text": []
    },
    {
     "name": "stdout",
     "output_type": "stream",
     "text": [
      "Execution time for iter 19/25 in OPFV = 1.712 mins\n"
     ]
    },
    {
     "name": "stderr",
     "output_type": "stream",
     "text": []
    },
    {
     "name": "stdout",
     "output_type": "stream",
     "text": [
      "Execution time for iter 20/25 in OPFV = 1.749 mins\n"
     ]
    },
    {
     "name": "stderr",
     "output_type": "stream",
     "text": []
    },
    {
     "name": "stdout",
     "output_type": "stream",
     "text": [
      "Execution time for iter 21/25 in OPFV = 1.722 mins\n"
     ]
    },
    {
     "name": "stderr",
     "output_type": "stream",
     "text": []
    },
    {
     "name": "stdout",
     "output_type": "stream",
     "text": [
      "Execution time for iter 22/25 in OPFV = 1.700 mins\n"
     ]
    },
    {
     "name": "stderr",
     "output_type": "stream",
     "text": []
    },
    {
     "name": "stdout",
     "output_type": "stream",
     "text": [
      "Execution time for iter 23/25 in OPFV = 1.802 mins\n"
     ]
    },
    {
     "name": "stderr",
     "output_type": "stream",
     "text": []
    },
    {
     "name": "stdout",
     "output_type": "stream",
     "text": [
      "Execution time for iter 24/25 in OPFV = 1.772 mins\n"
     ]
    },
    {
     "name": "stderr",
     "output_type": "stream",
     "text": [
      "100%|██████████| 25/25 [43:33<00:00, 104.53s/it]\n",
      " 20%|██        | 2/10 [2:04:15<8:09:15, 3669.49s/it] "
     ]
    },
    {
     "name": "stdout",
     "output_type": "stream",
     "text": [
      "Execution time for iter 25/25 in OPFV = 1.742 mins\n",
      "OPFV exectution time = 44.164 mins\n",
      "Execution time for OPL: 51.661 mins\n",
      "#################### END of OPL ####################\n",
      "\n",
      "ROUND 2/10: test_policy_value_list_DM = {'pi_b': 0.9693236045334851, 'reg': 1.3058363638394457, 'ips-pg': 0.9989091753764463, 'dr-pg': 1.2598708733989814, 'prognosticator': 1.5700445703903902, 'opfv': 1.258849067612788}\n",
      "ROUND 2/10: test_policy_value_list_IPS = {'pi_b': 0.9201302293023569, 'reg': 1.1227150586467711, 'ips-pg': 0.8056354422473738, 'dr-pg': 1.0845246557438648, 'prognosticator': 2.169455614987042, 'opfv': 1.0781708974816533}\n",
      "ROUND 2/10: test_policy_value_list_SNIPS = {'pi_b': 0.9201302293023569, 'reg': 1.154731836299665, 'ips-pg': 0.898510933564432, 'dr-pg': 1.124051091552694, 'prognosticator': 1.8527167553842754, 'opfv': 1.1246790529479278}\n",
      "ROUND 2/10: test_policy_value_list_SNDR = {'pi_b': 0.9363947569614581, 'reg': 1.2367087064754017, 'ips-pg': 0.9190795250033483, 'dr-pg': 1.2099528139663576, 'prognosticator': 2.2091499108303285, 'opfv': 1.209788022735743}\n",
      "############################################### END of ROUND 2/10 ###############################################\n",
      "\n",
      "\n",
      "\n",
      "\n",
      "############################################### START of ROUND 3/10 ###############################################\n",
      "\n",
      "#################### START of preprocessing ####################\n",
      "Maximum number of unique actions that we can use for training and test data = 2547\n",
      "Execution time of preprocess_item_categories = 0.008 mins\n",
      "Executing preprocess_item_daily_features\n",
      "Execution time for preprocess_item_daily_features = 1.894 mins\n",
      "Executing preprocess_user_features\n",
      "Execution time for preprocess_user_features = 0.002 mins\n",
      "Executing reduce_the_dim_context\n",
      "The dimension of the original context = 131\n",
      "The dimension of the context after PCA = 60\n",
      "The cumularive explained variance for the dimension of context is 0.736\n",
      "Execution time for educe_the_dim_context = 0.072 mins\n",
      "Executing reduce_the_dim_action_context\n",
      "The dimension of the original action context = 619\n",
      "The dimension of the action context after PCA = 40\n",
      "The cumularive explained variance for the dimension of action context is 0.828\n",
      "Execution time for reduce_the_dim_action_context = 0.184 mins\n",
      "Executing create_behavior_and_evaluation_policy_and_pscore\n",
      "Execution time for create_behavior_and_evaluation_policy_and_pscore = 1.014 mins\n",
      "The number of the training data = 103342\n",
      "The number of the test data = 44212\n",
      "Number of actions in dataset |A| = 100\n",
      "\n",
      "Executing create_expected_reward\n",
      "RegressionModelTimeTrue fitting and predition for training data time = 0.564 mins\n",
      "RegressionModelTimeTrue fitting and predition for test data time = 0.187 mins\n",
      "Execution time for create_expected_reward = 0.752 mins\n",
      "#################### END of preprocessing ####################\n",
      "\n",
      "Execution time for preprocessing = 4.085 mins\n",
      "\n",
      "#################### START of OPL ####################\n",
      "pi_reg = [[0.0000000e+00 0.0000000e+00 0.0000000e+00 ... 0.0000000e+00\n",
      "  0.0000000e+00 0.0000000e+00]\n",
      " [1.1766070e-16 2.4108968e-11 1.6389757e-15 ... 3.1059763e-13\n",
      "  5.9712274e-15 6.0886188e-18]\n",
      " [1.7660635e-36 1.0660609e-34 1.2249654e-35 ... 3.7032101e-38\n",
      "  9.6205047e-38 2.3410847e-34]\n",
      " ...\n",
      " [1.6834527e-16 2.2232740e-11 2.0665641e-15 ... 2.2072791e-13\n",
      "  8.7744202e-15 6.0422537e-18]\n",
      " [9.4675815e-19 4.1078324e-15 2.7371552e-17 ... 4.5264805e-16\n",
      "  4.9059351e-17 3.6572852e-18]\n",
      " [7.9613098e-16 2.2924912e-11 1.1545836e-14 ... 1.0654335e-13\n",
      "  8.3882269e-14 1.0577437e-16]]\n",
      "Regression-based exectution time = 0.468 mins\n",
      "IPS exectution time = 0.859 mins\n",
      "RegressionModel fitting and predition time = 0.489 mins\n",
      "DR exectution time = 1.417 mins\n"
     ]
    },
    {
     "name": "stderr",
     "output_type": "stream",
     "text": [
      "num_features_for_Prognosticator = 3: 100%|██████████| 1/1 [01:08<00:00, 68.23s/it]\n",
      "num_features_for_Prognosticator = 5: 100%|██████████| 1/1 [01:08<00:00, 68.66s/it]\n",
      "num_features_for_Prognosticator = 7: 100%|██████████| 1/1 [01:03<00:00, 63.87s/it]\n"
     ]
    },
    {
     "name": "stdout",
     "output_type": "stream",
     "text": [
      "Prognosticator exectution time = 3.346 mins\n",
      "RegressionModelTimeStructure fitting and predition time = 0.472 mins\n"
     ]
    },
    {
     "name": "stderr",
     "output_type": "stream",
     "text": []
    },
    {
     "name": "stdout",
     "output_type": "stream",
     "text": [
      "Execution time for iter 1/25 in OPFV = 1.369 mins\n"
     ]
    },
    {
     "name": "stderr",
     "output_type": "stream",
     "text": []
    },
    {
     "name": "stdout",
     "output_type": "stream",
     "text": [
      "Execution time for iter 2/25 in OPFV = 1.292 mins\n"
     ]
    },
    {
     "name": "stderr",
     "output_type": "stream",
     "text": []
    },
    {
     "name": "stdout",
     "output_type": "stream",
     "text": [
      "Execution time for iter 3/25 in OPFV = 1.274 mins\n"
     ]
    },
    {
     "name": "stderr",
     "output_type": "stream",
     "text": []
    },
    {
     "name": "stdout",
     "output_type": "stream",
     "text": [
      "Execution time for iter 4/25 in OPFV = 1.336 mins\n"
     ]
    },
    {
     "name": "stderr",
     "output_type": "stream",
     "text": []
    },
    {
     "name": "stdout",
     "output_type": "stream",
     "text": [
      "Execution time for iter 5/25 in OPFV = 1.308 mins\n"
     ]
    },
    {
     "name": "stderr",
     "output_type": "stream",
     "text": []
    },
    {
     "name": "stdout",
     "output_type": "stream",
     "text": [
      "Execution time for iter 6/25 in OPFV = 1.344 mins\n"
     ]
    },
    {
     "name": "stderr",
     "output_type": "stream",
     "text": []
    },
    {
     "name": "stdout",
     "output_type": "stream",
     "text": [
      "Execution time for iter 7/25 in OPFV = 1.365 mins\n"
     ]
    },
    {
     "name": "stderr",
     "output_type": "stream",
     "text": []
    },
    {
     "name": "stdout",
     "output_type": "stream",
     "text": [
      "Execution time for iter 8/25 in OPFV = 1.370 mins\n"
     ]
    },
    {
     "name": "stderr",
     "output_type": "stream",
     "text": []
    },
    {
     "name": "stdout",
     "output_type": "stream",
     "text": [
      "Execution time for iter 9/25 in OPFV = 1.365 mins\n"
     ]
    },
    {
     "name": "stderr",
     "output_type": "stream",
     "text": []
    },
    {
     "name": "stdout",
     "output_type": "stream",
     "text": [
      "Execution time for iter 10/25 in OPFV = 1.336 mins\n"
     ]
    },
    {
     "name": "stderr",
     "output_type": "stream",
     "text": []
    },
    {
     "name": "stdout",
     "output_type": "stream",
     "text": [
      "Execution time for iter 11/25 in OPFV = 1.324 mins\n"
     ]
    },
    {
     "name": "stderr",
     "output_type": "stream",
     "text": []
    },
    {
     "name": "stdout",
     "output_type": "stream",
     "text": [
      "Execution time for iter 12/25 in OPFV = 1.337 mins\n"
     ]
    },
    {
     "name": "stderr",
     "output_type": "stream",
     "text": []
    },
    {
     "name": "stdout",
     "output_type": "stream",
     "text": [
      "Execution time for iter 13/25 in OPFV = 1.295 mins\n"
     ]
    },
    {
     "name": "stderr",
     "output_type": "stream",
     "text": []
    },
    {
     "name": "stdout",
     "output_type": "stream",
     "text": [
      "Execution time for iter 14/25 in OPFV = 1.288 mins\n"
     ]
    },
    {
     "name": "stderr",
     "output_type": "stream",
     "text": []
    },
    {
     "name": "stdout",
     "output_type": "stream",
     "text": [
      "Execution time for iter 15/25 in OPFV = 1.294 mins\n"
     ]
    },
    {
     "name": "stderr",
     "output_type": "stream",
     "text": []
    },
    {
     "name": "stdout",
     "output_type": "stream",
     "text": [
      "Execution time for iter 16/25 in OPFV = 1.286 mins\n"
     ]
    },
    {
     "name": "stderr",
     "output_type": "stream",
     "text": []
    },
    {
     "name": "stdout",
     "output_type": "stream",
     "text": [
      "Execution time for iter 17/25 in OPFV = 1.291 mins\n"
     ]
    },
    {
     "name": "stderr",
     "output_type": "stream",
     "text": []
    },
    {
     "name": "stdout",
     "output_type": "stream",
     "text": [
      "Execution time for iter 18/25 in OPFV = 1.293 mins\n"
     ]
    },
    {
     "name": "stderr",
     "output_type": "stream",
     "text": []
    },
    {
     "name": "stdout",
     "output_type": "stream",
     "text": [
      "Execution time for iter 19/25 in OPFV = 1.286 mins\n"
     ]
    },
    {
     "name": "stderr",
     "output_type": "stream",
     "text": []
    },
    {
     "name": "stdout",
     "output_type": "stream",
     "text": [
      "Execution time for iter 20/25 in OPFV = 1.289 mins\n"
     ]
    },
    {
     "name": "stderr",
     "output_type": "stream",
     "text": []
    },
    {
     "name": "stdout",
     "output_type": "stream",
     "text": [
      "Execution time for iter 21/25 in OPFV = 1.317 mins\n"
     ]
    },
    {
     "name": "stderr",
     "output_type": "stream",
     "text": []
    },
    {
     "name": "stdout",
     "output_type": "stream",
     "text": [
      "Execution time for iter 22/25 in OPFV = 1.380 mins\n"
     ]
    },
    {
     "name": "stderr",
     "output_type": "stream",
     "text": []
    },
    {
     "name": "stdout",
     "output_type": "stream",
     "text": [
      "Execution time for iter 23/25 in OPFV = 1.343 mins\n"
     ]
    },
    {
     "name": "stderr",
     "output_type": "stream",
     "text": []
    },
    {
     "name": "stdout",
     "output_type": "stream",
     "text": [
      "Execution time for iter 24/25 in OPFV = 1.357 mins\n"
     ]
    },
    {
     "name": "stderr",
     "output_type": "stream",
     "text": [
      "100%|██████████| 25/25 [33:02<00:00, 79.29s/it]\n",
      " 30%|███       | 3/10 [2:47:56<6:12:15, 3190.80s/it]"
     ]
    },
    {
     "name": "stdout",
     "output_type": "stream",
     "text": [
      "Execution time for iter 25/25 in OPFV = 1.296 mins\n",
      "OPFV exectution time = 33.509 mins\n",
      "Execution time for OPL: 39.599 mins\n",
      "#################### END of OPL ####################\n",
      "\n",
      "ROUND 3/10: test_policy_value_list_DM = {'pi_b': 1.0638677750912178, 'reg': 1.2636999474412187, 'ips-pg': 1.4475453844352033, 'dr-pg': 1.6517360637643246, 'prognosticator': 1.1387373313912865, 'opfv': 1.5251434142727773}\n",
      "ROUND 3/10: test_policy_value_list_IPS = {'pi_b': 1.0111085283446324, 'reg': 1.0850632951733197, 'ips-pg': 1.0349341509690613, 'dr-pg': 1.5240834387403053, 'prognosticator': 0.9860143338499775, 'opfv': 1.468868895291128}\n",
      "ROUND 3/10: test_policy_value_list_SNIPS = {'pi_b': 1.0111085283446324, 'reg': 1.2421447607301057, 'ips-pg': 2.313023419720975, 'dr-pg': 1.6683713379504406, 'prognosticator': 1.0677591525829335, 'opfv': 1.5038144815138628}\n",
      "ROUND 3/10: test_policy_value_list_SNDR = {'pi_b': 1.0199429983504522, 'reg': 1.2400816054485626, 'ips-pg': 2.46674361018204, 'dr-pg': 1.5776142332347427, 'prognosticator': 1.071488729972355, 'opfv': 1.4798276096441998}\n",
      "############################################### END of ROUND 3/10 ###############################################\n",
      "\n",
      "\n",
      "\n",
      "\n",
      "############################################### START of ROUND 4/10 ###############################################\n",
      "\n",
      "#################### START of preprocessing ####################\n",
      "Maximum number of unique actions that we can use for training and test data = 2547\n",
      "Execution time of preprocess_item_categories = 0.008 mins\n",
      "Executing preprocess_item_daily_features\n",
      "Execution time for preprocess_item_daily_features = 1.644 mins\n",
      "Executing preprocess_user_features\n",
      "Execution time for preprocess_user_features = 0.002 mins\n",
      "Executing reduce_the_dim_context\n",
      "The dimension of the original context = 131\n",
      "The dimension of the context after PCA = 60\n",
      "The cumularive explained variance for the dimension of context is 0.736\n",
      "Execution time for educe_the_dim_context = 0.081 mins\n",
      "Executing reduce_the_dim_action_context\n",
      "The dimension of the original action context = 619\n",
      "The dimension of the action context after PCA = 40\n",
      "The cumularive explained variance for the dimension of action context is 0.735\n",
      "Execution time for reduce_the_dim_action_context = 0.217 mins\n",
      "Executing create_behavior_and_evaluation_policy_and_pscore\n",
      "Execution time for create_behavior_and_evaluation_policy_and_pscore = 1.352 mins\n",
      "The number of the training data = 124895\n",
      "The number of the test data = 36099\n",
      "Number of actions in dataset |A| = 100\n",
      "\n",
      "Executing create_expected_reward\n",
      "RegressionModelTimeTrue fitting and predition for training data time = 0.601 mins\n",
      "RegressionModelTimeTrue fitting and predition for test data time = 0.161 mins\n",
      "Execution time for create_expected_reward = 0.764 mins\n",
      "#################### END of preprocessing ####################\n",
      "\n",
      "Execution time for preprocessing = 4.231 mins\n",
      "\n",
      "#################### START of OPL ####################\n",
      "pi_reg = [[1.3316540e-08 2.7861631e-07 2.5383503e-07 ... 2.1917316e-08\n",
      "  2.9697935e-08 1.4208157e-09]\n",
      " [1.0049895e-09 3.6641202e-06 1.8588427e-05 ... 3.3009885e-06\n",
      "  6.2151457e-07 3.8338261e-09]\n",
      " [1.1270542e-09 4.3156311e-07 5.2029691e-07 ... 1.0808124e-08\n",
      "  8.5798540e-08 9.4155306e-09]\n",
      " ...\n",
      " [1.4476177e-09 8.8983036e-08 6.9276005e-08 ... 4.7476334e-09\n",
      "  6.1890466e-09 4.7325416e-10]\n",
      " [6.5726868e-09 3.7859693e-06 1.9735851e-06 ... 2.1389818e-07\n",
      "  5.7304334e-07 1.4916452e-06]\n",
      " [1.3827243e-08 2.2577090e-07 3.0965504e-07 ... 1.4006554e-07\n",
      "  1.2445646e-07 1.8705608e-09]]\n",
      "Regression-based exectution time = 0.531 mins\n",
      "IPS exectution time = 1.018 mins\n",
      "RegressionModel fitting and predition time = 0.601 mins\n",
      "DR exectution time = 1.558 mins\n"
     ]
    },
    {
     "name": "stderr",
     "output_type": "stream",
     "text": [
      "num_features_for_Prognosticator = 3: 100%|██████████| 1/1 [01:12<00:00, 72.21s/it]\n",
      "num_features_for_Prognosticator = 5: 100%|██████████| 1/1 [01:13<00:00, 73.26s/it]\n",
      "num_features_for_Prognosticator = 7: 100%|██████████| 1/1 [01:12<00:00, 72.58s/it]\n"
     ]
    },
    {
     "name": "stdout",
     "output_type": "stream",
     "text": [
      "Prognosticator exectution time = 3.634 mins\n",
      "RegressionModelTimeStructure fitting and predition time = 0.567 mins\n"
     ]
    },
    {
     "name": "stderr",
     "output_type": "stream",
     "text": []
    },
    {
     "name": "stdout",
     "output_type": "stream",
     "text": [
      "Execution time for iter 1/25 in OPFV = 1.603 mins\n"
     ]
    },
    {
     "name": "stderr",
     "output_type": "stream",
     "text": []
    },
    {
     "name": "stdout",
     "output_type": "stream",
     "text": [
      "Execution time for iter 2/25 in OPFV = 1.607 mins\n"
     ]
    },
    {
     "name": "stderr",
     "output_type": "stream",
     "text": []
    },
    {
     "name": "stdout",
     "output_type": "stream",
     "text": [
      "Execution time for iter 3/25 in OPFV = 1.627 mins\n"
     ]
    },
    {
     "name": "stderr",
     "output_type": "stream",
     "text": []
    },
    {
     "name": "stdout",
     "output_type": "stream",
     "text": [
      "Execution time for iter 4/25 in OPFV = 1.639 mins\n"
     ]
    },
    {
     "name": "stderr",
     "output_type": "stream",
     "text": []
    },
    {
     "name": "stdout",
     "output_type": "stream",
     "text": [
      "Execution time for iter 5/25 in OPFV = 1.594 mins\n"
     ]
    },
    {
     "name": "stderr",
     "output_type": "stream",
     "text": []
    },
    {
     "name": "stdout",
     "output_type": "stream",
     "text": [
      "Execution time for iter 6/25 in OPFV = 1.668 mins\n"
     ]
    },
    {
     "name": "stderr",
     "output_type": "stream",
     "text": []
    },
    {
     "name": "stdout",
     "output_type": "stream",
     "text": [
      "Execution time for iter 7/25 in OPFV = 1.901 mins\n"
     ]
    },
    {
     "name": "stderr",
     "output_type": "stream",
     "text": []
    },
    {
     "name": "stdout",
     "output_type": "stream",
     "text": [
      "Execution time for iter 8/25 in OPFV = 1.659 mins\n"
     ]
    },
    {
     "name": "stderr",
     "output_type": "stream",
     "text": []
    },
    {
     "name": "stdout",
     "output_type": "stream",
     "text": [
      "Execution time for iter 9/25 in OPFV = 1.642 mins\n"
     ]
    },
    {
     "name": "stderr",
     "output_type": "stream",
     "text": []
    },
    {
     "name": "stdout",
     "output_type": "stream",
     "text": [
      "Execution time for iter 10/25 in OPFV = 1.662 mins\n"
     ]
    },
    {
     "name": "stderr",
     "output_type": "stream",
     "text": []
    },
    {
     "name": "stdout",
     "output_type": "stream",
     "text": [
      "Execution time for iter 11/25 in OPFV = 1.597 mins\n"
     ]
    },
    {
     "name": "stderr",
     "output_type": "stream",
     "text": []
    },
    {
     "name": "stdout",
     "output_type": "stream",
     "text": [
      "Execution time for iter 12/25 in OPFV = 1.603 mins\n"
     ]
    },
    {
     "name": "stderr",
     "output_type": "stream",
     "text": []
    },
    {
     "name": "stdout",
     "output_type": "stream",
     "text": [
      "Execution time for iter 13/25 in OPFV = 1.601 mins\n"
     ]
    },
    {
     "name": "stderr",
     "output_type": "stream",
     "text": []
    },
    {
     "name": "stdout",
     "output_type": "stream",
     "text": [
      "Execution time for iter 14/25 in OPFV = 1.599 mins\n"
     ]
    },
    {
     "name": "stderr",
     "output_type": "stream",
     "text": []
    },
    {
     "name": "stdout",
     "output_type": "stream",
     "text": [
      "Execution time for iter 15/25 in OPFV = 1.596 mins\n"
     ]
    },
    {
     "name": "stderr",
     "output_type": "stream",
     "text": []
    },
    {
     "name": "stdout",
     "output_type": "stream",
     "text": [
      "Execution time for iter 16/25 in OPFV = 1.593 mins\n"
     ]
    },
    {
     "name": "stderr",
     "output_type": "stream",
     "text": []
    },
    {
     "name": "stdout",
     "output_type": "stream",
     "text": [
      "Execution time for iter 17/25 in OPFV = 1.605 mins\n"
     ]
    },
    {
     "name": "stderr",
     "output_type": "stream",
     "text": []
    },
    {
     "name": "stdout",
     "output_type": "stream",
     "text": [
      "Execution time for iter 18/25 in OPFV = 1.592 mins\n"
     ]
    },
    {
     "name": "stderr",
     "output_type": "stream",
     "text": []
    },
    {
     "name": "stdout",
     "output_type": "stream",
     "text": [
      "Execution time for iter 19/25 in OPFV = 1.618 mins\n"
     ]
    },
    {
     "name": "stderr",
     "output_type": "stream",
     "text": []
    },
    {
     "name": "stdout",
     "output_type": "stream",
     "text": [
      "Execution time for iter 20/25 in OPFV = 1.646 mins\n"
     ]
    },
    {
     "name": "stderr",
     "output_type": "stream",
     "text": []
    },
    {
     "name": "stdout",
     "output_type": "stream",
     "text": [
      "Execution time for iter 21/25 in OPFV = 1.594 mins\n"
     ]
    },
    {
     "name": "stderr",
     "output_type": "stream",
     "text": []
    },
    {
     "name": "stdout",
     "output_type": "stream",
     "text": [
      "Execution time for iter 22/25 in OPFV = 1.601 mins\n"
     ]
    },
    {
     "name": "stderr",
     "output_type": "stream",
     "text": []
    },
    {
     "name": "stdout",
     "output_type": "stream",
     "text": [
      "Execution time for iter 23/25 in OPFV = 1.599 mins\n"
     ]
    },
    {
     "name": "stderr",
     "output_type": "stream",
     "text": []
    },
    {
     "name": "stdout",
     "output_type": "stream",
     "text": [
      "Execution time for iter 24/25 in OPFV = 1.594 mins\n"
     ]
    },
    {
     "name": "stderr",
     "output_type": "stream",
     "text": [
      "100%|██████████| 25/25 [40:38<00:00, 97.53s/it]\n",
      " 40%|████      | 4/10 [3:40:07<5:16:42, 3167.12s/it]"
     ]
    },
    {
     "name": "stdout",
     "output_type": "stream",
     "text": [
      "Execution time for iter 25/25 in OPFV = 1.599 mins\n",
      "OPFV exectution time = 41.207 mins\n",
      "Execution time for OPL: 47.948 mins\n",
      "#################### END of OPL ####################\n",
      "\n",
      "ROUND 4/10: test_policy_value_list_DM = {'pi_b': 0.9983321947592232, 'reg': 1.9910319772580725, 'ips-pg': 1.2427817717117053, 'dr-pg': 1.502905281382003, 'prognosticator': 2.1301942301624077, 'opfv': 2.5701934945206775}\n",
      "ROUND 4/10: test_policy_value_list_IPS = {'pi_b': 0.9119361709850553, 'reg': 1.4333722455897553, 'ips-pg': 0.7399249145193137, 'dr-pg': 1.7415206429710544, 'prognosticator': 1.6977519560732588, 'opfv': 2.183408556818363}\n",
      "ROUND 4/10: test_policy_value_list_SNIPS = {'pi_b': 0.9119361709850553, 'reg': 1.7444224040414906, 'ips-pg': 1.0347523333553355, 'dr-pg': 1.6352246194013533, 'prognosticator': 2.1997621073063294, 'opfv': 2.4562581362585765}\n",
      "ROUND 4/10: test_policy_value_list_SNDR = {'pi_b': 0.959690713362632, 'reg': 1.8542891425222123, 'ips-pg': 0.9470360974784341, 'dr-pg': 1.6133795546921756, 'prognosticator': 2.1530703919693415, 'opfv': 2.5499331376989436}\n",
      "############################################### END of ROUND 4/10 ###############################################\n",
      "\n",
      "\n",
      "\n",
      "\n",
      "############################################### START of ROUND 5/10 ###############################################\n",
      "\n",
      "#################### START of preprocessing ####################\n",
      "Maximum number of unique actions that we can use for training and test data = 2547\n",
      "Execution time of preprocess_item_categories = 0.007 mins\n",
      "Executing preprocess_item_daily_features\n",
      "Execution time for preprocess_item_daily_features = 1.672 mins\n",
      "Executing preprocess_user_features\n",
      "Execution time for preprocess_user_features = 0.002 mins\n",
      "Executing reduce_the_dim_context\n",
      "The dimension of the original context = 131\n",
      "The dimension of the context after PCA = 60\n",
      "The cumularive explained variance for the dimension of context is 0.735\n",
      "Execution time for educe_the_dim_context = 0.086 mins\n",
      "Executing reduce_the_dim_action_context\n",
      "The dimension of the original action context = 619\n",
      "The dimension of the action context after PCA = 40\n",
      "The cumularive explained variance for the dimension of action context is 0.797\n",
      "Execution time for reduce_the_dim_action_context = 0.225 mins\n",
      "Executing create_behavior_and_evaluation_policy_and_pscore\n",
      "Execution time for create_behavior_and_evaluation_policy_and_pscore = 1.577 mins\n",
      "The number of the training data = 150177\n",
      "The number of the test data = 40040\n",
      "Number of actions in dataset |A| = 100\n",
      "\n",
      "Executing create_expected_reward\n",
      "RegressionModelTimeTrue fitting and predition for training data time = 0.724 mins\n",
      "RegressionModelTimeTrue fitting and predition for test data time = 0.179 mins\n",
      "Execution time for create_expected_reward = 0.905 mins\n",
      "#################### END of preprocessing ####################\n",
      "\n",
      "Execution time for preprocessing = 4.635 mins\n",
      "\n",
      "#################### START of OPL ####################\n",
      "pi_reg = [[1.81070477e-18 2.56114275e-17 2.18350546e-15 ... 2.42172971e-14\n",
      "  3.61027478e-17 7.39074710e-19]\n",
      " [2.31395277e-15 9.07709441e-14 3.17384378e-12 ... 1.40647064e-12\n",
      "  2.38873781e-13 9.98546072e-16]\n",
      " [2.66065074e-19 3.29864015e-18 4.35383591e-16 ... 3.04580596e-15\n",
      "  6.84076845e-17 1.02035914e-19]\n",
      " ...\n",
      " [1.62181266e-16 2.18046631e-15 1.64569042e-13 ... 1.20538302e-12\n",
      "  1.13106054e-14 1.79203452e-17]\n",
      " [1.89733684e-18 7.97913639e-17 3.74708995e-15 ... 1.07330992e-14\n",
      "  3.89813880e-16 2.05868246e-19]\n",
      " [1.96815120e-16 6.64726046e-15 3.08275839e-13 ... 1.02468652e-12\n",
      "  2.24193426e-14 6.84952796e-17]]\n",
      "Regression-based exectution time = 0.705 mins\n",
      "IPS exectution time = 1.285 mins\n",
      "RegressionModel fitting and predition time = 0.673 mins\n",
      "DR exectution time = 1.860 mins\n"
     ]
    },
    {
     "name": "stderr",
     "output_type": "stream",
     "text": [
      "num_features_for_Prognosticator = 3: 100%|██████████| 1/1 [01:30<00:00, 90.26s/it]\n",
      "num_features_for_Prognosticator = 5: 100%|██████████| 1/1 [01:29<00:00, 89.49s/it]\n",
      "num_features_for_Prognosticator = 7: 100%|██████████| 1/1 [01:23<00:00, 83.15s/it]\n"
     ]
    },
    {
     "name": "stdout",
     "output_type": "stream",
     "text": [
      "Prognosticator exectution time = 4.382 mins\n",
      "RegressionModelTimeStructure fitting and predition time = 0.688 mins\n"
     ]
    },
    {
     "name": "stderr",
     "output_type": "stream",
     "text": []
    },
    {
     "name": "stdout",
     "output_type": "stream",
     "text": [
      "Execution time for iter 1/25 in OPFV = 1.865 mins\n"
     ]
    },
    {
     "name": "stderr",
     "output_type": "stream",
     "text": []
    },
    {
     "name": "stdout",
     "output_type": "stream",
     "text": [
      "Execution time for iter 2/25 in OPFV = 1.883 mins\n"
     ]
    },
    {
     "name": "stderr",
     "output_type": "stream",
     "text": []
    },
    {
     "name": "stdout",
     "output_type": "stream",
     "text": [
      "Execution time for iter 3/25 in OPFV = 1.863 mins\n"
     ]
    },
    {
     "name": "stderr",
     "output_type": "stream",
     "text": []
    },
    {
     "name": "stdout",
     "output_type": "stream",
     "text": [
      "Execution time for iter 4/25 in OPFV = 1.897 mins\n"
     ]
    },
    {
     "name": "stderr",
     "output_type": "stream",
     "text": []
    },
    {
     "name": "stdout",
     "output_type": "stream",
     "text": [
      "Execution time for iter 5/25 in OPFV = 1.867 mins\n"
     ]
    },
    {
     "name": "stderr",
     "output_type": "stream",
     "text": []
    },
    {
     "name": "stdout",
     "output_type": "stream",
     "text": [
      "Execution time for iter 6/25 in OPFV = 1.861 mins\n"
     ]
    },
    {
     "name": "stderr",
     "output_type": "stream",
     "text": []
    },
    {
     "name": "stdout",
     "output_type": "stream",
     "text": [
      "Execution time for iter 7/25 in OPFV = 1.873 mins\n"
     ]
    },
    {
     "name": "stderr",
     "output_type": "stream",
     "text": []
    },
    {
     "name": "stdout",
     "output_type": "stream",
     "text": [
      "Execution time for iter 8/25 in OPFV = 1.872 mins\n"
     ]
    },
    {
     "name": "stderr",
     "output_type": "stream",
     "text": []
    },
    {
     "name": "stdout",
     "output_type": "stream",
     "text": [
      "Execution time for iter 9/25 in OPFV = 1.869 mins\n"
     ]
    },
    {
     "name": "stderr",
     "output_type": "stream",
     "text": []
    },
    {
     "name": "stdout",
     "output_type": "stream",
     "text": [
      "Execution time for iter 10/25 in OPFV = 1.869 mins\n"
     ]
    },
    {
     "name": "stderr",
     "output_type": "stream",
     "text": []
    },
    {
     "name": "stdout",
     "output_type": "stream",
     "text": [
      "Execution time for iter 11/25 in OPFV = 1.871 mins\n"
     ]
    },
    {
     "name": "stderr",
     "output_type": "stream",
     "text": []
    },
    {
     "name": "stdout",
     "output_type": "stream",
     "text": [
      "Execution time for iter 12/25 in OPFV = 1.893 mins\n"
     ]
    },
    {
     "name": "stderr",
     "output_type": "stream",
     "text": []
    },
    {
     "name": "stdout",
     "output_type": "stream",
     "text": [
      "Execution time for iter 13/25 in OPFV = 1.869 mins\n"
     ]
    },
    {
     "name": "stderr",
     "output_type": "stream",
     "text": []
    },
    {
     "name": "stdout",
     "output_type": "stream",
     "text": [
      "Execution time for iter 14/25 in OPFV = 1.867 mins\n"
     ]
    },
    {
     "name": "stderr",
     "output_type": "stream",
     "text": []
    },
    {
     "name": "stdout",
     "output_type": "stream",
     "text": [
      "Execution time for iter 15/25 in OPFV = 1.877 mins\n"
     ]
    },
    {
     "name": "stderr",
     "output_type": "stream",
     "text": []
    },
    {
     "name": "stdout",
     "output_type": "stream",
     "text": [
      "Execution time for iter 16/25 in OPFV = 1.868 mins\n"
     ]
    },
    {
     "name": "stderr",
     "output_type": "stream",
     "text": []
    },
    {
     "name": "stdout",
     "output_type": "stream",
     "text": [
      "Execution time for iter 17/25 in OPFV = 1.873 mins\n"
     ]
    },
    {
     "name": "stderr",
     "output_type": "stream",
     "text": []
    },
    {
     "name": "stdout",
     "output_type": "stream",
     "text": [
      "Execution time for iter 18/25 in OPFV = 1.880 mins\n"
     ]
    },
    {
     "name": "stderr",
     "output_type": "stream",
     "text": []
    },
    {
     "name": "stdout",
     "output_type": "stream",
     "text": [
      "Execution time for iter 19/25 in OPFV = 1.906 mins\n"
     ]
    },
    {
     "name": "stderr",
     "output_type": "stream",
     "text": []
    },
    {
     "name": "stdout",
     "output_type": "stream",
     "text": [
      "Execution time for iter 20/25 in OPFV = 1.885 mins\n"
     ]
    },
    {
     "name": "stderr",
     "output_type": "stream",
     "text": []
    },
    {
     "name": "stdout",
     "output_type": "stream",
     "text": [
      "Execution time for iter 21/25 in OPFV = 1.884 mins\n"
     ]
    },
    {
     "name": "stderr",
     "output_type": "stream",
     "text": []
    },
    {
     "name": "stdout",
     "output_type": "stream",
     "text": [
      "Execution time for iter 22/25 in OPFV = 1.887 mins\n"
     ]
    },
    {
     "name": "stderr",
     "output_type": "stream",
     "text": []
    },
    {
     "name": "stdout",
     "output_type": "stream",
     "text": [
      "Execution time for iter 23/25 in OPFV = 1.875 mins\n"
     ]
    },
    {
     "name": "stderr",
     "output_type": "stream",
     "text": []
    },
    {
     "name": "stdout",
     "output_type": "stream",
     "text": [
      "Execution time for iter 24/25 in OPFV = 1.911 mins\n"
     ]
    },
    {
     "name": "stderr",
     "output_type": "stream",
     "text": [
      "100%|██████████| 25/25 [46:56<00:00, 112.66s/it]\n",
      " 50%|█████     | 5/10 [4:40:37<4:37:50, 3334.00s/it]"
     ]
    },
    {
     "name": "stdout",
     "output_type": "stream",
     "text": [
      "Execution time for iter 25/25 in OPFV = 1.875 mins\n",
      "OPFV exectution time = 47.630 mins\n",
      "Execution time for OPL: 55.861 mins\n",
      "#################### END of OPL ####################\n",
      "\n",
      "ROUND 5/10: test_policy_value_list_DM = {'pi_b': 0.9018935188688187, 'reg': 1.325647055184574, 'ips-pg': 0.9327917263934115, 'dr-pg': 1.1444607528163446, 'prognosticator': 0.951096755866331, 'opfv': 1.5961535889209124}\n",
      "ROUND 5/10: test_policy_value_list_IPS = {'pi_b': 0.8596314751321196, 'reg': 1.2139114544119385, 'ips-pg': 0.6723303182473321, 'dr-pg': 1.001938662088689, 'prognosticator': 0.7853258344556122, 'opfv': 1.5467070738931623}\n",
      "ROUND 5/10: test_policy_value_list_SNIPS = {'pi_b': 0.8596314751321196, 'reg': 1.270382026111341, 'ips-pg': 0.8685661481369341, 'dr-pg': 1.1055467814518745, 'prognosticator': 0.8927193590885817, 'opfv': 1.6242110325206747}\n",
      "ROUND 5/10: test_policy_value_list_SNDR = {'pi_b': 0.8697799727841974, 'reg': 1.2359272068337084, 'ips-pg': 0.8190712084912469, 'dr-pg': 1.1201411701692159, 'prognosticator': 0.8925778028748198, 'opfv': 1.6596963479772342}\n",
      "############################################### END of ROUND 5/10 ###############################################\n",
      "\n",
      "\n",
      "\n",
      "\n",
      "############################################### START of ROUND 6/10 ###############################################\n",
      "\n",
      "#################### START of preprocessing ####################\n",
      "Maximum number of unique actions that we can use for training and test data = 2547\n",
      "Execution time of preprocess_item_categories = 0.008 mins\n",
      "Executing preprocess_item_daily_features\n",
      "Execution time for preprocess_item_daily_features = 1.338 mins\n",
      "Executing preprocess_user_features\n",
      "Execution time for preprocess_user_features = 0.002 mins\n",
      "Executing reduce_the_dim_context\n",
      "The dimension of the original context = 131\n",
      "The dimension of the context after PCA = 60\n",
      "The cumularive explained variance for the dimension of context is 0.735\n",
      "Execution time for educe_the_dim_context = 0.071 mins\n",
      "Executing reduce_the_dim_action_context\n",
      "The dimension of the original action context = 619\n",
      "The dimension of the action context after PCA = 40\n",
      "The cumularive explained variance for the dimension of action context is 0.770\n",
      "Execution time for reduce_the_dim_action_context = 0.204 mins\n",
      "Executing create_behavior_and_evaluation_policy_and_pscore\n",
      "Execution time for create_behavior_and_evaluation_policy_and_pscore = 1.304 mins\n",
      "The number of the training data = 128330\n",
      "The number of the test data = 43921\n",
      "Number of actions in dataset |A| = 100\n",
      "\n",
      "Executing create_expected_reward\n",
      "RegressionModelTimeTrue fitting and predition for training data time = 0.660 mins\n",
      "RegressionModelTimeTrue fitting and predition for test data time = 0.204 mins\n",
      "Execution time for create_expected_reward = 0.866 mins\n",
      "#################### END of preprocessing ####################\n",
      "\n",
      "Execution time for preprocessing = 3.954 mins\n",
      "\n",
      "#################### START of OPL ####################\n",
      "pi_reg = [[9.5462295e-36 8.6818427e-40 4.5412352e-37 ... 1.7608072e-39\n",
      "  5.8205086e-36 2.0995827e-35]\n",
      " [3.3984943e-28 1.0043922e-31 5.5162080e-31 ... 1.0319043e-31\n",
      "  2.4210702e-28 5.1619972e-29]\n",
      " [1.6424059e-23 2.2468269e-26 2.3777175e-25 ... 2.2927928e-27\n",
      "  1.6306692e-23 7.3509801e-25]\n",
      " ...\n",
      " [2.9653066e-27 2.8961800e-30 1.5290366e-28 ... 2.3617461e-31\n",
      "  2.8142403e-27 8.7873924e-28]\n",
      " [5.0070197e-28 1.5915121e-28 4.2058735e-29 ... 3.3581012e-31\n",
      "  3.2223728e-27 2.3617135e-28]\n",
      " [5.0857472e-30 4.2726375e-32 4.6937918e-32 ... 2.6795976e-33\n",
      "  3.9580046e-30 5.1544976e-30]]\n",
      "Regression-based exectution time = 0.537 mins\n",
      "IPS exectution time = 1.046 mins\n",
      "RegressionModel fitting and predition time = 0.592 mins\n",
      "DR exectution time = 1.503 mins\n"
     ]
    },
    {
     "name": "stderr",
     "output_type": "stream",
     "text": [
      "num_features_for_Prognosticator = 3: 100%|██████████| 1/1 [01:09<00:00, 69.07s/it]\n",
      "num_features_for_Prognosticator = 5: 100%|██████████| 1/1 [01:09<00:00, 69.49s/it]\n",
      "num_features_for_Prognosticator = 7: 100%|██████████| 1/1 [01:11<00:00, 71.81s/it]\n"
     ]
    },
    {
     "name": "stdout",
     "output_type": "stream",
     "text": [
      "Prognosticator exectution time = 3.506 mins\n",
      "RegressionModelTimeStructure fitting and predition time = 0.557 mins\n"
     ]
    },
    {
     "name": "stderr",
     "output_type": "stream",
     "text": []
    },
    {
     "name": "stdout",
     "output_type": "stream",
     "text": [
      "Execution time for iter 1/25 in OPFV = 1.631 mins\n"
     ]
    },
    {
     "name": "stderr",
     "output_type": "stream",
     "text": []
    },
    {
     "name": "stdout",
     "output_type": "stream",
     "text": [
      "Execution time for iter 2/25 in OPFV = 1.642 mins\n"
     ]
    },
    {
     "name": "stderr",
     "output_type": "stream",
     "text": []
    },
    {
     "name": "stdout",
     "output_type": "stream",
     "text": [
      "Execution time for iter 3/25 in OPFV = 1.632 mins\n"
     ]
    },
    {
     "name": "stderr",
     "output_type": "stream",
     "text": []
    },
    {
     "name": "stdout",
     "output_type": "stream",
     "text": [
      "Execution time for iter 4/25 in OPFV = 1.615 mins\n"
     ]
    },
    {
     "name": "stderr",
     "output_type": "stream",
     "text": []
    },
    {
     "name": "stdout",
     "output_type": "stream",
     "text": [
      "Execution time for iter 5/25 in OPFV = 1.619 mins\n"
     ]
    },
    {
     "name": "stderr",
     "output_type": "stream",
     "text": []
    },
    {
     "name": "stdout",
     "output_type": "stream",
     "text": [
      "Execution time for iter 6/25 in OPFV = 1.633 mins\n"
     ]
    },
    {
     "name": "stderr",
     "output_type": "stream",
     "text": []
    },
    {
     "name": "stdout",
     "output_type": "stream",
     "text": [
      "Execution time for iter 7/25 in OPFV = 1.618 mins\n"
     ]
    },
    {
     "name": "stderr",
     "output_type": "stream",
     "text": []
    },
    {
     "name": "stdout",
     "output_type": "stream",
     "text": [
      "Execution time for iter 8/25 in OPFV = 1.624 mins\n"
     ]
    },
    {
     "name": "stderr",
     "output_type": "stream",
     "text": []
    },
    {
     "name": "stdout",
     "output_type": "stream",
     "text": [
      "Execution time for iter 9/25 in OPFV = 1.648 mins\n"
     ]
    },
    {
     "name": "stderr",
     "output_type": "stream",
     "text": []
    },
    {
     "name": "stdout",
     "output_type": "stream",
     "text": [
      "Execution time for iter 10/25 in OPFV = 1.617 mins\n"
     ]
    },
    {
     "name": "stderr",
     "output_type": "stream",
     "text": []
    },
    {
     "name": "stdout",
     "output_type": "stream",
     "text": [
      "Execution time for iter 11/25 in OPFV = 1.620 mins\n"
     ]
    },
    {
     "name": "stderr",
     "output_type": "stream",
     "text": []
    },
    {
     "name": "stdout",
     "output_type": "stream",
     "text": [
      "Execution time for iter 12/25 in OPFV = 1.616 mins\n"
     ]
    },
    {
     "name": "stderr",
     "output_type": "stream",
     "text": []
    },
    {
     "name": "stdout",
     "output_type": "stream",
     "text": [
      "Execution time for iter 13/25 in OPFV = 1.621 mins\n"
     ]
    },
    {
     "name": "stderr",
     "output_type": "stream",
     "text": []
    },
    {
     "name": "stdout",
     "output_type": "stream",
     "text": [
      "Execution time for iter 14/25 in OPFV = 1.621 mins\n"
     ]
    },
    {
     "name": "stderr",
     "output_type": "stream",
     "text": []
    },
    {
     "name": "stdout",
     "output_type": "stream",
     "text": [
      "Execution time for iter 15/25 in OPFV = 1.615 mins\n"
     ]
    },
    {
     "name": "stderr",
     "output_type": "stream",
     "text": []
    },
    {
     "name": "stdout",
     "output_type": "stream",
     "text": [
      "Execution time for iter 16/25 in OPFV = 1.623 mins\n"
     ]
    },
    {
     "name": "stderr",
     "output_type": "stream",
     "text": []
    },
    {
     "name": "stdout",
     "output_type": "stream",
     "text": [
      "Execution time for iter 17/25 in OPFV = 1.646 mins\n"
     ]
    },
    {
     "name": "stderr",
     "output_type": "stream",
     "text": []
    },
    {
     "name": "stdout",
     "output_type": "stream",
     "text": [
      "Execution time for iter 18/25 in OPFV = 1.624 mins\n"
     ]
    },
    {
     "name": "stderr",
     "output_type": "stream",
     "text": []
    },
    {
     "name": "stdout",
     "output_type": "stream",
     "text": [
      "Execution time for iter 19/25 in OPFV = 1.626 mins\n"
     ]
    },
    {
     "name": "stderr",
     "output_type": "stream",
     "text": []
    },
    {
     "name": "stdout",
     "output_type": "stream",
     "text": [
      "Execution time for iter 20/25 in OPFV = 1.621 mins\n"
     ]
    },
    {
     "name": "stderr",
     "output_type": "stream",
     "text": []
    },
    {
     "name": "stdout",
     "output_type": "stream",
     "text": [
      "Execution time for iter 21/25 in OPFV = 1.620 mins\n"
     ]
    },
    {
     "name": "stderr",
     "output_type": "stream",
     "text": []
    },
    {
     "name": "stdout",
     "output_type": "stream",
     "text": [
      "Execution time for iter 22/25 in OPFV = 1.623 mins\n"
     ]
    },
    {
     "name": "stderr",
     "output_type": "stream",
     "text": []
    },
    {
     "name": "stdout",
     "output_type": "stream",
     "text": [
      "Execution time for iter 23/25 in OPFV = 1.636 mins\n"
     ]
    },
    {
     "name": "stderr",
     "output_type": "stream",
     "text": []
    },
    {
     "name": "stdout",
     "output_type": "stream",
     "text": [
      "Execution time for iter 24/25 in OPFV = 1.615 mins\n"
     ]
    },
    {
     "name": "stderr",
     "output_type": "stream",
     "text": [
      "100%|██████████| 25/25 [40:37<00:00, 97.51s/it]\n",
      " 60%|██████    | 6/10 [5:32:21<3:37:03, 3255.86s/it]"
     ]
    },
    {
     "name": "stdout",
     "output_type": "stream",
     "text": [
      "Execution time for iter 25/25 in OPFV = 1.623 mins\n",
      "OPFV exectution time = 41.187 mins\n",
      "Execution time for OPL: 47.780 mins\n",
      "#################### END of OPL ####################\n",
      "\n",
      "ROUND 6/10: test_policy_value_list_DM = {'pi_b': 0.9438716327481742, 'reg': 1.2755702381413316, 'ips-pg': 0.8245269922086045, 'dr-pg': 1.2830090324431873, 'prognosticator': 1.4135631672311606, 'opfv': 1.2822215697769788}\n",
      "ROUND 6/10: test_policy_value_list_IPS = {'pi_b': 0.8917415515848629, 'reg': 1.1333909294093278, 'ips-pg': 0.28590867737573356, 'dr-pg': 1.1601352966716085, 'prognosticator': 1.0241669012845962, 'opfv': 1.158317927670073}\n",
      "ROUND 6/10: test_policy_value_list_SNIPS = {'pi_b': 0.8917415515848629, 'reg': 1.1937544400952964, 'ips-pg': 1.2755464382208233, 'dr-pg': 1.199928883739306, 'prognosticator': 1.3473192974139638, 'opfv': 1.2002535646894281}\n",
      "ROUND 6/10: test_policy_value_list_SNDR = {'pi_b': 0.9018475004263488, 'reg': 1.1645159324793977, 'ips-pg': 0.6674932650930676, 'dr-pg': 1.1742530478718072, 'prognosticator': 1.3752357256981393, 'opfv': 1.175889970324259}\n",
      "############################################### END of ROUND 6/10 ###############################################\n",
      "\n",
      "\n",
      "\n",
      "\n",
      "############################################### START of ROUND 7/10 ###############################################\n",
      "\n",
      "#################### START of preprocessing ####################\n",
      "Maximum number of unique actions that we can use for training and test data = 2547\n",
      "Execution time of preprocess_item_categories = 0.007 mins\n",
      "Executing preprocess_item_daily_features\n",
      "Execution time for preprocess_item_daily_features = 1.499 mins\n",
      "Executing preprocess_user_features\n",
      "Execution time for preprocess_user_features = 0.002 mins\n",
      "Executing reduce_the_dim_context\n",
      "The dimension of the original context = 131\n",
      "The dimension of the context after PCA = 60\n",
      "The cumularive explained variance for the dimension of context is 0.735\n",
      "Execution time for educe_the_dim_context = 0.071 mins\n",
      "Executing reduce_the_dim_action_context\n",
      "The dimension of the original action context = 619\n",
      "The dimension of the action context after PCA = 40\n",
      "The cumularive explained variance for the dimension of action context is 0.826\n",
      "Execution time for reduce_the_dim_action_context = 0.189 mins\n",
      "Executing create_behavior_and_evaluation_policy_and_pscore\n",
      "Execution time for create_behavior_and_evaluation_policy_and_pscore = 1.145 mins\n",
      "The number of the training data = 113551\n",
      "The number of the test data = 49528\n",
      "Number of actions in dataset |A| = 100\n",
      "\n",
      "Executing create_expected_reward\n",
      "RegressionModelTimeTrue fitting and predition for training data time = 0.535 mins\n",
      "RegressionModelTimeTrue fitting and predition for test data time = 0.195 mins\n",
      "Execution time for create_expected_reward = 0.731 mins\n",
      "#################### END of preprocessing ####################\n",
      "\n",
      "Execution time for preprocessing = 3.806 mins\n",
      "\n",
      "#################### START of OPL ####################\n",
      "pi_reg = [[2.49904302e-15 7.27775479e-11 2.72362883e-12 ... 1.71202340e-13\n",
      "  7.10035373e-12 1.93782588e-15]\n",
      " [2.46452858e-10 5.86582319e-05 4.04737441e-12 ... 5.48064039e-09\n",
      "  1.94879121e-07 7.82600113e-13]\n",
      " [5.74558065e-17 2.32355468e-10 1.28268935e-14 ... 2.66204710e-15\n",
      "  3.36007573e-15 1.81602318e-15]\n",
      " ...\n",
      " [7.74199760e-16 1.23460964e-12 3.03315229e-12 ... 1.05456728e-14\n",
      "  2.85633550e-13 9.07226073e-16]\n",
      " [1.30314918e-14 2.22889110e-10 1.14792019e-12 ... 1.99729136e-13\n",
      "  1.95917033e-11 1.77244577e-15]\n",
      " [1.26811920e-35 3.97591774e-32 3.16627661e-32 ... 2.10395122e-36\n",
      "  3.57571652e-31 3.43606932e-32]]\n",
      "Regression-based exectution time = 0.483 mins\n",
      "IPS exectution time = 0.915 mins\n",
      "RegressionModel fitting and predition time = 0.460 mins\n",
      "DR exectution time = 1.290 mins\n"
     ]
    },
    {
     "name": "stderr",
     "output_type": "stream",
     "text": [
      "num_features_for_Prognosticator = 3: 100%|██████████| 1/1 [01:04<00:00, 64.13s/it]\n",
      "num_features_for_Prognosticator = 5: 100%|██████████| 1/1 [01:05<00:00, 65.15s/it]\n",
      "num_features_for_Prognosticator = 7: 100%|██████████| 1/1 [01:05<00:00, 65.96s/it]\n"
     ]
    },
    {
     "name": "stdout",
     "output_type": "stream",
     "text": [
      "Prognosticator exectution time = 3.254 mins\n",
      "RegressionModelTimeStructure fitting and predition time = 0.454 mins\n"
     ]
    },
    {
     "name": "stderr",
     "output_type": "stream",
     "text": []
    },
    {
     "name": "stdout",
     "output_type": "stream",
     "text": [
      "Execution time for iter 1/25 in OPFV = 1.411 mins\n"
     ]
    },
    {
     "name": "stderr",
     "output_type": "stream",
     "text": []
    },
    {
     "name": "stdout",
     "output_type": "stream",
     "text": [
      "Execution time for iter 2/25 in OPFV = 1.411 mins\n"
     ]
    },
    {
     "name": "stderr",
     "output_type": "stream",
     "text": []
    },
    {
     "name": "stdout",
     "output_type": "stream",
     "text": [
      "Execution time for iter 3/25 in OPFV = 1.411 mins\n"
     ]
    },
    {
     "name": "stderr",
     "output_type": "stream",
     "text": []
    },
    {
     "name": "stdout",
     "output_type": "stream",
     "text": [
      "Execution time for iter 4/25 in OPFV = 1.410 mins\n"
     ]
    },
    {
     "name": "stderr",
     "output_type": "stream",
     "text": []
    },
    {
     "name": "stdout",
     "output_type": "stream",
     "text": [
      "Execution time for iter 5/25 in OPFV = 1.406 mins\n"
     ]
    },
    {
     "name": "stderr",
     "output_type": "stream",
     "text": []
    },
    {
     "name": "stdout",
     "output_type": "stream",
     "text": [
      "Execution time for iter 6/25 in OPFV = 1.408 mins\n"
     ]
    },
    {
     "name": "stderr",
     "output_type": "stream",
     "text": []
    },
    {
     "name": "stdout",
     "output_type": "stream",
     "text": [
      "Execution time for iter 7/25 in OPFV = 1.417 mins\n"
     ]
    },
    {
     "name": "stderr",
     "output_type": "stream",
     "text": []
    },
    {
     "name": "stdout",
     "output_type": "stream",
     "text": [
      "Execution time for iter 8/25 in OPFV = 1.411 mins\n"
     ]
    },
    {
     "name": "stderr",
     "output_type": "stream",
     "text": []
    },
    {
     "name": "stdout",
     "output_type": "stream",
     "text": [
      "Execution time for iter 9/25 in OPFV = 1.428 mins\n"
     ]
    },
    {
     "name": "stderr",
     "output_type": "stream",
     "text": []
    },
    {
     "name": "stdout",
     "output_type": "stream",
     "text": [
      "Execution time for iter 10/25 in OPFV = 1.417 mins\n"
     ]
    },
    {
     "name": "stderr",
     "output_type": "stream",
     "text": []
    },
    {
     "name": "stdout",
     "output_type": "stream",
     "text": [
      "Execution time for iter 11/25 in OPFV = 1.404 mins\n"
     ]
    },
    {
     "name": "stderr",
     "output_type": "stream",
     "text": []
    },
    {
     "name": "stdout",
     "output_type": "stream",
     "text": [
      "Execution time for iter 12/25 in OPFV = 1.403 mins\n"
     ]
    },
    {
     "name": "stderr",
     "output_type": "stream",
     "text": []
    },
    {
     "name": "stdout",
     "output_type": "stream",
     "text": [
      "Execution time for iter 13/25 in OPFV = 1.413 mins\n"
     ]
    },
    {
     "name": "stderr",
     "output_type": "stream",
     "text": []
    },
    {
     "name": "stdout",
     "output_type": "stream",
     "text": [
      "Execution time for iter 14/25 in OPFV = 1.409 mins\n"
     ]
    },
    {
     "name": "stderr",
     "output_type": "stream",
     "text": []
    },
    {
     "name": "stdout",
     "output_type": "stream",
     "text": [
      "Execution time for iter 15/25 in OPFV = 1.406 mins\n"
     ]
    },
    {
     "name": "stderr",
     "output_type": "stream",
     "text": []
    },
    {
     "name": "stdout",
     "output_type": "stream",
     "text": [
      "Execution time for iter 16/25 in OPFV = 1.411 mins\n"
     ]
    },
    {
     "name": "stderr",
     "output_type": "stream",
     "text": []
    },
    {
     "name": "stdout",
     "output_type": "stream",
     "text": [
      "Execution time for iter 17/25 in OPFV = 1.414 mins\n"
     ]
    },
    {
     "name": "stderr",
     "output_type": "stream",
     "text": []
    },
    {
     "name": "stdout",
     "output_type": "stream",
     "text": [
      "Execution time for iter 18/25 in OPFV = 1.419 mins\n"
     ]
    },
    {
     "name": "stderr",
     "output_type": "stream",
     "text": []
    },
    {
     "name": "stdout",
     "output_type": "stream",
     "text": [
      "Execution time for iter 19/25 in OPFV = 1.431 mins\n"
     ]
    },
    {
     "name": "stderr",
     "output_type": "stream",
     "text": []
    },
    {
     "name": "stdout",
     "output_type": "stream",
     "text": [
      "Execution time for iter 20/25 in OPFV = 1.414 mins\n"
     ]
    },
    {
     "name": "stderr",
     "output_type": "stream",
     "text": []
    },
    {
     "name": "stdout",
     "output_type": "stream",
     "text": [
      "Execution time for iter 21/25 in OPFV = 1.416 mins\n"
     ]
    },
    {
     "name": "stderr",
     "output_type": "stream",
     "text": []
    },
    {
     "name": "stdout",
     "output_type": "stream",
     "text": [
      "Execution time for iter 22/25 in OPFV = 1.412 mins\n"
     ]
    },
    {
     "name": "stderr",
     "output_type": "stream",
     "text": []
    },
    {
     "name": "stdout",
     "output_type": "stream",
     "text": [
      "Execution time for iter 23/25 in OPFV = 1.415 mins\n"
     ]
    },
    {
     "name": "stderr",
     "output_type": "stream",
     "text": []
    },
    {
     "name": "stdout",
     "output_type": "stream",
     "text": [
      "Execution time for iter 24/25 in OPFV = 1.408 mins\n"
     ]
    },
    {
     "name": "stderr",
     "output_type": "stream",
     "text": [
      "100%|██████████| 25/25 [35:18<00:00, 84.76s/it]"
     ]
    },
    {
     "name": "stdout",
     "output_type": "stream",
     "text": [
      "Execution time for iter 25/25 in OPFV = 1.411 mins\n",
      "OPFV exectution time = 35.772 mins\n",
      "Execution time for OPL: 41.713 mins\n",
      "#################### END of OPL ####################\n",
      "\n",
      "ROUND 7/10: test_policy_value_list_DM = {'pi_b': 0.8794112001142762, 'reg': 1.2017549287090759, 'ips-pg': 0.8733931680905946, 'dr-pg': 0.9374715365892202, 'prognosticator': 0.910069821911282, 'opfv': 1.1907411061442181}\n",
      "ROUND 7/10: test_policy_value_list_IPS = {'pi_b': 0.8335465486822332, 'reg': 1.063021493976164, 'ips-pg': 0.6418260224493788, 'dr-pg': 0.9819125184839932, 'prognosticator': 0.9566824493566969, 'opfv': 1.1684822397352757}\n",
      "ROUND 7/10: test_policy_value_list_SNIPS = {'pi_b': 0.8335465486822332, 'reg': 1.1394597039510523, 'ips-pg': 0.7988971664190847, 'dr-pg': 0.7509870255393987, 'prognosticator': 0.8404003394948715, 'opfv': 1.125497967415854}\n",
      "ROUND 7/10: test_policy_value_list_SNDR = {'pi_b': 0.8411495459754138, 'reg': 1.1623904373077936, 'ips-pg': 0.8021930284690203, 'dr-pg': 0.3191315569876408, 'prognosticator': 0.8448918640331903, 'opfv': 1.1371448723843605}\n",
      "############################################### END of ROUND 7/10 ###############################################\n",
      "\n",
      "\n",
      "\n"
     ]
    },
    {
     "name": "stderr",
     "output_type": "stream",
     "text": [
      "\n",
      " 70%|███████   | 7/10 [6:17:52<2:34:13, 3084.36s/it]"
     ]
    },
    {
     "name": "stdout",
     "output_type": "stream",
     "text": [
      "\n",
      "############################################### START of ROUND 8/10 ###############################################\n",
      "\n",
      "#################### START of preprocessing ####################\n",
      "Maximum number of unique actions that we can use for training and test data = 2547\n",
      "Execution time of preprocess_item_categories = 0.007 mins\n",
      "Executing preprocess_item_daily_features\n",
      "Execution time for preprocess_item_daily_features = 1.583 mins\n",
      "Executing preprocess_user_features\n",
      "Execution time for preprocess_user_features = 0.002 mins\n",
      "Executing reduce_the_dim_context\n",
      "The dimension of the original context = 131\n",
      "The dimension of the context after PCA = 60\n",
      "The cumularive explained variance for the dimension of context is 0.736\n",
      "Execution time for educe_the_dim_context = 0.071 mins\n",
      "Executing reduce_the_dim_action_context\n",
      "The dimension of the original action context = 619\n",
      "The dimension of the action context after PCA = 40\n",
      "The cumularive explained variance for the dimension of action context is 0.819\n",
      "Execution time for reduce_the_dim_action_context = 0.194 mins\n",
      "Executing create_behavior_and_evaluation_policy_and_pscore\n",
      "Execution time for create_behavior_and_evaluation_policy_and_pscore = 1.059 mins\n",
      "The number of the training data = 117512\n",
      "The number of the test data = 44251\n",
      "Number of actions in dataset |A| = 100\n",
      "\n",
      "Executing create_expected_reward\n",
      "RegressionModelTimeTrue fitting and predition for training data time = 0.612 mins\n",
      "RegressionModelTimeTrue fitting and predition for test data time = 0.191 mins\n",
      "Execution time for create_expected_reward = 0.804 mins\n",
      "#################### END of preprocessing ####################\n",
      "\n",
      "Execution time for preprocessing = 3.879 mins\n",
      "\n",
      "#################### START of OPL ####################\n",
      "pi_reg = [[3.7184491e-34 1.1154226e-31 7.6015323e-32 ... 2.7203032e-31\n",
      "  3.4792526e-32 8.3373640e-29]\n",
      " [1.4714720e-33 3.8166244e-31 3.2983798e-31 ... 8.2686247e-31\n",
      "  1.1942659e-31 1.5836753e-28]\n",
      " [1.6171599e-29 1.7011368e-28 4.5137953e-28 ... 1.6610528e-27\n",
      "  9.1943299e-28 1.2637799e-24]\n",
      " ...\n",
      " [4.6333925e-33 9.3685790e-31 9.7112808e-31 ... 2.1557750e-30\n",
      "  3.4036528e-31 6.5497695e-28]\n",
      " [1.9379505e-33 4.3379212e-31 5.0227562e-31 ... 1.2005380e-30\n",
      "  1.4045827e-31 3.5362753e-28]\n",
      " [3.1934864e-31 1.1108086e-28 7.1912063e-29 ... 8.5958539e-29\n",
      "  2.4806491e-29 1.7785869e-26]]\n",
      "Regression-based exectution time = 0.485 mins\n",
      "IPS exectution time = 0.911 mins\n",
      "RegressionModel fitting and predition time = 0.491 mins\n",
      "DR exectution time = 1.339 mins\n"
     ]
    },
    {
     "name": "stderr",
     "output_type": "stream",
     "text": [
      "num_features_for_Prognosticator = 3: 100%|██████████| 1/1 [01:05<00:00, 65.10s/it]\n",
      "num_features_for_Prognosticator = 5: 100%|██████████| 1/1 [01:05<00:00, 65.98s/it]\n",
      "num_features_for_Prognosticator = 7: 100%|██████████| 1/1 [01:06<00:00, 66.18s/it]\n"
     ]
    },
    {
     "name": "stdout",
     "output_type": "stream",
     "text": [
      "Prognosticator exectution time = 3.288 mins\n",
      "RegressionModelTimeStructure fitting and predition time = 0.491 mins\n"
     ]
    },
    {
     "name": "stderr",
     "output_type": "stream",
     "text": []
    },
    {
     "name": "stdout",
     "output_type": "stream",
     "text": [
      "Execution time for iter 1/25 in OPFV = 1.477 mins\n"
     ]
    },
    {
     "name": "stderr",
     "output_type": "stream",
     "text": []
    },
    {
     "name": "stdout",
     "output_type": "stream",
     "text": [
      "Execution time for iter 2/25 in OPFV = 1.485 mins\n"
     ]
    },
    {
     "name": "stderr",
     "output_type": "stream",
     "text": []
    },
    {
     "name": "stdout",
     "output_type": "stream",
     "text": [
      "Execution time for iter 3/25 in OPFV = 1.507 mins\n"
     ]
    },
    {
     "name": "stderr",
     "output_type": "stream",
     "text": []
    },
    {
     "name": "stdout",
     "output_type": "stream",
     "text": [
      "Execution time for iter 4/25 in OPFV = 1.483 mins\n"
     ]
    },
    {
     "name": "stderr",
     "output_type": "stream",
     "text": []
    },
    {
     "name": "stdout",
     "output_type": "stream",
     "text": [
      "Execution time for iter 5/25 in OPFV = 1.481 mins\n"
     ]
    },
    {
     "name": "stderr",
     "output_type": "stream",
     "text": []
    },
    {
     "name": "stdout",
     "output_type": "stream",
     "text": [
      "Execution time for iter 6/25 in OPFV = 1.487 mins\n"
     ]
    },
    {
     "name": "stderr",
     "output_type": "stream",
     "text": []
    },
    {
     "name": "stdout",
     "output_type": "stream",
     "text": [
      "Execution time for iter 7/25 in OPFV = 1.482 mins\n"
     ]
    },
    {
     "name": "stderr",
     "output_type": "stream",
     "text": []
    },
    {
     "name": "stdout",
     "output_type": "stream",
     "text": [
      "Execution time for iter 8/25 in OPFV = 1.479 mins\n"
     ]
    },
    {
     "name": "stderr",
     "output_type": "stream",
     "text": []
    },
    {
     "name": "stdout",
     "output_type": "stream",
     "text": [
      "Execution time for iter 9/25 in OPFV = 1.487 mins\n"
     ]
    },
    {
     "name": "stderr",
     "output_type": "stream",
     "text": []
    },
    {
     "name": "stdout",
     "output_type": "stream",
     "text": [
      "Execution time for iter 10/25 in OPFV = 1.480 mins\n"
     ]
    },
    {
     "name": "stderr",
     "output_type": "stream",
     "text": []
    },
    {
     "name": "stdout",
     "output_type": "stream",
     "text": [
      "Execution time for iter 11/25 in OPFV = 1.486 mins\n"
     ]
    },
    {
     "name": "stderr",
     "output_type": "stream",
     "text": []
    },
    {
     "name": "stdout",
     "output_type": "stream",
     "text": [
      "Execution time for iter 12/25 in OPFV = 1.505 mins\n"
     ]
    },
    {
     "name": "stderr",
     "output_type": "stream",
     "text": []
    },
    {
     "name": "stdout",
     "output_type": "stream",
     "text": [
      "Execution time for iter 13/25 in OPFV = 1.483 mins\n"
     ]
    },
    {
     "name": "stderr",
     "output_type": "stream",
     "text": []
    },
    {
     "name": "stdout",
     "output_type": "stream",
     "text": [
      "Execution time for iter 14/25 in OPFV = 1.478 mins\n"
     ]
    },
    {
     "name": "stderr",
     "output_type": "stream",
     "text": []
    },
    {
     "name": "stdout",
     "output_type": "stream",
     "text": [
      "Execution time for iter 15/25 in OPFV = 1.480 mins\n"
     ]
    },
    {
     "name": "stderr",
     "output_type": "stream",
     "text": []
    },
    {
     "name": "stdout",
     "output_type": "stream",
     "text": [
      "Execution time for iter 16/25 in OPFV = 1.499 mins\n"
     ]
    },
    {
     "name": "stderr",
     "output_type": "stream",
     "text": []
    },
    {
     "name": "stdout",
     "output_type": "stream",
     "text": [
      "Execution time for iter 17/25 in OPFV = 1.480 mins\n"
     ]
    },
    {
     "name": "stderr",
     "output_type": "stream",
     "text": []
    },
    {
     "name": "stdout",
     "output_type": "stream",
     "text": [
      "Execution time for iter 18/25 in OPFV = 1.478 mins\n"
     ]
    },
    {
     "name": "stderr",
     "output_type": "stream",
     "text": []
    },
    {
     "name": "stdout",
     "output_type": "stream",
     "text": [
      "Execution time for iter 19/25 in OPFV = 1.510 mins\n"
     ]
    },
    {
     "name": "stderr",
     "output_type": "stream",
     "text": []
    },
    {
     "name": "stdout",
     "output_type": "stream",
     "text": [
      "Execution time for iter 20/25 in OPFV = 1.485 mins\n"
     ]
    },
    {
     "name": "stderr",
     "output_type": "stream",
     "text": []
    },
    {
     "name": "stdout",
     "output_type": "stream",
     "text": [
      "Execution time for iter 21/25 in OPFV = 1.477 mins\n"
     ]
    },
    {
     "name": "stderr",
     "output_type": "stream",
     "text": []
    },
    {
     "name": "stdout",
     "output_type": "stream",
     "text": [
      "Execution time for iter 22/25 in OPFV = 1.487 mins\n"
     ]
    },
    {
     "name": "stderr",
     "output_type": "stream",
     "text": []
    },
    {
     "name": "stdout",
     "output_type": "stream",
     "text": [
      "Execution time for iter 23/25 in OPFV = 1.483 mins\n"
     ]
    },
    {
     "name": "stderr",
     "output_type": "stream",
     "text": []
    },
    {
     "name": "stdout",
     "output_type": "stream",
     "text": [
      "Execution time for iter 24/25 in OPFV = 1.480 mins\n"
     ]
    },
    {
     "name": "stderr",
     "output_type": "stream",
     "text": [
      "100%|██████████| 25/25 [37:08<00:00, 89.15s/it]\n",
      " 80%|████████  | 8/10 [7:05:25<1:40:21, 3010.57s/it]"
     ]
    },
    {
     "name": "stdout",
     "output_type": "stream",
     "text": [
      "Execution time for iter 25/25 in OPFV = 1.488 mins\n",
      "OPFV exectution time = 37.639 mins\n",
      "Execution time for OPL: 43.661 mins\n",
      "#################### END of OPL ####################\n",
      "\n",
      "ROUND 8/10: test_policy_value_list_DM = {'pi_b': 0.9870948089595878, 'reg': 1.4972753251833428, 'ips-pg': 1.3527450347847676, 'dr-pg': 1.5129153112005806, 'prognosticator': 1.2974958822055425, 'opfv': 1.5095235450927624}\n",
      "ROUND 8/10: test_policy_value_list_IPS = {'pi_b': 0.9310088725878963, 'reg': 1.0690260742408146, 'ips-pg': 0.8175104049525852, 'dr-pg': 1.0648176967609913, 'prognosticator': 1.1711240729972643, 'opfv': 1.099049429658022}\n",
      "ROUND 8/10: test_policy_value_list_SNIPS = {'pi_b': 0.9310088725878963, 'reg': 1.4056058600545727, 'ips-pg': 1.4132918457885542, 'dr-pg': 1.4378018619056179, 'prognosticator': 1.316316498737678, 'opfv': 1.4339035900295898}\n",
      "ROUND 8/10: test_policy_value_list_SNDR = {'pi_b': 0.9543845925314234, 'reg': 1.3624621368165133, 'ips-pg': 1.4497040093743057, 'dr-pg': 1.3946651874241995, 'prognosticator': 1.3030098824690848, 'opfv': 1.3928262042021233}\n",
      "############################################### END of ROUND 8/10 ###############################################\n",
      "\n",
      "\n",
      "\n",
      "\n",
      "############################################### START of ROUND 9/10 ###############################################\n",
      "\n",
      "#################### START of preprocessing ####################\n",
      "Maximum number of unique actions that we can use for training and test data = 2547\n",
      "Execution time of preprocess_item_categories = 0.008 mins\n",
      "Executing preprocess_item_daily_features\n",
      "Execution time for preprocess_item_daily_features = 1.486 mins\n",
      "Executing preprocess_user_features\n",
      "Execution time for preprocess_user_features = 0.002 mins\n",
      "Executing reduce_the_dim_context\n",
      "The dimension of the original context = 131\n",
      "The dimension of the context after PCA = 60\n",
      "The cumularive explained variance for the dimension of context is 0.736\n",
      "Execution time for educe_the_dim_context = 0.065 mins\n",
      "Executing reduce_the_dim_action_context\n",
      "The dimension of the original action context = 619\n",
      "The dimension of the action context after PCA = 40\n",
      "The cumularive explained variance for the dimension of action context is 0.762\n",
      "Execution time for reduce_the_dim_action_context = 0.196 mins\n",
      "Executing create_behavior_and_evaluation_policy_and_pscore\n",
      "Execution time for create_behavior_and_evaluation_policy_and_pscore = 1.176 mins\n",
      "The number of the training data = 108754\n",
      "The number of the test data = 54054\n",
      "Number of actions in dataset |A| = 100\n",
      "\n",
      "Executing create_expected_reward\n",
      "RegressionModelTimeTrue fitting and predition for training data time = 0.539 mins\n",
      "RegressionModelTimeTrue fitting and predition for test data time = 0.203 mins\n",
      "Execution time for create_expected_reward = 0.743 mins\n",
      "#################### END of preprocessing ####################\n",
      "\n",
      "Execution time for preprocessing = 3.815 mins\n",
      "\n",
      "#################### START of OPL ####################\n",
      "pi_reg = [[5.2101136e-08 4.4130403e-14 8.5112396e-11 ... 2.6426908e-11\n",
      "  4.4841710e-13 9.9540389e-01]\n",
      " [7.2906450e-09 1.2363275e-13 7.3432753e-12 ... 6.2344363e-13\n",
      "  1.5654704e-15 8.2457639e-02]\n",
      " [5.2101136e-08 4.4130403e-14 8.5112396e-11 ... 2.6426908e-11\n",
      "  4.4841710e-13 9.9540389e-01]\n",
      " ...\n",
      " [3.4958713e-03 8.4236632e-07 1.4065386e-05 ... 4.0696243e-05\n",
      "  1.5533648e-07 2.0698205e-04]\n",
      " [4.1550395e-14 2.0067746e-15 3.2580113e-12 ... 1.5527945e-13\n",
      "  3.7817131e-14 4.4973005e-02]\n",
      " [9.5753339e-10 1.0707131e-12 1.4868493e-09 ... 7.7602967e-12\n",
      "  6.3060627e-14 2.7554519e-02]]\n",
      "Regression-based exectution time = 0.466 mins\n",
      "IPS exectution time = 0.843 mins\n",
      "RegressionModel fitting and predition time = 0.453 mins\n",
      "DR exectution time = 1.270 mins\n"
     ]
    },
    {
     "name": "stderr",
     "output_type": "stream",
     "text": [
      "num_features_for_Prognosticator = 3: 100%|██████████| 1/1 [01:01<00:00, 61.74s/it]\n",
      "num_features_for_Prognosticator = 5: 100%|██████████| 1/1 [01:02<00:00, 62.08s/it]\n",
      "num_features_for_Prognosticator = 7: 100%|██████████| 1/1 [01:01<00:00, 61.46s/it]\n"
     ]
    },
    {
     "name": "stdout",
     "output_type": "stream",
     "text": [
      "Prognosticator exectution time = 3.088 mins\n",
      "RegressionModelTimeStructure fitting and predition time = 0.493 mins\n"
     ]
    },
    {
     "name": "stderr",
     "output_type": "stream",
     "text": []
    },
    {
     "name": "stdout",
     "output_type": "stream",
     "text": [
      "Execution time for iter 1/25 in OPFV = 1.362 mins\n"
     ]
    },
    {
     "name": "stderr",
     "output_type": "stream",
     "text": []
    },
    {
     "name": "stdout",
     "output_type": "stream",
     "text": [
      "Execution time for iter 2/25 in OPFV = 1.357 mins\n"
     ]
    },
    {
     "name": "stderr",
     "output_type": "stream",
     "text": []
    },
    {
     "name": "stdout",
     "output_type": "stream",
     "text": [
      "Execution time for iter 3/25 in OPFV = 1.353 mins\n"
     ]
    },
    {
     "name": "stderr",
     "output_type": "stream",
     "text": []
    },
    {
     "name": "stdout",
     "output_type": "stream",
     "text": [
      "Execution time for iter 4/25 in OPFV = 1.359 mins\n"
     ]
    },
    {
     "name": "stderr",
     "output_type": "stream",
     "text": []
    },
    {
     "name": "stdout",
     "output_type": "stream",
     "text": [
      "Execution time for iter 5/25 in OPFV = 1.358 mins\n"
     ]
    },
    {
     "name": "stderr",
     "output_type": "stream",
     "text": []
    },
    {
     "name": "stdout",
     "output_type": "stream",
     "text": [
      "Execution time for iter 6/25 in OPFV = 1.358 mins\n"
     ]
    },
    {
     "name": "stderr",
     "output_type": "stream",
     "text": []
    },
    {
     "name": "stdout",
     "output_type": "stream",
     "text": [
      "Execution time for iter 7/25 in OPFV = 1.360 mins\n"
     ]
    },
    {
     "name": "stderr",
     "output_type": "stream",
     "text": []
    },
    {
     "name": "stdout",
     "output_type": "stream",
     "text": [
      "Execution time for iter 8/25 in OPFV = 1.362 mins\n"
     ]
    },
    {
     "name": "stderr",
     "output_type": "stream",
     "text": []
    },
    {
     "name": "stdout",
     "output_type": "stream",
     "text": [
      "Execution time for iter 9/25 in OPFV = 1.382 mins\n"
     ]
    },
    {
     "name": "stderr",
     "output_type": "stream",
     "text": []
    },
    {
     "name": "stdout",
     "output_type": "stream",
     "text": [
      "Execution time for iter 10/25 in OPFV = 1.345 mins\n"
     ]
    },
    {
     "name": "stderr",
     "output_type": "stream",
     "text": []
    },
    {
     "name": "stdout",
     "output_type": "stream",
     "text": [
      "Execution time for iter 11/25 in OPFV = 1.349 mins\n"
     ]
    },
    {
     "name": "stderr",
     "output_type": "stream",
     "text": []
    },
    {
     "name": "stdout",
     "output_type": "stream",
     "text": [
      "Execution time for iter 12/25 in OPFV = 1.356 mins\n"
     ]
    },
    {
     "name": "stderr",
     "output_type": "stream",
     "text": []
    },
    {
     "name": "stdout",
     "output_type": "stream",
     "text": [
      "Execution time for iter 13/25 in OPFV = 1.371 mins\n"
     ]
    },
    {
     "name": "stderr",
     "output_type": "stream",
     "text": []
    },
    {
     "name": "stdout",
     "output_type": "stream",
     "text": [
      "Execution time for iter 14/25 in OPFV = 1.353 mins\n"
     ]
    },
    {
     "name": "stderr",
     "output_type": "stream",
     "text": []
    },
    {
     "name": "stdout",
     "output_type": "stream",
     "text": [
      "Execution time for iter 15/25 in OPFV = 1.352 mins\n"
     ]
    },
    {
     "name": "stderr",
     "output_type": "stream",
     "text": []
    },
    {
     "name": "stdout",
     "output_type": "stream",
     "text": [
      "Execution time for iter 16/25 in OPFV = 1.356 mins\n"
     ]
    },
    {
     "name": "stderr",
     "output_type": "stream",
     "text": []
    },
    {
     "name": "stdout",
     "output_type": "stream",
     "text": [
      "Execution time for iter 17/25 in OPFV = 1.354 mins\n"
     ]
    },
    {
     "name": "stderr",
     "output_type": "stream",
     "text": []
    },
    {
     "name": "stdout",
     "output_type": "stream",
     "text": [
      "Execution time for iter 18/25 in OPFV = 1.360 mins\n"
     ]
    },
    {
     "name": "stderr",
     "output_type": "stream",
     "text": []
    },
    {
     "name": "stdout",
     "output_type": "stream",
     "text": [
      "Execution time for iter 19/25 in OPFV = 1.353 mins\n"
     ]
    },
    {
     "name": "stderr",
     "output_type": "stream",
     "text": []
    },
    {
     "name": "stdout",
     "output_type": "stream",
     "text": [
      "Execution time for iter 20/25 in OPFV = 1.355 mins\n"
     ]
    },
    {
     "name": "stderr",
     "output_type": "stream",
     "text": []
    },
    {
     "name": "stdout",
     "output_type": "stream",
     "text": [
      "Execution time for iter 21/25 in OPFV = 1.382 mins\n"
     ]
    },
    {
     "name": "stderr",
     "output_type": "stream",
     "text": []
    },
    {
     "name": "stdout",
     "output_type": "stream",
     "text": [
      "Execution time for iter 22/25 in OPFV = 1.365 mins\n"
     ]
    },
    {
     "name": "stderr",
     "output_type": "stream",
     "text": []
    },
    {
     "name": "stdout",
     "output_type": "stream",
     "text": [
      "Execution time for iter 23/25 in OPFV = 1.362 mins\n"
     ]
    },
    {
     "name": "stderr",
     "output_type": "stream",
     "text": []
    },
    {
     "name": "stdout",
     "output_type": "stream",
     "text": [
      "Execution time for iter 24/25 in OPFV = 1.358 mins\n"
     ]
    },
    {
     "name": "stderr",
     "output_type": "stream",
     "text": [
      "100%|██████████| 25/25 [33:58<00:00, 81.55s/it]"
     ]
    },
    {
     "name": "stdout",
     "output_type": "stream",
     "text": [
      "Execution time for iter 25/25 in OPFV = 1.356 mins\n",
      "OPFV exectution time = 34.475 mins\n",
      "Execution time for OPL: 40.142 mins\n"
     ]
    },
    {
     "name": "stderr",
     "output_type": "stream",
     "text": [
      "\n",
      " 90%|█████████ | 9/10 [7:49:23<48:13, 2893.95s/it]  "
     ]
    },
    {
     "name": "stdout",
     "output_type": "stream",
     "text": [
      "#################### END of OPL ####################\n",
      "\n",
      "ROUND 9/10: test_policy_value_list_DM = {'pi_b': 0.9509455342956529, 'reg': 1.1901425673917352, 'ips-pg': 0.9410937070614238, 'dr-pg': 1.2318066169296968, 'prognosticator': 1.1476094838174127, 'opfv': 1.231629971266394}\n",
      "ROUND 9/10: test_policy_value_list_IPS = {'pi_b': 0.9111042825650352, 'reg': 1.043108219161466, 'ips-pg': 0.6816104221603475, 'dr-pg': 1.1803294487386322, 'prognosticator': 1.0155597129640355, 'opfv': 1.1788434778790797}\n",
      "ROUND 9/10: test_policy_value_list_SNIPS = {'pi_b': 0.9111042825650352, 'reg': 1.1818299812752338, 'ips-pg': 0.9275837117948145, 'dr-pg': 1.180589541124282, 'prognosticator': 1.1504739937941124, 'opfv': 1.1813657584972197}\n",
      "ROUND 9/10: test_policy_value_list_SNDR = {'pi_b': 0.9137950208109735, 'reg': 1.1674020496617394, 'ips-pg': 0.9162231082719846, 'dr-pg': 1.1881405661263944, 'prognosticator': 1.1029560450399223, 'opfv': 1.1894851303254137}\n",
      "############################################### END of ROUND 9/10 ###############################################\n",
      "\n",
      "\n",
      "\n",
      "\n",
      "############################################### START of ROUND 10/10 ###############################################\n",
      "\n",
      "#################### START of preprocessing ####################\n",
      "Maximum number of unique actions that we can use for training and test data = 2547\n",
      "Execution time of preprocess_item_categories = 0.008 mins\n",
      "Executing preprocess_item_daily_features\n",
      "Execution time for preprocess_item_daily_features = 1.586 mins\n",
      "Executing preprocess_user_features\n",
      "Execution time for preprocess_user_features = 0.002 mins\n",
      "Executing reduce_the_dim_context\n",
      "The dimension of the original context = 131\n",
      "The dimension of the context after PCA = 60\n",
      "The cumularive explained variance for the dimension of context is 0.736\n",
      "Execution time for educe_the_dim_context = 0.073 mins\n",
      "Executing reduce_the_dim_action_context\n",
      "The dimension of the original action context = 619\n",
      "The dimension of the action context after PCA = 40\n",
      "The cumularive explained variance for the dimension of action context is 0.783\n",
      "Execution time for reduce_the_dim_action_context = 0.188 mins\n",
      "Executing create_behavior_and_evaluation_policy_and_pscore\n",
      "Execution time for create_behavior_and_evaluation_policy_and_pscore = 0.903 mins\n",
      "The number of the training data = 111966\n",
      "The number of the test data = 42568\n",
      "Number of actions in dataset |A| = 100\n",
      "\n",
      "Executing create_expected_reward\n",
      "RegressionModelTimeTrue fitting and predition for training data time = 0.496 mins\n",
      "RegressionModelTimeTrue fitting and predition for test data time = 0.155 mins\n",
      "Execution time for create_expected_reward = 0.652 mins\n",
      "#################### END of preprocessing ####################\n",
      "\n",
      "Execution time for preprocessing = 3.576 mins\n",
      "\n",
      "#################### START of OPL ####################\n",
      "pi_reg = [[1.1927710e-26 2.9903656e-27 3.1956172e-32 ... 2.6531056e-30\n",
      "  8.6967810e-29 6.4189883e-30]\n",
      " [4.6921186e-28 2.0812097e-28 7.7653098e-32 ... 8.6126872e-30\n",
      "  5.8097200e-31 4.8885974e-32]\n",
      " [3.8828005e-36 1.1694652e-32 1.3928627e-35 ... 6.4331931e-34\n",
      "  4.1839554e-34 1.1935881e-37]\n",
      " ...\n",
      " [1.9353225e-31 5.8547566e-29 2.7028932e-32 ... 2.7485620e-30\n",
      "  6.6120393e-32 1.0626792e-33]\n",
      " [8.6339337e-23 1.1371782e-25 1.1468439e-27 ... 1.0427450e-26\n",
      "  2.2799810e-26 5.4726644e-27]\n",
      " [6.5510189e-28 4.5766712e-25 9.2644579e-29 ... 3.2538960e-27\n",
      "  2.5808954e-28 1.4697745e-30]]\n",
      "Regression-based exectution time = 0.468 mins\n",
      "IPS exectution time = 0.885 mins\n",
      "RegressionModel fitting and predition time = 0.458 mins\n",
      "DR exectution time = 1.270 mins\n"
     ]
    },
    {
     "name": "stderr",
     "output_type": "stream",
     "text": [
      "num_features_for_Prognosticator = 3: 100%|██████████| 1/1 [01:03<00:00, 63.45s/it]\n",
      "num_features_for_Prognosticator = 5: 100%|██████████| 1/1 [01:05<00:00, 65.39s/it]\n",
      "num_features_for_Prognosticator = 7: 100%|██████████| 1/1 [01:06<00:00, 66.29s/it]\n"
     ]
    },
    {
     "name": "stdout",
     "output_type": "stream",
     "text": [
      "Prognosticator exectution time = 3.252 mins\n",
      "RegressionModelTimeStructure fitting and predition time = 0.487 mins\n"
     ]
    },
    {
     "name": "stderr",
     "output_type": "stream",
     "text": []
    },
    {
     "name": "stdout",
     "output_type": "stream",
     "text": [
      "Execution time for iter 1/25 in OPFV = 1.405 mins\n"
     ]
    },
    {
     "name": "stderr",
     "output_type": "stream",
     "text": []
    },
    {
     "name": "stdout",
     "output_type": "stream",
     "text": [
      "Execution time for iter 2/25 in OPFV = 1.404 mins\n"
     ]
    },
    {
     "name": "stderr",
     "output_type": "stream",
     "text": []
    },
    {
     "name": "stdout",
     "output_type": "stream",
     "text": [
      "Execution time for iter 3/25 in OPFV = 1.408 mins\n"
     ]
    },
    {
     "name": "stderr",
     "output_type": "stream",
     "text": []
    },
    {
     "name": "stdout",
     "output_type": "stream",
     "text": [
      "Execution time for iter 4/25 in OPFV = 1.413 mins\n"
     ]
    },
    {
     "name": "stderr",
     "output_type": "stream",
     "text": []
    },
    {
     "name": "stdout",
     "output_type": "stream",
     "text": [
      "Execution time for iter 5/25 in OPFV = 1.410 mins\n"
     ]
    },
    {
     "name": "stderr",
     "output_type": "stream",
     "text": []
    },
    {
     "name": "stdout",
     "output_type": "stream",
     "text": [
      "Execution time for iter 6/25 in OPFV = 1.414 mins\n"
     ]
    },
    {
     "name": "stderr",
     "output_type": "stream",
     "text": []
    },
    {
     "name": "stdout",
     "output_type": "stream",
     "text": [
      "Execution time for iter 7/25 in OPFV = 1.464 mins\n"
     ]
    },
    {
     "name": "stderr",
     "output_type": "stream",
     "text": []
    },
    {
     "name": "stdout",
     "output_type": "stream",
     "text": [
      "Execution time for iter 8/25 in OPFV = 1.419 mins\n"
     ]
    },
    {
     "name": "stderr",
     "output_type": "stream",
     "text": []
    },
    {
     "name": "stdout",
     "output_type": "stream",
     "text": [
      "Execution time for iter 9/25 in OPFV = 1.439 mins\n"
     ]
    },
    {
     "name": "stderr",
     "output_type": "stream",
     "text": []
    },
    {
     "name": "stdout",
     "output_type": "stream",
     "text": [
      "Execution time for iter 10/25 in OPFV = 1.420 mins\n"
     ]
    },
    {
     "name": "stderr",
     "output_type": "stream",
     "text": []
    },
    {
     "name": "stdout",
     "output_type": "stream",
     "text": [
      "Execution time for iter 11/25 in OPFV = 1.462 mins\n"
     ]
    },
    {
     "name": "stderr",
     "output_type": "stream",
     "text": []
    },
    {
     "name": "stdout",
     "output_type": "stream",
     "text": [
      "Execution time for iter 12/25 in OPFV = 1.429 mins\n"
     ]
    },
    {
     "name": "stderr",
     "output_type": "stream",
     "text": []
    },
    {
     "name": "stdout",
     "output_type": "stream",
     "text": [
      "Execution time for iter 13/25 in OPFV = 1.407 mins\n"
     ]
    },
    {
     "name": "stderr",
     "output_type": "stream",
     "text": []
    },
    {
     "name": "stdout",
     "output_type": "stream",
     "text": [
      "Execution time for iter 14/25 in OPFV = 1.429 mins\n"
     ]
    },
    {
     "name": "stderr",
     "output_type": "stream",
     "text": []
    },
    {
     "name": "stdout",
     "output_type": "stream",
     "text": [
      "Execution time for iter 15/25 in OPFV = 1.423 mins\n"
     ]
    },
    {
     "name": "stderr",
     "output_type": "stream",
     "text": []
    },
    {
     "name": "stdout",
     "output_type": "stream",
     "text": [
      "Execution time for iter 16/25 in OPFV = 1.416 mins\n"
     ]
    },
    {
     "name": "stderr",
     "output_type": "stream",
     "text": []
    },
    {
     "name": "stdout",
     "output_type": "stream",
     "text": [
      "Execution time for iter 17/25 in OPFV = 1.398 mins\n"
     ]
    },
    {
     "name": "stderr",
     "output_type": "stream",
     "text": []
    },
    {
     "name": "stdout",
     "output_type": "stream",
     "text": [
      "Execution time for iter 18/25 in OPFV = 1.398 mins\n"
     ]
    },
    {
     "name": "stderr",
     "output_type": "stream",
     "text": []
    },
    {
     "name": "stdout",
     "output_type": "stream",
     "text": [
      "Execution time for iter 19/25 in OPFV = 1.410 mins\n"
     ]
    },
    {
     "name": "stderr",
     "output_type": "stream",
     "text": []
    },
    {
     "name": "stdout",
     "output_type": "stream",
     "text": [
      "Execution time for iter 20/25 in OPFV = 1.418 mins\n"
     ]
    },
    {
     "name": "stderr",
     "output_type": "stream",
     "text": []
    },
    {
     "name": "stdout",
     "output_type": "stream",
     "text": [
      "Execution time for iter 21/25 in OPFV = 1.413 mins\n"
     ]
    },
    {
     "name": "stderr",
     "output_type": "stream",
     "text": []
    },
    {
     "name": "stdout",
     "output_type": "stream",
     "text": [
      "Execution time for iter 22/25 in OPFV = 1.419 mins\n"
     ]
    },
    {
     "name": "stderr",
     "output_type": "stream",
     "text": []
    },
    {
     "name": "stdout",
     "output_type": "stream",
     "text": [
      "Execution time for iter 23/25 in OPFV = 1.410 mins\n"
     ]
    },
    {
     "name": "stderr",
     "output_type": "stream",
     "text": []
    },
    {
     "name": "stdout",
     "output_type": "stream",
     "text": [
      "Execution time for iter 24/25 in OPFV = 1.400 mins\n"
     ]
    },
    {
     "name": "stderr",
     "output_type": "stream",
     "text": [
      "100%|██████████| 25/25 [35:26<00:00, 85.04s/it]\n",
      "100%|██████████| 10/10 [8:34:45<00:00, 3088.56s/it]"
     ]
    },
    {
     "name": "stdout",
     "output_type": "stream",
     "text": [
      "Execution time for iter 25/25 in OPFV = 1.406 mins\n",
      "OPFV exectution time = 35.922 mins\n",
      "Execution time for OPL: 41.797 mins\n",
      "#################### END of OPL ####################\n",
      "\n",
      "ROUND 10/10: test_policy_value_list_DM = {'pi_b': 0.8424887314666999, 'reg': 1.5715857883189235, 'ips-pg': 1.2419674821981237, 'dr-pg': 1.5892156410146825, 'prognosticator': 1.3509442076124702, 'opfv': 1.5903845809851012}\n",
      "ROUND 10/10: test_policy_value_list_IPS = {'pi_b': 0.7948299560759896, 'reg': 1.3663214815772187, 'ips-pg': 0.4384038235713545, 'dr-pg': 1.2884327948480163, 'prognosticator': 1.1907405194032772, 'opfv': 1.2744288129966694}\n",
      "ROUND 10/10: test_policy_value_list_SNIPS = {'pi_b': 0.7948299560759896, 'reg': 1.4588580711007244, 'ips-pg': 1.0179232909673972, 'dr-pg': 1.4627182630468856, 'prognosticator': 1.3396632521065488, 'opfv': 1.4595642067363535}\n",
      "ROUND 10/10: test_policy_value_list_SNDR = {'pi_b': 0.8054617163829249, 'reg': 1.4226546885474338, 'ips-pg': 1.1134269017062866, 'dr-pg': 1.4329732384133187, 'prognosticator': 1.2757031228991758, 'opfv': 1.4130680887159248}\n",
      "############################################### END of ROUND 10/10 ###############################################\n",
      "\n",
      "\n",
      "\n",
      "Execution time = 514.939 mins\n"
     ]
    },
    {
     "name": "stderr",
     "output_type": "stream",
     "text": [
      "\n"
     ]
    }
   ],
   "source": [
    "# Set seed\n",
    "torch.manual_seed(conf.random_state)\n",
    "random_ = check_random_state(conf.random_state)\n",
    "\n",
    "test_policy_value_list_DM_all_results = []\n",
    "test_policy_value_list_IPS_all_results = []\n",
    "test_policy_value_list_SNIPS_all_results = []\n",
    "test_policy_value_list_SNDR_all_results = []\n",
    "pi_learned_list_all_results = []\n",
    "\n",
    "for _ in tqdm(range(conf.n_seeds)):\n",
    "    print(f\"\\n############################################### START of ROUND {_ + 1}/{conf.n_seeds} ###############################################\")\n",
    "\n",
    "    ### Preprocess ###\n",
    "    time_pre_process_start = time.time()\n",
    "    dataset, dataset_train, dataset_test = pre_process(small_matrix, big_matrix, item_categories, item_daily_features, user_features, social_network, \n",
    "                                                       random_state = conf.random_state + _, n_actions=conf.n_actions, dim_context=conf.dim_context, dim_action_context=conf.dim_action_context)\n",
    "    time_pre_process_end = time.time()\n",
    "\n",
    "    elapsed_time = time_pre_process_end - time_pre_process_start\n",
    "    print(f'Execution time for preprocessing = {elapsed_time / 60:.3f} mins') \n",
    "\n",
    "    ### OPL ###\n",
    "    start_time = time.time()\n",
    "\n",
    "    # pi_reg, pi_ips, pi_dr, pi_prognosticator_DM, pi_prognosticator_IPS, pi_prognosticator_SNIPS, pi_prognosticator_SNDR, pi_opfv, pi_opfv_tuned = OPL(\n",
    "    pi_reg, pi_ips, pi_dr, pi_prognosticator_DM, pi_prognosticator_IPS, pi_prognosticator_SNIPS, pi_prognosticator_SNDR, pi_opfv = OPL(\n",
    "        dataset = dataset, \n",
    "        dataset_test = dataset_test, \n",
    "        dataset_train = dataset_train, \n",
    "        time_test = dataset_test[\"time\"], \n",
    "        round = conf.random_state + _, \n",
    "\n",
    "        flag_plot_loss = conf.flag_plot_loss, \n",
    "        flag_plot_value_test = conf.flag_plot_value_test, \n",
    "        flag_plot_value_train = conf.flag_plot_value_train, \n",
    "\n",
    "        num_time_structure_for_OPFV_reward = conf.num_time_structure_for_OPFV_reward, \n",
    "        phi_scalar_func_for_OPFV = conf.phi_scalar_func_for_OPFV, \n",
    "        \n",
    "        n_actions = dataset[\"n_actions\"], \n",
    "        dim_context = dataset[\"dim_context\"], \n",
    "\n",
    "        max_iter = conf.max_iter, \n",
    "        batch_size = conf.batch_size, \n",
    "        num_time_learn = conf.num_time_learn, \n",
    "        pi_learned_list_all_results = pi_learned_list_all_results, \n",
    "    )\n",
    "\n",
    "    # pi_opfv_tuned = OPL_OPFV_tune_phi(\n",
    "    #     dataset = dataset, \n",
    "    #     dataset_test = dataset_test, \n",
    "    #     dataset_train = dataset_train, \n",
    "    #     time_test = dataset_test[\"time\"], \n",
    "    #     round = conf.random_state + _, \n",
    "\n",
    "    #     num_time_structure_for_OPFV_reward = conf.num_time_structure_for_OPFV_reward, \n",
    "    #     phi_scalar_func_for_OPFV = conf.phi_scalar_func_for_OPFV, \n",
    "        \n",
    "    #     n_actions = dataset[\"n_actions\"], \n",
    "    #     dim_context = dataset[\"dim_context\"], \n",
    "\n",
    "    #     max_iter = conf.max_iter, \n",
    "    #     batch_size = conf.batch_size, \n",
    "    #     num_time_learn = conf.num_time_learn, \n",
    "    # )\n",
    "\n",
    "\n",
    "    end_time = time.time()\n",
    "    elapsed_time = end_time - start_time\n",
    "\n",
    "    print(f\"Execution time for OPL: {elapsed_time / 60:.3f} mins\")\n",
    "\n",
    "\n",
    "    ### Evaluate the learned policy ###\n",
    "    test_policy_value_list_DM, test_policy_value_list_IPS, test_policy_value_list_SNIPS, test_policy_value_list_SNDR = evaluate_OPL_algorithm(dataset_test=dataset_test, \n",
    "                                                                                pi_reg=pi_reg, \n",
    "                                                                                pi_ips=pi_ips, \n",
    "                                                                                pi_dr=pi_dr, \n",
    "\n",
    "                                                                                pi_prognosticator_DM=pi_prognosticator_DM, \n",
    "                                                                                pi_prognosticator_IPS=pi_prognosticator_IPS, \n",
    "                                                                                pi_prognosticator_SNIPS=pi_prognosticator_SNIPS, \n",
    "                                                                                pi_prognosticator_SNDR=pi_prognosticator_SNDR, \n",
    "                                                                                pi_opfv=pi_opfv, \n",
    "                                                                                # pi_opfv_tuned=pi_opfv_tuned, \n",
    "\n",
    "                                                                                test_policy_value_list_DM_all_results = test_policy_value_list_DM_all_results, \n",
    "                                                                                test_policy_value_list_IPS_all_results = test_policy_value_list_IPS_all_results, \n",
    "                                                                                test_policy_value_list_SNIPS_all_results = test_policy_value_list_SNIPS_all_results, \n",
    "                                                                                test_policy_value_list_SNDR_all_results = test_policy_value_list_SNDR_all_results, \n",
    "                                                                                round = _, \n",
    "                                                                                )\n",
    "    \n",
    "    ### Write the result tables to the CSV files\n",
    "    result_pi_learned = pi_learned_list_all_results.copy()\n",
    "    result_df_DM = test_policy_value_list_DM_all_results.copy()\n",
    "    result_df_IPS = test_policy_value_list_IPS_all_results.copy()\n",
    "    result_df_SNIPS = test_policy_value_list_SNIPS_all_results.copy()\n",
    "    result_df_SNDR = test_policy_value_list_SNDR_all_results.copy()\n",
    "\n",
    "    result_df_DM = pd.DataFrame(result_df_DM)\n",
    "    result_df_IPS = pd.DataFrame(result_df_IPS)\n",
    "    result_df_SNIPS = pd.DataFrame(result_df_SNIPS)\n",
    "    result_df_SNDR = pd.DataFrame(result_df_SNDR)\n",
    "\n",
    "    result_df_DM.to_csv(df_path / \"result_df_DM.csv\")\n",
    "    result_df_IPS.to_csv(df_path / \"result_df_IPS.csv\")\n",
    "    result_df_SNIPS.to_csv(df_path / \"result_df_SNIPS.csv\")\n",
    "    result_df_SNDR.to_csv(df_path / \"result_df_SNDR.csv\")\n",
    "\n",
    "    print(f\"############################################### END of ROUND {_ + 1}/{conf.n_seeds} ###############################################\\n\\n\\n\")\n",
    "\n",
    "time_whole_execution_end = time.time()\n",
    "\n",
    "time_whole_execution = time_whole_execution_end - time_whole_execution_start\n",
    "\n",
    "print(f'Execution time = {time_whole_execution / 60:.3f} mins')"
   ]
  },
  {
   "cell_type": "code",
   "execution_count": 7,
   "metadata": {},
   "outputs": [],
   "source": [
    "### Write the result tables to the CSV files\n",
    "# result_pi_learned = pi_learned_list_all_results.copy()\n",
    "result_df_DM = test_policy_value_list_DM_all_results.copy()\n",
    "result_df_IPS = test_policy_value_list_IPS_all_results.copy()\n",
    "result_df_SNIPS = test_policy_value_list_SNIPS_all_results.copy()\n",
    "result_df_SNDR = test_policy_value_list_SNDR_all_results.copy()\n",
    "\n",
    "result_df_DM = pd.DataFrame(result_df_DM)\n",
    "result_df_IPS = pd.DataFrame(result_df_IPS)\n",
    "result_df_SNIPS = pd.DataFrame(result_df_SNIPS)\n",
    "result_df_SNDR = pd.DataFrame(result_df_SNDR)\n",
    "\n",
    "result_df_DM.to_csv(df_path / \"result_df_DM.csv\")\n",
    "result_df_IPS.to_csv(df_path / \"result_df_IPS.csv\")\n",
    "result_df_SNIPS.to_csv(df_path / \"result_df_SNIPS.csv\")\n",
    "result_df_SNDR.to_csv(df_path / \"result_df_SNDR.csv\")"
   ]
  }
 ],
 "metadata": {
  "kernelspec": {
   "display_name": "hanjuku",
   "language": "python",
   "name": "python3"
  },
  "language_info": {
   "codemirror_mode": {
    "name": "ipython",
    "version": 3
   },
   "file_extension": ".py",
   "mimetype": "text/x-python",
   "name": "python",
   "nbconvert_exporter": "python",
   "pygments_lexer": "ipython3",
   "version": "3.8.18"
  }
 },
 "nbformat": 4,
 "nbformat_minor": 2
}
