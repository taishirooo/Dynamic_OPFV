{
 "cells": [
  {
   "cell_type": "code",
   "execution_count": null,
   "metadata": {},
   "outputs": [],
   "source": []
  },
  {
   "cell_type": "code",
   "execution_count": 2,
   "metadata": {},
   "outputs": [],
   "source": [
    "import numpy as np\n",
    "from synthetic_time_dynamic import DynamicActionBanditWithTime\n"
   ]
  },
  {
   "cell_type": "code",
   "execution_count": 4,
   "metadata": {},
   "outputs": [
    {
     "name": "stderr",
     "output_type": "stream",
     "text": [
      "c:\\Users\\taish\\anaconda3\\envs\\cfml\\lib\\site-packages\\scipy\\stats\\_continuous_distns.py:8246: RuntimeWarning: invalid value encountered in power\n",
      "  g1 = mu3 / np.power(mu2, 1.5)\n"
     ]
    }
   ],
   "source": [
    "import numpy as np, datetime as dt\n",
    "\n",
    "# クラスのデフォルト：2022-01-01 の Unix 秒\n",
    "base_t = int(dt.datetime.timestamp(dt.datetime(2022, 1, 1)))\n",
    "one_week = 7 * 86400\n",
    "\n",
    "birth = np.array([base_t + i * one_week for i in range(10)], dtype=int)\n",
    "\n",
    "ds = DynamicActionBanditWithTime(\n",
    "    n_actions=10, dim_context=10,\n",
    "    action_birth_time=birth,\n",
    "    beta=0.1, random_state=123\n",
    ")\n",
    "\n",
    "train = ds.obtain_batch_bandit_feedback(n_rounds=20000)\n",
    "val   = ds.obtain_batch_bandit_feedback(\n",
    "    n_rounds=5000, evaluation_mode=True, time_at_evaluation=ds.t_future - 1\n",
    ")\n"
   ]
  },
  {
   "cell_type": "code",
   "execution_count": 6,
   "metadata": {},
   "outputs": [
    {
     "data": {
      "text/plain": [
       "dict_keys(['n_rounds', 'n_actions', 'context', 'time', 'action_context', 'action', 'position', 'reward', 'expected_reward', 'g_x_phi_t_a', 'h_x_t_a', 'pi_b', 'pscore', 'available_actions'])"
      ]
     },
     "execution_count": 6,
     "metadata": {},
     "output_type": "execute_result"
    }
   ],
   "source": [
    "train.keys()"
   ]
  },
  {
   "cell_type": "code",
   "execution_count": null,
   "metadata": {},
   "outputs": [],
   "source": []
  },
  {
   "cell_type": "code",
   "execution_count": null,
   "metadata": {},
   "outputs": [],
   "source": []
  },
  {
   "cell_type": "code",
   "execution_count": null,
   "metadata": {},
   "outputs": [],
   "source": []
  },
  {
   "cell_type": "code",
   "execution_count": null,
   "metadata": {},
   "outputs": [],
   "source": []
  }
 ],
 "metadata": {
  "kernelspec": {
   "display_name": "cfml",
   "language": "python",
   "name": "python3"
  },
  "language_info": {
   "codemirror_mode": {
    "name": "ipython",
    "version": 3
   },
   "file_extension": ".py",
   "mimetype": "text/x-python",
   "name": "python",
   "nbconvert_exporter": "python",
   "pygments_lexer": "ipython3",
   "version": "3.9.20"
  }
 },
 "nbformat": 4,
 "nbformat_minor": 2
}
